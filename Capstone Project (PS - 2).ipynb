{
 "cells": [
  {
   "cell_type": "markdown",
   "id": "b6ccc42c",
   "metadata": {},
   "source": [
    "# Problem Statement 2:"
   ]
  },
  {
   "cell_type": "code",
   "execution_count": 1,
   "id": "65fb0774",
   "metadata": {},
   "outputs": [],
   "source": [
    "# An online retail store is trying to understand the various customer purchase patterns for their\n",
    "# firm, you are required to give enough evidence based insights to provide the same.\n",
    "\n",
    "# Dataset Information:\n",
    "# The online_retail.csv contains 387961 rows and 8 columns.\n",
    "\n",
    "# 1. Using the above data, find useful insights about the customer purchasing history\n",
    "# that can be an added advantage for the online retailer.\n",
    "# 2. Segment the customers based on their purchasing behavior."
   ]
  },
  {
   "cell_type": "code",
   "execution_count": 2,
   "id": "0623174d",
   "metadata": {},
   "outputs": [],
   "source": [
    "import numpy as np\n",
    "import pandas as pd\n",
    "import matplotlib.pyplot as plt\n",
    "import seaborn as sns\n",
    "import warnings\n",
    "warnings.filterwarnings(\"ignore\")"
   ]
  },
  {
   "cell_type": "code",
   "execution_count": 5,
   "id": "9b65d699",
   "metadata": {},
   "outputs": [],
   "source": [
    "df = pd.read_csv(r\"C:\\Users\\hp\\Downloads\\OnlineRetail (3).csv\",encoding ='unicode_escape')"
   ]
  },
  {
   "cell_type": "code",
   "execution_count": 6,
   "id": "321be92f",
   "metadata": {},
   "outputs": [
    {
     "data": {
      "text/html": [
       "<div>\n",
       "<style scoped>\n",
       "    .dataframe tbody tr th:only-of-type {\n",
       "        vertical-align: middle;\n",
       "    }\n",
       "\n",
       "    .dataframe tbody tr th {\n",
       "        vertical-align: top;\n",
       "    }\n",
       "\n",
       "    .dataframe thead th {\n",
       "        text-align: right;\n",
       "    }\n",
       "</style>\n",
       "<table border=\"1\" class=\"dataframe\">\n",
       "  <thead>\n",
       "    <tr style=\"text-align: right;\">\n",
       "      <th></th>\n",
       "      <th>InvoiceNo</th>\n",
       "      <th>StockCode</th>\n",
       "      <th>Description</th>\n",
       "      <th>Quantity</th>\n",
       "      <th>InvoiceDate</th>\n",
       "      <th>UnitPrice</th>\n",
       "      <th>CustomerID</th>\n",
       "      <th>Country</th>\n",
       "    </tr>\n",
       "  </thead>\n",
       "  <tbody>\n",
       "    <tr>\n",
       "      <th>0</th>\n",
       "      <td>536365</td>\n",
       "      <td>85123A</td>\n",
       "      <td>WHITE HANGING HEART T-LIGHT HOLDER</td>\n",
       "      <td>6</td>\n",
       "      <td>12/1/2010 8:26</td>\n",
       "      <td>2.55</td>\n",
       "      <td>17850.0</td>\n",
       "      <td>United Kingdom</td>\n",
       "    </tr>\n",
       "    <tr>\n",
       "      <th>1</th>\n",
       "      <td>536365</td>\n",
       "      <td>71053</td>\n",
       "      <td>WHITE METAL LANTERN</td>\n",
       "      <td>6</td>\n",
       "      <td>12/1/2010 8:26</td>\n",
       "      <td>3.39</td>\n",
       "      <td>17850.0</td>\n",
       "      <td>United Kingdom</td>\n",
       "    </tr>\n",
       "    <tr>\n",
       "      <th>2</th>\n",
       "      <td>536365</td>\n",
       "      <td>84406B</td>\n",
       "      <td>CREAM CUPID HEARTS COAT HANGER</td>\n",
       "      <td>8</td>\n",
       "      <td>12/1/2010 8:26</td>\n",
       "      <td>2.75</td>\n",
       "      <td>17850.0</td>\n",
       "      <td>United Kingdom</td>\n",
       "    </tr>\n",
       "    <tr>\n",
       "      <th>3</th>\n",
       "      <td>536365</td>\n",
       "      <td>84029G</td>\n",
       "      <td>KNITTED UNION FLAG HOT WATER BOTTLE</td>\n",
       "      <td>6</td>\n",
       "      <td>12/1/2010 8:26</td>\n",
       "      <td>3.39</td>\n",
       "      <td>17850.0</td>\n",
       "      <td>United Kingdom</td>\n",
       "    </tr>\n",
       "    <tr>\n",
       "      <th>4</th>\n",
       "      <td>536365</td>\n",
       "      <td>84029E</td>\n",
       "      <td>RED WOOLLY HOTTIE WHITE HEART.</td>\n",
       "      <td>6</td>\n",
       "      <td>12/1/2010 8:26</td>\n",
       "      <td>3.39</td>\n",
       "      <td>17850.0</td>\n",
       "      <td>United Kingdom</td>\n",
       "    </tr>\n",
       "    <tr>\n",
       "      <th>...</th>\n",
       "      <td>...</td>\n",
       "      <td>...</td>\n",
       "      <td>...</td>\n",
       "      <td>...</td>\n",
       "      <td>...</td>\n",
       "      <td>...</td>\n",
       "      <td>...</td>\n",
       "      <td>...</td>\n",
       "    </tr>\n",
       "    <tr>\n",
       "      <th>541904</th>\n",
       "      <td>581587</td>\n",
       "      <td>22613</td>\n",
       "      <td>PACK OF 20 SPACEBOY NAPKINS</td>\n",
       "      <td>12</td>\n",
       "      <td>12/9/2011 12:50</td>\n",
       "      <td>0.85</td>\n",
       "      <td>12680.0</td>\n",
       "      <td>France</td>\n",
       "    </tr>\n",
       "    <tr>\n",
       "      <th>541905</th>\n",
       "      <td>581587</td>\n",
       "      <td>22899</td>\n",
       "      <td>CHILDREN'S APRON DOLLY GIRL</td>\n",
       "      <td>6</td>\n",
       "      <td>12/9/2011 12:50</td>\n",
       "      <td>2.10</td>\n",
       "      <td>12680.0</td>\n",
       "      <td>France</td>\n",
       "    </tr>\n",
       "    <tr>\n",
       "      <th>541906</th>\n",
       "      <td>581587</td>\n",
       "      <td>23254</td>\n",
       "      <td>CHILDRENS CUTLERY DOLLY GIRL</td>\n",
       "      <td>4</td>\n",
       "      <td>12/9/2011 12:50</td>\n",
       "      <td>4.15</td>\n",
       "      <td>12680.0</td>\n",
       "      <td>France</td>\n",
       "    </tr>\n",
       "    <tr>\n",
       "      <th>541907</th>\n",
       "      <td>581587</td>\n",
       "      <td>23255</td>\n",
       "      <td>CHILDRENS CUTLERY CIRCUS PARADE</td>\n",
       "      <td>4</td>\n",
       "      <td>12/9/2011 12:50</td>\n",
       "      <td>4.15</td>\n",
       "      <td>12680.0</td>\n",
       "      <td>France</td>\n",
       "    </tr>\n",
       "    <tr>\n",
       "      <th>541908</th>\n",
       "      <td>581587</td>\n",
       "      <td>22138</td>\n",
       "      <td>BAKING SET 9 PIECE RETROSPOT</td>\n",
       "      <td>3</td>\n",
       "      <td>12/9/2011 12:50</td>\n",
       "      <td>4.95</td>\n",
       "      <td>12680.0</td>\n",
       "      <td>France</td>\n",
       "    </tr>\n",
       "  </tbody>\n",
       "</table>\n",
       "<p>541909 rows × 8 columns</p>\n",
       "</div>"
      ],
      "text/plain": [
       "       InvoiceNo StockCode                          Description  Quantity  \\\n",
       "0         536365    85123A   WHITE HANGING HEART T-LIGHT HOLDER         6   \n",
       "1         536365     71053                  WHITE METAL LANTERN         6   \n",
       "2         536365    84406B       CREAM CUPID HEARTS COAT HANGER         8   \n",
       "3         536365    84029G  KNITTED UNION FLAG HOT WATER BOTTLE         6   \n",
       "4         536365    84029E       RED WOOLLY HOTTIE WHITE HEART.         6   \n",
       "...          ...       ...                                  ...       ...   \n",
       "541904    581587     22613          PACK OF 20 SPACEBOY NAPKINS        12   \n",
       "541905    581587     22899         CHILDREN'S APRON DOLLY GIRL          6   \n",
       "541906    581587     23254        CHILDRENS CUTLERY DOLLY GIRL          4   \n",
       "541907    581587     23255      CHILDRENS CUTLERY CIRCUS PARADE         4   \n",
       "541908    581587     22138        BAKING SET 9 PIECE RETROSPOT          3   \n",
       "\n",
       "            InvoiceDate  UnitPrice  CustomerID         Country  \n",
       "0        12/1/2010 8:26       2.55     17850.0  United Kingdom  \n",
       "1        12/1/2010 8:26       3.39     17850.0  United Kingdom  \n",
       "2        12/1/2010 8:26       2.75     17850.0  United Kingdom  \n",
       "3        12/1/2010 8:26       3.39     17850.0  United Kingdom  \n",
       "4        12/1/2010 8:26       3.39     17850.0  United Kingdom  \n",
       "...                 ...        ...         ...             ...  \n",
       "541904  12/9/2011 12:50       0.85     12680.0          France  \n",
       "541905  12/9/2011 12:50       2.10     12680.0          France  \n",
       "541906  12/9/2011 12:50       4.15     12680.0          France  \n",
       "541907  12/9/2011 12:50       4.15     12680.0          France  \n",
       "541908  12/9/2011 12:50       4.95     12680.0          France  \n",
       "\n",
       "[541909 rows x 8 columns]"
      ]
     },
     "execution_count": 6,
     "metadata": {},
     "output_type": "execute_result"
    }
   ],
   "source": [
    "df"
   ]
  },
  {
   "cell_type": "code",
   "execution_count": 7,
   "id": "f9943446",
   "metadata": {},
   "outputs": [],
   "source": [
    "# lets first check the shape of our given dataset"
   ]
  },
  {
   "cell_type": "code",
   "execution_count": 8,
   "id": "6224a684",
   "metadata": {},
   "outputs": [
    {
     "data": {
      "text/plain": [
       "(541909, 8)"
      ]
     },
     "execution_count": 8,
     "metadata": {},
     "output_type": "execute_result"
    }
   ],
   "source": [
    "df.shape"
   ]
  },
  {
   "cell_type": "code",
   "execution_count": 9,
   "id": "0b10e172",
   "metadata": {},
   "outputs": [
    {
     "name": "stdout",
     "output_type": "stream",
     "text": [
      "<class 'pandas.core.frame.DataFrame'>\n",
      "RangeIndex: 541909 entries, 0 to 541908\n",
      "Data columns (total 8 columns):\n",
      " #   Column       Non-Null Count   Dtype  \n",
      "---  ------       --------------   -----  \n",
      " 0   InvoiceNo    541909 non-null  object \n",
      " 1   StockCode    541909 non-null  object \n",
      " 2   Description  540455 non-null  object \n",
      " 3   Quantity     541909 non-null  int64  \n",
      " 4   InvoiceDate  541909 non-null  object \n",
      " 5   UnitPrice    541909 non-null  float64\n",
      " 6   CustomerID   406829 non-null  float64\n",
      " 7   Country      541909 non-null  object \n",
      "dtypes: float64(2), int64(1), object(5)\n",
      "memory usage: 33.1+ MB\n"
     ]
    }
   ],
   "source": [
    "df.info()"
   ]
  },
  {
   "cell_type": "code",
   "execution_count": 10,
   "id": "003d578b",
   "metadata": {},
   "outputs": [],
   "source": [
    "# lets now check if our data contains any null values"
   ]
  },
  {
   "cell_type": "code",
   "execution_count": 11,
   "id": "507df8ca",
   "metadata": {},
   "outputs": [
    {
     "data": {
      "text/plain": [
       "InvoiceNo           0\n",
       "StockCode           0\n",
       "Description      1454\n",
       "Quantity            0\n",
       "InvoiceDate         0\n",
       "UnitPrice           0\n",
       "CustomerID     135080\n",
       "Country             0\n",
       "dtype: int64"
      ]
     },
     "execution_count": 11,
     "metadata": {},
     "output_type": "execute_result"
    }
   ],
   "source": [
    "df.isnull().sum()"
   ]
  },
  {
   "cell_type": "code",
   "execution_count": 12,
   "id": "e170bbb5",
   "metadata": {},
   "outputs": [],
   "source": [
    "# lets separate InvoiceDate to Date and Time column"
   ]
  },
  {
   "cell_type": "code",
   "execution_count": 13,
   "id": "2064bd9a",
   "metadata": {},
   "outputs": [],
   "source": [
    "df[[\"Date\",\"Time\"]] = df.InvoiceDate.str.split(\" \",expand = True)"
   ]
  },
  {
   "cell_type": "code",
   "execution_count": 14,
   "id": "f98b750d",
   "metadata": {},
   "outputs": [],
   "source": [
    "df = df.drop(columns = [\"InvoiceDate\"])\n"
   ]
  },
  {
   "cell_type": "code",
   "execution_count": 15,
   "id": "5d96211c",
   "metadata": {},
   "outputs": [
    {
     "data": {
      "text/html": [
       "<div>\n",
       "<style scoped>\n",
       "    .dataframe tbody tr th:only-of-type {\n",
       "        vertical-align: middle;\n",
       "    }\n",
       "\n",
       "    .dataframe tbody tr th {\n",
       "        vertical-align: top;\n",
       "    }\n",
       "\n",
       "    .dataframe thead th {\n",
       "        text-align: right;\n",
       "    }\n",
       "</style>\n",
       "<table border=\"1\" class=\"dataframe\">\n",
       "  <thead>\n",
       "    <tr style=\"text-align: right;\">\n",
       "      <th></th>\n",
       "      <th>InvoiceNo</th>\n",
       "      <th>StockCode</th>\n",
       "      <th>Description</th>\n",
       "      <th>Quantity</th>\n",
       "      <th>UnitPrice</th>\n",
       "      <th>CustomerID</th>\n",
       "      <th>Country</th>\n",
       "      <th>Date</th>\n",
       "      <th>Time</th>\n",
       "    </tr>\n",
       "  </thead>\n",
       "  <tbody>\n",
       "    <tr>\n",
       "      <th>0</th>\n",
       "      <td>536365</td>\n",
       "      <td>85123A</td>\n",
       "      <td>WHITE HANGING HEART T-LIGHT HOLDER</td>\n",
       "      <td>6</td>\n",
       "      <td>2.55</td>\n",
       "      <td>17850.0</td>\n",
       "      <td>United Kingdom</td>\n",
       "      <td>12/1/2010</td>\n",
       "      <td>8:26</td>\n",
       "    </tr>\n",
       "    <tr>\n",
       "      <th>1</th>\n",
       "      <td>536365</td>\n",
       "      <td>71053</td>\n",
       "      <td>WHITE METAL LANTERN</td>\n",
       "      <td>6</td>\n",
       "      <td>3.39</td>\n",
       "      <td>17850.0</td>\n",
       "      <td>United Kingdom</td>\n",
       "      <td>12/1/2010</td>\n",
       "      <td>8:26</td>\n",
       "    </tr>\n",
       "    <tr>\n",
       "      <th>2</th>\n",
       "      <td>536365</td>\n",
       "      <td>84406B</td>\n",
       "      <td>CREAM CUPID HEARTS COAT HANGER</td>\n",
       "      <td>8</td>\n",
       "      <td>2.75</td>\n",
       "      <td>17850.0</td>\n",
       "      <td>United Kingdom</td>\n",
       "      <td>12/1/2010</td>\n",
       "      <td>8:26</td>\n",
       "    </tr>\n",
       "    <tr>\n",
       "      <th>3</th>\n",
       "      <td>536365</td>\n",
       "      <td>84029G</td>\n",
       "      <td>KNITTED UNION FLAG HOT WATER BOTTLE</td>\n",
       "      <td>6</td>\n",
       "      <td>3.39</td>\n",
       "      <td>17850.0</td>\n",
       "      <td>United Kingdom</td>\n",
       "      <td>12/1/2010</td>\n",
       "      <td>8:26</td>\n",
       "    </tr>\n",
       "    <tr>\n",
       "      <th>4</th>\n",
       "      <td>536365</td>\n",
       "      <td>84029E</td>\n",
       "      <td>RED WOOLLY HOTTIE WHITE HEART.</td>\n",
       "      <td>6</td>\n",
       "      <td>3.39</td>\n",
       "      <td>17850.0</td>\n",
       "      <td>United Kingdom</td>\n",
       "      <td>12/1/2010</td>\n",
       "      <td>8:26</td>\n",
       "    </tr>\n",
       "    <tr>\n",
       "      <th>...</th>\n",
       "      <td>...</td>\n",
       "      <td>...</td>\n",
       "      <td>...</td>\n",
       "      <td>...</td>\n",
       "      <td>...</td>\n",
       "      <td>...</td>\n",
       "      <td>...</td>\n",
       "      <td>...</td>\n",
       "      <td>...</td>\n",
       "    </tr>\n",
       "    <tr>\n",
       "      <th>541904</th>\n",
       "      <td>581587</td>\n",
       "      <td>22613</td>\n",
       "      <td>PACK OF 20 SPACEBOY NAPKINS</td>\n",
       "      <td>12</td>\n",
       "      <td>0.85</td>\n",
       "      <td>12680.0</td>\n",
       "      <td>France</td>\n",
       "      <td>12/9/2011</td>\n",
       "      <td>12:50</td>\n",
       "    </tr>\n",
       "    <tr>\n",
       "      <th>541905</th>\n",
       "      <td>581587</td>\n",
       "      <td>22899</td>\n",
       "      <td>CHILDREN'S APRON DOLLY GIRL</td>\n",
       "      <td>6</td>\n",
       "      <td>2.10</td>\n",
       "      <td>12680.0</td>\n",
       "      <td>France</td>\n",
       "      <td>12/9/2011</td>\n",
       "      <td>12:50</td>\n",
       "    </tr>\n",
       "    <tr>\n",
       "      <th>541906</th>\n",
       "      <td>581587</td>\n",
       "      <td>23254</td>\n",
       "      <td>CHILDRENS CUTLERY DOLLY GIRL</td>\n",
       "      <td>4</td>\n",
       "      <td>4.15</td>\n",
       "      <td>12680.0</td>\n",
       "      <td>France</td>\n",
       "      <td>12/9/2011</td>\n",
       "      <td>12:50</td>\n",
       "    </tr>\n",
       "    <tr>\n",
       "      <th>541907</th>\n",
       "      <td>581587</td>\n",
       "      <td>23255</td>\n",
       "      <td>CHILDRENS CUTLERY CIRCUS PARADE</td>\n",
       "      <td>4</td>\n",
       "      <td>4.15</td>\n",
       "      <td>12680.0</td>\n",
       "      <td>France</td>\n",
       "      <td>12/9/2011</td>\n",
       "      <td>12:50</td>\n",
       "    </tr>\n",
       "    <tr>\n",
       "      <th>541908</th>\n",
       "      <td>581587</td>\n",
       "      <td>22138</td>\n",
       "      <td>BAKING SET 9 PIECE RETROSPOT</td>\n",
       "      <td>3</td>\n",
       "      <td>4.95</td>\n",
       "      <td>12680.0</td>\n",
       "      <td>France</td>\n",
       "      <td>12/9/2011</td>\n",
       "      <td>12:50</td>\n",
       "    </tr>\n",
       "  </tbody>\n",
       "</table>\n",
       "<p>541909 rows × 9 columns</p>\n",
       "</div>"
      ],
      "text/plain": [
       "       InvoiceNo StockCode                          Description  Quantity  \\\n",
       "0         536365    85123A   WHITE HANGING HEART T-LIGHT HOLDER         6   \n",
       "1         536365     71053                  WHITE METAL LANTERN         6   \n",
       "2         536365    84406B       CREAM CUPID HEARTS COAT HANGER         8   \n",
       "3         536365    84029G  KNITTED UNION FLAG HOT WATER BOTTLE         6   \n",
       "4         536365    84029E       RED WOOLLY HOTTIE WHITE HEART.         6   \n",
       "...          ...       ...                                  ...       ...   \n",
       "541904    581587     22613          PACK OF 20 SPACEBOY NAPKINS        12   \n",
       "541905    581587     22899         CHILDREN'S APRON DOLLY GIRL          6   \n",
       "541906    581587     23254        CHILDRENS CUTLERY DOLLY GIRL          4   \n",
       "541907    581587     23255      CHILDRENS CUTLERY CIRCUS PARADE         4   \n",
       "541908    581587     22138        BAKING SET 9 PIECE RETROSPOT          3   \n",
       "\n",
       "        UnitPrice  CustomerID         Country       Date   Time  \n",
       "0            2.55     17850.0  United Kingdom  12/1/2010   8:26  \n",
       "1            3.39     17850.0  United Kingdom  12/1/2010   8:26  \n",
       "2            2.75     17850.0  United Kingdom  12/1/2010   8:26  \n",
       "3            3.39     17850.0  United Kingdom  12/1/2010   8:26  \n",
       "4            3.39     17850.0  United Kingdom  12/1/2010   8:26  \n",
       "...           ...         ...             ...        ...    ...  \n",
       "541904       0.85     12680.0          France  12/9/2011  12:50  \n",
       "541905       2.10     12680.0          France  12/9/2011  12:50  \n",
       "541906       4.15     12680.0          France  12/9/2011  12:50  \n",
       "541907       4.15     12680.0          France  12/9/2011  12:50  \n",
       "541908       4.95     12680.0          France  12/9/2011  12:50  \n",
       "\n",
       "[541909 rows x 9 columns]"
      ]
     },
     "execution_count": 15,
     "metadata": {},
     "output_type": "execute_result"
    }
   ],
   "source": [
    "df"
   ]
  },
  {
   "cell_type": "code",
   "execution_count": 16,
   "id": "a87f0bad",
   "metadata": {},
   "outputs": [],
   "source": [
    "# convert the date column to a datetime format"
   ]
  },
  {
   "cell_type": "code",
   "execution_count": 17,
   "id": "254c8f29",
   "metadata": {},
   "outputs": [],
   "source": [
    "df['Time'] = pd.to_datetime(df['Time'], format='%H:%M').dt.hour"
   ]
  },
  {
   "cell_type": "code",
   "execution_count": 18,
   "id": "5582f07e",
   "metadata": {},
   "outputs": [],
   "source": [
    "# create bins for the date column\n",
    "bins = [0, 6, 12, 18, 24]\n",
    "labels = ['Midnight-6am', '6am-12pm', '12pm-6pm', '6pm-Midnight']\n",
    "df['Time'] = pd.cut(df['Time'], bins=bins, labels=labels)"
   ]
  },
  {
   "cell_type": "code",
   "execution_count": 19,
   "id": "addeb21d",
   "metadata": {},
   "outputs": [
    {
     "data": {
      "text/html": [
       "<div>\n",
       "<style scoped>\n",
       "    .dataframe tbody tr th:only-of-type {\n",
       "        vertical-align: middle;\n",
       "    }\n",
       "\n",
       "    .dataframe tbody tr th {\n",
       "        vertical-align: top;\n",
       "    }\n",
       "\n",
       "    .dataframe thead th {\n",
       "        text-align: right;\n",
       "    }\n",
       "</style>\n",
       "<table border=\"1\" class=\"dataframe\">\n",
       "  <thead>\n",
       "    <tr style=\"text-align: right;\">\n",
       "      <th></th>\n",
       "      <th>InvoiceNo</th>\n",
       "      <th>StockCode</th>\n",
       "      <th>Description</th>\n",
       "      <th>Quantity</th>\n",
       "      <th>UnitPrice</th>\n",
       "      <th>CustomerID</th>\n",
       "      <th>Country</th>\n",
       "      <th>Date</th>\n",
       "      <th>Time</th>\n",
       "    </tr>\n",
       "  </thead>\n",
       "  <tbody>\n",
       "    <tr>\n",
       "      <th>0</th>\n",
       "      <td>536365</td>\n",
       "      <td>85123A</td>\n",
       "      <td>WHITE HANGING HEART T-LIGHT HOLDER</td>\n",
       "      <td>6</td>\n",
       "      <td>2.55</td>\n",
       "      <td>17850.0</td>\n",
       "      <td>United Kingdom</td>\n",
       "      <td>12/1/2010</td>\n",
       "      <td>6am-12pm</td>\n",
       "    </tr>\n",
       "    <tr>\n",
       "      <th>1</th>\n",
       "      <td>536365</td>\n",
       "      <td>71053</td>\n",
       "      <td>WHITE METAL LANTERN</td>\n",
       "      <td>6</td>\n",
       "      <td>3.39</td>\n",
       "      <td>17850.0</td>\n",
       "      <td>United Kingdom</td>\n",
       "      <td>12/1/2010</td>\n",
       "      <td>6am-12pm</td>\n",
       "    </tr>\n",
       "    <tr>\n",
       "      <th>2</th>\n",
       "      <td>536365</td>\n",
       "      <td>84406B</td>\n",
       "      <td>CREAM CUPID HEARTS COAT HANGER</td>\n",
       "      <td>8</td>\n",
       "      <td>2.75</td>\n",
       "      <td>17850.0</td>\n",
       "      <td>United Kingdom</td>\n",
       "      <td>12/1/2010</td>\n",
       "      <td>6am-12pm</td>\n",
       "    </tr>\n",
       "    <tr>\n",
       "      <th>3</th>\n",
       "      <td>536365</td>\n",
       "      <td>84029G</td>\n",
       "      <td>KNITTED UNION FLAG HOT WATER BOTTLE</td>\n",
       "      <td>6</td>\n",
       "      <td>3.39</td>\n",
       "      <td>17850.0</td>\n",
       "      <td>United Kingdom</td>\n",
       "      <td>12/1/2010</td>\n",
       "      <td>6am-12pm</td>\n",
       "    </tr>\n",
       "    <tr>\n",
       "      <th>4</th>\n",
       "      <td>536365</td>\n",
       "      <td>84029E</td>\n",
       "      <td>RED WOOLLY HOTTIE WHITE HEART.</td>\n",
       "      <td>6</td>\n",
       "      <td>3.39</td>\n",
       "      <td>17850.0</td>\n",
       "      <td>United Kingdom</td>\n",
       "      <td>12/1/2010</td>\n",
       "      <td>6am-12pm</td>\n",
       "    </tr>\n",
       "    <tr>\n",
       "      <th>...</th>\n",
       "      <td>...</td>\n",
       "      <td>...</td>\n",
       "      <td>...</td>\n",
       "      <td>...</td>\n",
       "      <td>...</td>\n",
       "      <td>...</td>\n",
       "      <td>...</td>\n",
       "      <td>...</td>\n",
       "      <td>...</td>\n",
       "    </tr>\n",
       "    <tr>\n",
       "      <th>541904</th>\n",
       "      <td>581587</td>\n",
       "      <td>22613</td>\n",
       "      <td>PACK OF 20 SPACEBOY NAPKINS</td>\n",
       "      <td>12</td>\n",
       "      <td>0.85</td>\n",
       "      <td>12680.0</td>\n",
       "      <td>France</td>\n",
       "      <td>12/9/2011</td>\n",
       "      <td>6am-12pm</td>\n",
       "    </tr>\n",
       "    <tr>\n",
       "      <th>541905</th>\n",
       "      <td>581587</td>\n",
       "      <td>22899</td>\n",
       "      <td>CHILDREN'S APRON DOLLY GIRL</td>\n",
       "      <td>6</td>\n",
       "      <td>2.10</td>\n",
       "      <td>12680.0</td>\n",
       "      <td>France</td>\n",
       "      <td>12/9/2011</td>\n",
       "      <td>6am-12pm</td>\n",
       "    </tr>\n",
       "    <tr>\n",
       "      <th>541906</th>\n",
       "      <td>581587</td>\n",
       "      <td>23254</td>\n",
       "      <td>CHILDRENS CUTLERY DOLLY GIRL</td>\n",
       "      <td>4</td>\n",
       "      <td>4.15</td>\n",
       "      <td>12680.0</td>\n",
       "      <td>France</td>\n",
       "      <td>12/9/2011</td>\n",
       "      <td>6am-12pm</td>\n",
       "    </tr>\n",
       "    <tr>\n",
       "      <th>541907</th>\n",
       "      <td>581587</td>\n",
       "      <td>23255</td>\n",
       "      <td>CHILDRENS CUTLERY CIRCUS PARADE</td>\n",
       "      <td>4</td>\n",
       "      <td>4.15</td>\n",
       "      <td>12680.0</td>\n",
       "      <td>France</td>\n",
       "      <td>12/9/2011</td>\n",
       "      <td>6am-12pm</td>\n",
       "    </tr>\n",
       "    <tr>\n",
       "      <th>541908</th>\n",
       "      <td>581587</td>\n",
       "      <td>22138</td>\n",
       "      <td>BAKING SET 9 PIECE RETROSPOT</td>\n",
       "      <td>3</td>\n",
       "      <td>4.95</td>\n",
       "      <td>12680.0</td>\n",
       "      <td>France</td>\n",
       "      <td>12/9/2011</td>\n",
       "      <td>6am-12pm</td>\n",
       "    </tr>\n",
       "  </tbody>\n",
       "</table>\n",
       "<p>541909 rows × 9 columns</p>\n",
       "</div>"
      ],
      "text/plain": [
       "       InvoiceNo StockCode                          Description  Quantity  \\\n",
       "0         536365    85123A   WHITE HANGING HEART T-LIGHT HOLDER         6   \n",
       "1         536365     71053                  WHITE METAL LANTERN         6   \n",
       "2         536365    84406B       CREAM CUPID HEARTS COAT HANGER         8   \n",
       "3         536365    84029G  KNITTED UNION FLAG HOT WATER BOTTLE         6   \n",
       "4         536365    84029E       RED WOOLLY HOTTIE WHITE HEART.         6   \n",
       "...          ...       ...                                  ...       ...   \n",
       "541904    581587     22613          PACK OF 20 SPACEBOY NAPKINS        12   \n",
       "541905    581587     22899         CHILDREN'S APRON DOLLY GIRL          6   \n",
       "541906    581587     23254        CHILDRENS CUTLERY DOLLY GIRL          4   \n",
       "541907    581587     23255      CHILDRENS CUTLERY CIRCUS PARADE         4   \n",
       "541908    581587     22138        BAKING SET 9 PIECE RETROSPOT          3   \n",
       "\n",
       "        UnitPrice  CustomerID         Country       Date      Time  \n",
       "0            2.55     17850.0  United Kingdom  12/1/2010  6am-12pm  \n",
       "1            3.39     17850.0  United Kingdom  12/1/2010  6am-12pm  \n",
       "2            2.75     17850.0  United Kingdom  12/1/2010  6am-12pm  \n",
       "3            3.39     17850.0  United Kingdom  12/1/2010  6am-12pm  \n",
       "4            3.39     17850.0  United Kingdom  12/1/2010  6am-12pm  \n",
       "...           ...         ...             ...        ...       ...  \n",
       "541904       0.85     12680.0          France  12/9/2011  6am-12pm  \n",
       "541905       2.10     12680.0          France  12/9/2011  6am-12pm  \n",
       "541906       4.15     12680.0          France  12/9/2011  6am-12pm  \n",
       "541907       4.15     12680.0          France  12/9/2011  6am-12pm  \n",
       "541908       4.95     12680.0          France  12/9/2011  6am-12pm  \n",
       "\n",
       "[541909 rows x 9 columns]"
      ]
     },
     "execution_count": 19,
     "metadata": {},
     "output_type": "execute_result"
    }
   ],
   "source": [
    "df"
   ]
  },
  {
   "cell_type": "code",
   "execution_count": 20,
   "id": "83909fdf",
   "metadata": {},
   "outputs": [
    {
     "data": {
      "text/plain": [
       "12pm-6pm        308248\n",
       "6am-12pm        229044\n",
       "6pm-Midnight      4576\n",
       "Midnight-6am        41\n",
       "Name: Time, dtype: int64"
      ]
     },
     "execution_count": 20,
     "metadata": {},
     "output_type": "execute_result"
    }
   ],
   "source": [
    "# we have converted the time to 4 intervels that is: \n",
    "df[\"Time\"].value_counts()"
   ]
  },
  {
   "cell_type": "code",
   "execution_count": 21,
   "id": "34148477",
   "metadata": {},
   "outputs": [
    {
     "data": {
      "text/plain": [
       "17841.0    0.019622\n",
       "14911.0    0.014510\n",
       "14096.0    0.012605\n",
       "12748.0    0.011410\n",
       "14606.0    0.006838\n",
       "             ...   \n",
       "15070.0    0.000002\n",
       "15753.0    0.000002\n",
       "17065.0    0.000002\n",
       "16881.0    0.000002\n",
       "16995.0    0.000002\n",
       "Name: CustomerID, Length: 4372, dtype: float64"
      ]
     },
     "execution_count": 21,
     "metadata": {},
     "output_type": "execute_result"
    }
   ],
   "source": [
    "df[\"CustomerID\"].value_counts(\"InvoiceDate\")"
   ]
  },
  {
   "cell_type": "code",
   "execution_count": 22,
   "id": "2a6f57ef",
   "metadata": {},
   "outputs": [],
   "source": [
    "df.dropna(inplace= True)"
   ]
  },
  {
   "cell_type": "code",
   "execution_count": 23,
   "id": "c79f17ab",
   "metadata": {},
   "outputs": [
    {
     "data": {
      "text/plain": [
       "InvoiceNo      0\n",
       "StockCode      0\n",
       "Description    0\n",
       "Quantity       0\n",
       "UnitPrice      0\n",
       "CustomerID     0\n",
       "Country        0\n",
       "Date           0\n",
       "Time           0\n",
       "dtype: int64"
      ]
     },
     "execution_count": 23,
     "metadata": {},
     "output_type": "execute_result"
    }
   ],
   "source": [
    "df.isnull().sum()"
   ]
  },
  {
   "cell_type": "code",
   "execution_count": 24,
   "id": "30d078e0",
   "metadata": {},
   "outputs": [
    {
     "data": {
      "text/plain": [
       "(406829, 9)"
      ]
     },
     "execution_count": 24,
     "metadata": {},
     "output_type": "execute_result"
    }
   ],
   "source": [
    "df.shape"
   ]
  },
  {
   "cell_type": "code",
   "execution_count": 25,
   "id": "e8fbe0f3",
   "metadata": {},
   "outputs": [],
   "source": [
    "# here we have removed all the null values "
   ]
  },
  {
   "cell_type": "code",
   "execution_count": 26,
   "id": "86d68bef",
   "metadata": {},
   "outputs": [],
   "source": [
    "# Now lets check if we have any empty spaces present"
   ]
  },
  {
   "cell_type": "code",
   "execution_count": 27,
   "id": "1731b12e",
   "metadata": {},
   "outputs": [],
   "source": [
    "col = list(df.columns)"
   ]
  },
  {
   "cell_type": "code",
   "execution_count": 28,
   "id": "80ed37a6",
   "metadata": {
    "scrolled": true
   },
   "outputs": [
    {
     "name": "stdout",
     "output_type": "stream",
     "text": [
      "All Clear\n",
      "All Clear\n",
      "All Clear\n",
      "All Clear\n",
      "All Clear\n",
      "All Clear\n",
      "All Clear\n",
      "All Clear\n",
      "All Clear\n"
     ]
    }
   ],
   "source": [
    "for i in col:\n",
    "    if (df[i] == \" \").any():\n",
    "        print(\"Empty Spaces Present\")\n",
    "    else:\n",
    "        print(\"All Clear\")"
   ]
  },
  {
   "cell_type": "code",
   "execution_count": 29,
   "id": "425efa9c",
   "metadata": {},
   "outputs": [],
   "source": [
    "# EDA"
   ]
  },
  {
   "cell_type": "code",
   "execution_count": 30,
   "id": "f8682166",
   "metadata": {},
   "outputs": [
    {
     "name": "stdout",
     "output_type": "stream",
     "text": [
      "<class 'pandas.core.frame.DataFrame'>\n",
      "Int64Index: 406829 entries, 0 to 541908\n",
      "Data columns (total 9 columns):\n",
      " #   Column       Non-Null Count   Dtype   \n",
      "---  ------       --------------   -----   \n",
      " 0   InvoiceNo    406829 non-null  object  \n",
      " 1   StockCode    406829 non-null  object  \n",
      " 2   Description  406829 non-null  object  \n",
      " 3   Quantity     406829 non-null  int64   \n",
      " 4   UnitPrice    406829 non-null  float64 \n",
      " 5   CustomerID   406829 non-null  float64 \n",
      " 6   Country      406829 non-null  object  \n",
      " 7   Date         406829 non-null  object  \n",
      " 8   Time         406829 non-null  category\n",
      "dtypes: category(1), float64(2), int64(1), object(5)\n",
      "memory usage: 28.3+ MB\n"
     ]
    }
   ],
   "source": [
    "df.info()"
   ]
  },
  {
   "cell_type": "code",
   "execution_count": 31,
   "id": "13a6435a",
   "metadata": {},
   "outputs": [],
   "source": [
    "# so lets take put our dataset into a new variable where we can manupulate it and keep the original \n",
    "# dataset undisturbed "
   ]
  },
  {
   "cell_type": "code",
   "execution_count": 32,
   "id": "e51ac2f6",
   "metadata": {},
   "outputs": [],
   "source": [
    "df1 = df[col]"
   ]
  },
  {
   "cell_type": "code",
   "execution_count": 33,
   "id": "9d704dc4",
   "metadata": {},
   "outputs": [],
   "source": [
    "df1[\"Date\"] = pd.to_datetime(df1[\"Date\"])"
   ]
  },
  {
   "cell_type": "code",
   "execution_count": 34,
   "id": "bbb84103",
   "metadata": {},
   "outputs": [
    {
     "data": {
      "text/html": [
       "<div>\n",
       "<style scoped>\n",
       "    .dataframe tbody tr th:only-of-type {\n",
       "        vertical-align: middle;\n",
       "    }\n",
       "\n",
       "    .dataframe tbody tr th {\n",
       "        vertical-align: top;\n",
       "    }\n",
       "\n",
       "    .dataframe thead th {\n",
       "        text-align: right;\n",
       "    }\n",
       "</style>\n",
       "<table border=\"1\" class=\"dataframe\">\n",
       "  <thead>\n",
       "    <tr style=\"text-align: right;\">\n",
       "      <th></th>\n",
       "      <th>InvoiceNo</th>\n",
       "      <th>StockCode</th>\n",
       "      <th>Description</th>\n",
       "      <th>Quantity</th>\n",
       "      <th>UnitPrice</th>\n",
       "      <th>CustomerID</th>\n",
       "      <th>Country</th>\n",
       "      <th>Date</th>\n",
       "      <th>Time</th>\n",
       "    </tr>\n",
       "  </thead>\n",
       "  <tbody>\n",
       "    <tr>\n",
       "      <th>0</th>\n",
       "      <td>536365</td>\n",
       "      <td>85123A</td>\n",
       "      <td>WHITE HANGING HEART T-LIGHT HOLDER</td>\n",
       "      <td>6</td>\n",
       "      <td>2.55</td>\n",
       "      <td>17850.0</td>\n",
       "      <td>United Kingdom</td>\n",
       "      <td>2010-12-01</td>\n",
       "      <td>6am-12pm</td>\n",
       "    </tr>\n",
       "    <tr>\n",
       "      <th>1</th>\n",
       "      <td>536365</td>\n",
       "      <td>71053</td>\n",
       "      <td>WHITE METAL LANTERN</td>\n",
       "      <td>6</td>\n",
       "      <td>3.39</td>\n",
       "      <td>17850.0</td>\n",
       "      <td>United Kingdom</td>\n",
       "      <td>2010-12-01</td>\n",
       "      <td>6am-12pm</td>\n",
       "    </tr>\n",
       "    <tr>\n",
       "      <th>2</th>\n",
       "      <td>536365</td>\n",
       "      <td>84406B</td>\n",
       "      <td>CREAM CUPID HEARTS COAT HANGER</td>\n",
       "      <td>8</td>\n",
       "      <td>2.75</td>\n",
       "      <td>17850.0</td>\n",
       "      <td>United Kingdom</td>\n",
       "      <td>2010-12-01</td>\n",
       "      <td>6am-12pm</td>\n",
       "    </tr>\n",
       "    <tr>\n",
       "      <th>3</th>\n",
       "      <td>536365</td>\n",
       "      <td>84029G</td>\n",
       "      <td>KNITTED UNION FLAG HOT WATER BOTTLE</td>\n",
       "      <td>6</td>\n",
       "      <td>3.39</td>\n",
       "      <td>17850.0</td>\n",
       "      <td>United Kingdom</td>\n",
       "      <td>2010-12-01</td>\n",
       "      <td>6am-12pm</td>\n",
       "    </tr>\n",
       "    <tr>\n",
       "      <th>4</th>\n",
       "      <td>536365</td>\n",
       "      <td>84029E</td>\n",
       "      <td>RED WOOLLY HOTTIE WHITE HEART.</td>\n",
       "      <td>6</td>\n",
       "      <td>3.39</td>\n",
       "      <td>17850.0</td>\n",
       "      <td>United Kingdom</td>\n",
       "      <td>2010-12-01</td>\n",
       "      <td>6am-12pm</td>\n",
       "    </tr>\n",
       "    <tr>\n",
       "      <th>...</th>\n",
       "      <td>...</td>\n",
       "      <td>...</td>\n",
       "      <td>...</td>\n",
       "      <td>...</td>\n",
       "      <td>...</td>\n",
       "      <td>...</td>\n",
       "      <td>...</td>\n",
       "      <td>...</td>\n",
       "      <td>...</td>\n",
       "    </tr>\n",
       "    <tr>\n",
       "      <th>541904</th>\n",
       "      <td>581587</td>\n",
       "      <td>22613</td>\n",
       "      <td>PACK OF 20 SPACEBOY NAPKINS</td>\n",
       "      <td>12</td>\n",
       "      <td>0.85</td>\n",
       "      <td>12680.0</td>\n",
       "      <td>France</td>\n",
       "      <td>2011-12-09</td>\n",
       "      <td>6am-12pm</td>\n",
       "    </tr>\n",
       "    <tr>\n",
       "      <th>541905</th>\n",
       "      <td>581587</td>\n",
       "      <td>22899</td>\n",
       "      <td>CHILDREN'S APRON DOLLY GIRL</td>\n",
       "      <td>6</td>\n",
       "      <td>2.10</td>\n",
       "      <td>12680.0</td>\n",
       "      <td>France</td>\n",
       "      <td>2011-12-09</td>\n",
       "      <td>6am-12pm</td>\n",
       "    </tr>\n",
       "    <tr>\n",
       "      <th>541906</th>\n",
       "      <td>581587</td>\n",
       "      <td>23254</td>\n",
       "      <td>CHILDRENS CUTLERY DOLLY GIRL</td>\n",
       "      <td>4</td>\n",
       "      <td>4.15</td>\n",
       "      <td>12680.0</td>\n",
       "      <td>France</td>\n",
       "      <td>2011-12-09</td>\n",
       "      <td>6am-12pm</td>\n",
       "    </tr>\n",
       "    <tr>\n",
       "      <th>541907</th>\n",
       "      <td>581587</td>\n",
       "      <td>23255</td>\n",
       "      <td>CHILDRENS CUTLERY CIRCUS PARADE</td>\n",
       "      <td>4</td>\n",
       "      <td>4.15</td>\n",
       "      <td>12680.0</td>\n",
       "      <td>France</td>\n",
       "      <td>2011-12-09</td>\n",
       "      <td>6am-12pm</td>\n",
       "    </tr>\n",
       "    <tr>\n",
       "      <th>541908</th>\n",
       "      <td>581587</td>\n",
       "      <td>22138</td>\n",
       "      <td>BAKING SET 9 PIECE RETROSPOT</td>\n",
       "      <td>3</td>\n",
       "      <td>4.95</td>\n",
       "      <td>12680.0</td>\n",
       "      <td>France</td>\n",
       "      <td>2011-12-09</td>\n",
       "      <td>6am-12pm</td>\n",
       "    </tr>\n",
       "  </tbody>\n",
       "</table>\n",
       "<p>406829 rows × 9 columns</p>\n",
       "</div>"
      ],
      "text/plain": [
       "       InvoiceNo StockCode                          Description  Quantity  \\\n",
       "0         536365    85123A   WHITE HANGING HEART T-LIGHT HOLDER         6   \n",
       "1         536365     71053                  WHITE METAL LANTERN         6   \n",
       "2         536365    84406B       CREAM CUPID HEARTS COAT HANGER         8   \n",
       "3         536365    84029G  KNITTED UNION FLAG HOT WATER BOTTLE         6   \n",
       "4         536365    84029E       RED WOOLLY HOTTIE WHITE HEART.         6   \n",
       "...          ...       ...                                  ...       ...   \n",
       "541904    581587     22613          PACK OF 20 SPACEBOY NAPKINS        12   \n",
       "541905    581587     22899         CHILDREN'S APRON DOLLY GIRL          6   \n",
       "541906    581587     23254        CHILDRENS CUTLERY DOLLY GIRL          4   \n",
       "541907    581587     23255      CHILDRENS CUTLERY CIRCUS PARADE         4   \n",
       "541908    581587     22138        BAKING SET 9 PIECE RETROSPOT          3   \n",
       "\n",
       "        UnitPrice  CustomerID         Country       Date      Time  \n",
       "0            2.55     17850.0  United Kingdom 2010-12-01  6am-12pm  \n",
       "1            3.39     17850.0  United Kingdom 2010-12-01  6am-12pm  \n",
       "2            2.75     17850.0  United Kingdom 2010-12-01  6am-12pm  \n",
       "3            3.39     17850.0  United Kingdom 2010-12-01  6am-12pm  \n",
       "4            3.39     17850.0  United Kingdom 2010-12-01  6am-12pm  \n",
       "...           ...         ...             ...        ...       ...  \n",
       "541904       0.85     12680.0          France 2011-12-09  6am-12pm  \n",
       "541905       2.10     12680.0          France 2011-12-09  6am-12pm  \n",
       "541906       4.15     12680.0          France 2011-12-09  6am-12pm  \n",
       "541907       4.15     12680.0          France 2011-12-09  6am-12pm  \n",
       "541908       4.95     12680.0          France 2011-12-09  6am-12pm  \n",
       "\n",
       "[406829 rows x 9 columns]"
      ]
     },
     "execution_count": 34,
     "metadata": {},
     "output_type": "execute_result"
    }
   ],
   "source": [
    "df1"
   ]
  },
  {
   "cell_type": "code",
   "execution_count": 35,
   "id": "e03700de",
   "metadata": {},
   "outputs": [],
   "source": [
    "# So here we are going to Make new columns  as total_Purachase_amount that is to know the total amount spent by the\n",
    "# the customers for each product"
   ]
  },
  {
   "cell_type": "code",
   "execution_count": 36,
   "id": "17d34471",
   "metadata": {},
   "outputs": [],
   "source": [
    "# calculate the total purchase amount per customer\n",
    "df1['total_purchase_amount'] = df['Quantity'] * df['UnitPrice']"
   ]
  },
  {
   "cell_type": "code",
   "execution_count": 37,
   "id": "d2198846",
   "metadata": {},
   "outputs": [],
   "source": [
    "# grouping the data by customer ID\n",
    "grouped_data = df1.groupby(by='CustomerID').agg({'total_purchase_amount': 'sum'})"
   ]
  },
  {
   "cell_type": "code",
   "execution_count": 38,
   "id": "255113f1",
   "metadata": {},
   "outputs": [
    {
     "data": {
      "text/html": [
       "<div>\n",
       "<style scoped>\n",
       "    .dataframe tbody tr th:only-of-type {\n",
       "        vertical-align: middle;\n",
       "    }\n",
       "\n",
       "    .dataframe tbody tr th {\n",
       "        vertical-align: top;\n",
       "    }\n",
       "\n",
       "    .dataframe thead th {\n",
       "        text-align: right;\n",
       "    }\n",
       "</style>\n",
       "<table border=\"1\" class=\"dataframe\">\n",
       "  <thead>\n",
       "    <tr style=\"text-align: right;\">\n",
       "      <th></th>\n",
       "      <th>total_purchase_amount</th>\n",
       "    </tr>\n",
       "    <tr>\n",
       "      <th>CustomerID</th>\n",
       "      <th></th>\n",
       "    </tr>\n",
       "  </thead>\n",
       "  <tbody>\n",
       "    <tr>\n",
       "      <th>12346.0</th>\n",
       "      <td>0.00</td>\n",
       "    </tr>\n",
       "    <tr>\n",
       "      <th>12347.0</th>\n",
       "      <td>4310.00</td>\n",
       "    </tr>\n",
       "    <tr>\n",
       "      <th>12348.0</th>\n",
       "      <td>1797.24</td>\n",
       "    </tr>\n",
       "    <tr>\n",
       "      <th>12349.0</th>\n",
       "      <td>1757.55</td>\n",
       "    </tr>\n",
       "    <tr>\n",
       "      <th>12350.0</th>\n",
       "      <td>334.40</td>\n",
       "    </tr>\n",
       "    <tr>\n",
       "      <th>...</th>\n",
       "      <td>...</td>\n",
       "    </tr>\n",
       "    <tr>\n",
       "      <th>18280.0</th>\n",
       "      <td>180.60</td>\n",
       "    </tr>\n",
       "    <tr>\n",
       "      <th>18281.0</th>\n",
       "      <td>80.82</td>\n",
       "    </tr>\n",
       "    <tr>\n",
       "      <th>18282.0</th>\n",
       "      <td>176.60</td>\n",
       "    </tr>\n",
       "    <tr>\n",
       "      <th>18283.0</th>\n",
       "      <td>2094.88</td>\n",
       "    </tr>\n",
       "    <tr>\n",
       "      <th>18287.0</th>\n",
       "      <td>1837.28</td>\n",
       "    </tr>\n",
       "  </tbody>\n",
       "</table>\n",
       "<p>4372 rows × 1 columns</p>\n",
       "</div>"
      ],
      "text/plain": [
       "            total_purchase_amount\n",
       "CustomerID                       \n",
       "12346.0                      0.00\n",
       "12347.0                   4310.00\n",
       "12348.0                   1797.24\n",
       "12349.0                   1757.55\n",
       "12350.0                    334.40\n",
       "...                           ...\n",
       "18280.0                    180.60\n",
       "18281.0                     80.82\n",
       "18282.0                    176.60\n",
       "18283.0                   2094.88\n",
       "18287.0                   1837.28\n",
       "\n",
       "[4372 rows x 1 columns]"
      ]
     },
     "execution_count": 38,
     "metadata": {},
     "output_type": "execute_result"
    }
   ],
   "source": [
    "grouped_data"
   ]
  },
  {
   "cell_type": "code",
   "execution_count": 39,
   "id": "2d8e36b4",
   "metadata": {},
   "outputs": [],
   "source": [
    "import matplotlib.pyplot as plt\n",
    "import seaborn as sns"
   ]
  },
  {
   "cell_type": "code",
   "execution_count": 40,
   "id": "07c9ab43",
   "metadata": {},
   "outputs": [],
   "source": [
    "grouped_data = grouped_data.sort_values(by = [\"total_purchase_amount\"],ascending = (False))"
   ]
  },
  {
   "cell_type": "code",
   "execution_count": 41,
   "id": "5316f757",
   "metadata": {},
   "outputs": [
    {
     "data": {
      "text/html": [
       "<div>\n",
       "<style scoped>\n",
       "    .dataframe tbody tr th:only-of-type {\n",
       "        vertical-align: middle;\n",
       "    }\n",
       "\n",
       "    .dataframe tbody tr th {\n",
       "        vertical-align: top;\n",
       "    }\n",
       "\n",
       "    .dataframe thead th {\n",
       "        text-align: right;\n",
       "    }\n",
       "</style>\n",
       "<table border=\"1\" class=\"dataframe\">\n",
       "  <thead>\n",
       "    <tr style=\"text-align: right;\">\n",
       "      <th></th>\n",
       "      <th>total_purchase_amount</th>\n",
       "    </tr>\n",
       "    <tr>\n",
       "      <th>CustomerID</th>\n",
       "      <th></th>\n",
       "    </tr>\n",
       "  </thead>\n",
       "  <tbody>\n",
       "    <tr>\n",
       "      <th>14646.0</th>\n",
       "      <td>279489.02</td>\n",
       "    </tr>\n",
       "    <tr>\n",
       "      <th>18102.0</th>\n",
       "      <td>256438.49</td>\n",
       "    </tr>\n",
       "    <tr>\n",
       "      <th>17450.0</th>\n",
       "      <td>187482.17</td>\n",
       "    </tr>\n",
       "    <tr>\n",
       "      <th>14911.0</th>\n",
       "      <td>132572.62</td>\n",
       "    </tr>\n",
       "    <tr>\n",
       "      <th>12415.0</th>\n",
       "      <td>123725.45</td>\n",
       "    </tr>\n",
       "    <tr>\n",
       "      <th>...</th>\n",
       "      <td>...</td>\n",
       "    </tr>\n",
       "    <tr>\n",
       "      <th>12503.0</th>\n",
       "      <td>-1126.00</td>\n",
       "    </tr>\n",
       "    <tr>\n",
       "      <th>17603.0</th>\n",
       "      <td>-1165.30</td>\n",
       "    </tr>\n",
       "    <tr>\n",
       "      <th>14213.0</th>\n",
       "      <td>-1192.20</td>\n",
       "    </tr>\n",
       "    <tr>\n",
       "      <th>15369.0</th>\n",
       "      <td>-1592.49</td>\n",
       "    </tr>\n",
       "    <tr>\n",
       "      <th>17448.0</th>\n",
       "      <td>-4287.63</td>\n",
       "    </tr>\n",
       "  </tbody>\n",
       "</table>\n",
       "<p>4372 rows × 1 columns</p>\n",
       "</div>"
      ],
      "text/plain": [
       "            total_purchase_amount\n",
       "CustomerID                       \n",
       "14646.0                 279489.02\n",
       "18102.0                 256438.49\n",
       "17450.0                 187482.17\n",
       "14911.0                 132572.62\n",
       "12415.0                 123725.45\n",
       "...                           ...\n",
       "12503.0                  -1126.00\n",
       "17603.0                  -1165.30\n",
       "14213.0                  -1192.20\n",
       "15369.0                  -1592.49\n",
       "17448.0                  -4287.63\n",
       "\n",
       "[4372 rows x 1 columns]"
      ]
     },
     "execution_count": 41,
     "metadata": {},
     "output_type": "execute_result"
    }
   ],
   "source": [
    "grouped_data"
   ]
  },
  {
   "cell_type": "code",
   "execution_count": 42,
   "id": "f59e513e",
   "metadata": {},
   "outputs": [],
   "source": [
    "# lets take the top 5 stores where the purchase amount is more and top 5 stores with least amount purchase "
   ]
  },
  {
   "cell_type": "code",
   "execution_count": 43,
   "id": "7f354f48",
   "metadata": {},
   "outputs": [],
   "source": [
    "top5  = grouped_data.head(5)\n",
    "bottom10 = grouped_data.tail(10)"
   ]
  },
  {
   "cell_type": "code",
   "execution_count": 44,
   "id": "c5c374fe",
   "metadata": {},
   "outputs": [
    {
     "data": {
      "text/html": [
       "<div>\n",
       "<style scoped>\n",
       "    .dataframe tbody tr th:only-of-type {\n",
       "        vertical-align: middle;\n",
       "    }\n",
       "\n",
       "    .dataframe tbody tr th {\n",
       "        vertical-align: top;\n",
       "    }\n",
       "\n",
       "    .dataframe thead th {\n",
       "        text-align: right;\n",
       "    }\n",
       "</style>\n",
       "<table border=\"1\" class=\"dataframe\">\n",
       "  <thead>\n",
       "    <tr style=\"text-align: right;\">\n",
       "      <th></th>\n",
       "      <th>total_purchase_amount</th>\n",
       "    </tr>\n",
       "    <tr>\n",
       "      <th>CustomerID</th>\n",
       "      <th></th>\n",
       "    </tr>\n",
       "  </thead>\n",
       "  <tbody>\n",
       "    <tr>\n",
       "      <th>12666.0</th>\n",
       "      <td>-227.44</td>\n",
       "    </tr>\n",
       "    <tr>\n",
       "      <th>16252.0</th>\n",
       "      <td>-295.09</td>\n",
       "    </tr>\n",
       "    <tr>\n",
       "      <th>15802.0</th>\n",
       "      <td>-451.42</td>\n",
       "    </tr>\n",
       "    <tr>\n",
       "      <th>13154.0</th>\n",
       "      <td>-611.86</td>\n",
       "    </tr>\n",
       "    <tr>\n",
       "      <th>15823.0</th>\n",
       "      <td>-840.76</td>\n",
       "    </tr>\n",
       "    <tr>\n",
       "      <th>12503.0</th>\n",
       "      <td>-1126.00</td>\n",
       "    </tr>\n",
       "    <tr>\n",
       "      <th>17603.0</th>\n",
       "      <td>-1165.30</td>\n",
       "    </tr>\n",
       "    <tr>\n",
       "      <th>14213.0</th>\n",
       "      <td>-1192.20</td>\n",
       "    </tr>\n",
       "    <tr>\n",
       "      <th>15369.0</th>\n",
       "      <td>-1592.49</td>\n",
       "    </tr>\n",
       "    <tr>\n",
       "      <th>17448.0</th>\n",
       "      <td>-4287.63</td>\n",
       "    </tr>\n",
       "  </tbody>\n",
       "</table>\n",
       "</div>"
      ],
      "text/plain": [
       "            total_purchase_amount\n",
       "CustomerID                       \n",
       "12666.0                   -227.44\n",
       "16252.0                   -295.09\n",
       "15802.0                   -451.42\n",
       "13154.0                   -611.86\n",
       "15823.0                   -840.76\n",
       "12503.0                  -1126.00\n",
       "17603.0                  -1165.30\n",
       "14213.0                  -1192.20\n",
       "15369.0                  -1592.49\n",
       "17448.0                  -4287.63"
      ]
     },
     "execution_count": 44,
     "metadata": {},
     "output_type": "execute_result"
    }
   ],
   "source": [
    "bottom10"
   ]
  },
  {
   "cell_type": "code",
   "execution_count": 45,
   "id": "1773f1c7",
   "metadata": {},
   "outputs": [],
   "source": [
    "ID1 = df1.query(\"CustomerID == 14646.0\")\n",
    "ID2 = df1.query(\"CustomerID == 18102.0\")\n",
    "ID3 = df1.query(\"CustomerID == 17450.0\")\n",
    "ID4 = df1.query(\"CustomerID == 14911.0\")\n",
    "ID5 = df1.query(\"CustomerID == 12415.0\")\n",
    "\n",
    "Top_Data = pd.concat([ID1,ID2,ID3,ID4,ID5], axis=0)"
   ]
  },
  {
   "cell_type": "code",
   "execution_count": 46,
   "id": "2a3c52df",
   "metadata": {},
   "outputs": [
    {
     "data": {
      "text/html": [
       "<div>\n",
       "<style scoped>\n",
       "    .dataframe tbody tr th:only-of-type {\n",
       "        vertical-align: middle;\n",
       "    }\n",
       "\n",
       "    .dataframe tbody tr th {\n",
       "        vertical-align: top;\n",
       "    }\n",
       "\n",
       "    .dataframe thead th {\n",
       "        text-align: right;\n",
       "    }\n",
       "</style>\n",
       "<table border=\"1\" class=\"dataframe\">\n",
       "  <thead>\n",
       "    <tr style=\"text-align: right;\">\n",
       "      <th></th>\n",
       "      <th>InvoiceNo</th>\n",
       "      <th>StockCode</th>\n",
       "      <th>Description</th>\n",
       "      <th>Quantity</th>\n",
       "      <th>UnitPrice</th>\n",
       "      <th>CustomerID</th>\n",
       "      <th>Country</th>\n",
       "      <th>Date</th>\n",
       "      <th>Time</th>\n",
       "      <th>total_purchase_amount</th>\n",
       "    </tr>\n",
       "  </thead>\n",
       "  <tbody>\n",
       "    <tr>\n",
       "      <th>37952</th>\n",
       "      <td>539491</td>\n",
       "      <td>21981</td>\n",
       "      <td>PACK OF 12 WOODLAND TISSUES</td>\n",
       "      <td>12</td>\n",
       "      <td>0.29</td>\n",
       "      <td>14646.0</td>\n",
       "      <td>Netherlands</td>\n",
       "      <td>2010-12-20</td>\n",
       "      <td>6am-12pm</td>\n",
       "      <td>3.48</td>\n",
       "    </tr>\n",
       "    <tr>\n",
       "      <th>37953</th>\n",
       "      <td>539491</td>\n",
       "      <td>21986</td>\n",
       "      <td>PACK OF 12 PINK POLKADOT TISSUES</td>\n",
       "      <td>12</td>\n",
       "      <td>0.29</td>\n",
       "      <td>14646.0</td>\n",
       "      <td>Netherlands</td>\n",
       "      <td>2010-12-20</td>\n",
       "      <td>6am-12pm</td>\n",
       "      <td>3.48</td>\n",
       "    </tr>\n",
       "    <tr>\n",
       "      <th>37954</th>\n",
       "      <td>539491</td>\n",
       "      <td>22720</td>\n",
       "      <td>SET OF 3 CAKE TINS PANTRY DESIGN</td>\n",
       "      <td>2</td>\n",
       "      <td>4.95</td>\n",
       "      <td>14646.0</td>\n",
       "      <td>Netherlands</td>\n",
       "      <td>2010-12-20</td>\n",
       "      <td>6am-12pm</td>\n",
       "      <td>9.90</td>\n",
       "    </tr>\n",
       "    <tr>\n",
       "      <th>37955</th>\n",
       "      <td>539491</td>\n",
       "      <td>21931</td>\n",
       "      <td>JUMBO STORAGE BAG SUKI</td>\n",
       "      <td>1</td>\n",
       "      <td>1.95</td>\n",
       "      <td>14646.0</td>\n",
       "      <td>Netherlands</td>\n",
       "      <td>2010-12-20</td>\n",
       "      <td>6am-12pm</td>\n",
       "      <td>1.95</td>\n",
       "    </tr>\n",
       "    <tr>\n",
       "      <th>37956</th>\n",
       "      <td>539491</td>\n",
       "      <td>22613</td>\n",
       "      <td>PACK OF 20 SPACEBOY NAPKINS</td>\n",
       "      <td>2</td>\n",
       "      <td>0.85</td>\n",
       "      <td>14646.0</td>\n",
       "      <td>Netherlands</td>\n",
       "      <td>2010-12-20</td>\n",
       "      <td>6am-12pm</td>\n",
       "      <td>1.70</td>\n",
       "    </tr>\n",
       "    <tr>\n",
       "      <th>...</th>\n",
       "      <td>...</td>\n",
       "      <td>...</td>\n",
       "      <td>...</td>\n",
       "      <td>...</td>\n",
       "      <td>...</td>\n",
       "      <td>...</td>\n",
       "      <td>...</td>\n",
       "      <td>...</td>\n",
       "      <td>...</td>\n",
       "      <td>...</td>\n",
       "    </tr>\n",
       "    <tr>\n",
       "      <th>468150</th>\n",
       "      <td>576394</td>\n",
       "      <td>22196</td>\n",
       "      <td>SMALL HEART MEASURING SPOONS</td>\n",
       "      <td>160</td>\n",
       "      <td>0.72</td>\n",
       "      <td>12415.0</td>\n",
       "      <td>Australia</td>\n",
       "      <td>2011-11-15</td>\n",
       "      <td>6am-12pm</td>\n",
       "      <td>115.20</td>\n",
       "    </tr>\n",
       "    <tr>\n",
       "      <th>468151</th>\n",
       "      <td>576394</td>\n",
       "      <td>22195</td>\n",
       "      <td>LARGE HEART MEASURING SPOONS</td>\n",
       "      <td>80</td>\n",
       "      <td>1.45</td>\n",
       "      <td>12415.0</td>\n",
       "      <td>Australia</td>\n",
       "      <td>2011-11-15</td>\n",
       "      <td>6am-12pm</td>\n",
       "      <td>116.00</td>\n",
       "    </tr>\n",
       "    <tr>\n",
       "      <th>468152</th>\n",
       "      <td>576394</td>\n",
       "      <td>48194</td>\n",
       "      <td>DOORMAT HEARTS</td>\n",
       "      <td>10</td>\n",
       "      <td>7.08</td>\n",
       "      <td>12415.0</td>\n",
       "      <td>Australia</td>\n",
       "      <td>2011-11-15</td>\n",
       "      <td>6am-12pm</td>\n",
       "      <td>70.80</td>\n",
       "    </tr>\n",
       "    <tr>\n",
       "      <th>468153</th>\n",
       "      <td>576394</td>\n",
       "      <td>84992</td>\n",
       "      <td>72 SWEETHEART FAIRY CAKE CASES</td>\n",
       "      <td>120</td>\n",
       "      <td>0.42</td>\n",
       "      <td>12415.0</td>\n",
       "      <td>Australia</td>\n",
       "      <td>2011-11-15</td>\n",
       "      <td>6am-12pm</td>\n",
       "      <td>50.40</td>\n",
       "    </tr>\n",
       "    <tr>\n",
       "      <th>469139</th>\n",
       "      <td>576586</td>\n",
       "      <td>23084</td>\n",
       "      <td>RABBIT NIGHT LIGHT</td>\n",
       "      <td>240</td>\n",
       "      <td>1.79</td>\n",
       "      <td>12415.0</td>\n",
       "      <td>Australia</td>\n",
       "      <td>2011-11-15</td>\n",
       "      <td>12pm-6pm</td>\n",
       "      <td>429.60</td>\n",
       "    </tr>\n",
       "  </tbody>\n",
       "</table>\n",
       "<p>9550 rows × 10 columns</p>\n",
       "</div>"
      ],
      "text/plain": [
       "       InvoiceNo StockCode                        Description  Quantity  \\\n",
       "37952     539491     21981       PACK OF 12 WOODLAND TISSUES         12   \n",
       "37953     539491     21986   PACK OF 12 PINK POLKADOT TISSUES        12   \n",
       "37954     539491     22720  SET OF 3 CAKE TINS PANTRY DESIGN          2   \n",
       "37955     539491     21931             JUMBO STORAGE BAG SUKI         1   \n",
       "37956     539491     22613        PACK OF 20 SPACEBOY NAPKINS         2   \n",
       "...          ...       ...                                ...       ...   \n",
       "468150    576394     22196       SMALL HEART MEASURING SPOONS       160   \n",
       "468151    576394     22195       LARGE HEART MEASURING SPOONS        80   \n",
       "468152    576394     48194                     DOORMAT HEARTS        10   \n",
       "468153    576394     84992     72 SWEETHEART FAIRY CAKE CASES       120   \n",
       "469139    576586     23084                 RABBIT NIGHT LIGHT       240   \n",
       "\n",
       "        UnitPrice  CustomerID      Country       Date      Time  \\\n",
       "37952        0.29     14646.0  Netherlands 2010-12-20  6am-12pm   \n",
       "37953        0.29     14646.0  Netherlands 2010-12-20  6am-12pm   \n",
       "37954        4.95     14646.0  Netherlands 2010-12-20  6am-12pm   \n",
       "37955        1.95     14646.0  Netherlands 2010-12-20  6am-12pm   \n",
       "37956        0.85     14646.0  Netherlands 2010-12-20  6am-12pm   \n",
       "...           ...         ...          ...        ...       ...   \n",
       "468150       0.72     12415.0    Australia 2011-11-15  6am-12pm   \n",
       "468151       1.45     12415.0    Australia 2011-11-15  6am-12pm   \n",
       "468152       7.08     12415.0    Australia 2011-11-15  6am-12pm   \n",
       "468153       0.42     12415.0    Australia 2011-11-15  6am-12pm   \n",
       "469139       1.79     12415.0    Australia 2011-11-15  12pm-6pm   \n",
       "\n",
       "        total_purchase_amount  \n",
       "37952                    3.48  \n",
       "37953                    3.48  \n",
       "37954                    9.90  \n",
       "37955                    1.95  \n",
       "37956                    1.70  \n",
       "...                       ...  \n",
       "468150                 115.20  \n",
       "468151                 116.00  \n",
       "468152                  70.80  \n",
       "468153                  50.40  \n",
       "469139                 429.60  \n",
       "\n",
       "[9550 rows x 10 columns]"
      ]
     },
     "execution_count": 46,
     "metadata": {},
     "output_type": "execute_result"
    }
   ],
   "source": [
    "Top_Data"
   ]
  },
  {
   "cell_type": "code",
   "execution_count": 47,
   "id": "7e6a3364",
   "metadata": {},
   "outputs": [
    {
     "data": {
      "text/html": [
       "<div>\n",
       "<style scoped>\n",
       "    .dataframe tbody tr th:only-of-type {\n",
       "        vertical-align: middle;\n",
       "    }\n",
       "\n",
       "    .dataframe tbody tr th {\n",
       "        vertical-align: top;\n",
       "    }\n",
       "\n",
       "    .dataframe thead th {\n",
       "        text-align: right;\n",
       "    }\n",
       "</style>\n",
       "<table border=\"1\" class=\"dataframe\">\n",
       "  <thead>\n",
       "    <tr style=\"text-align: right;\">\n",
       "      <th></th>\n",
       "      <th>total_purchase_amount</th>\n",
       "    </tr>\n",
       "    <tr>\n",
       "      <th>CustomerID</th>\n",
       "      <th></th>\n",
       "    </tr>\n",
       "  </thead>\n",
       "  <tbody>\n",
       "    <tr>\n",
       "      <th>12666.0</th>\n",
       "      <td>-227.44</td>\n",
       "    </tr>\n",
       "    <tr>\n",
       "      <th>16252.0</th>\n",
       "      <td>-295.09</td>\n",
       "    </tr>\n",
       "    <tr>\n",
       "      <th>15802.0</th>\n",
       "      <td>-451.42</td>\n",
       "    </tr>\n",
       "    <tr>\n",
       "      <th>13154.0</th>\n",
       "      <td>-611.86</td>\n",
       "    </tr>\n",
       "    <tr>\n",
       "      <th>15823.0</th>\n",
       "      <td>-840.76</td>\n",
       "    </tr>\n",
       "    <tr>\n",
       "      <th>12503.0</th>\n",
       "      <td>-1126.00</td>\n",
       "    </tr>\n",
       "    <tr>\n",
       "      <th>17603.0</th>\n",
       "      <td>-1165.30</td>\n",
       "    </tr>\n",
       "    <tr>\n",
       "      <th>14213.0</th>\n",
       "      <td>-1192.20</td>\n",
       "    </tr>\n",
       "    <tr>\n",
       "      <th>15369.0</th>\n",
       "      <td>-1592.49</td>\n",
       "    </tr>\n",
       "    <tr>\n",
       "      <th>17448.0</th>\n",
       "      <td>-4287.63</td>\n",
       "    </tr>\n",
       "  </tbody>\n",
       "</table>\n",
       "</div>"
      ],
      "text/plain": [
       "            total_purchase_amount\n",
       "CustomerID                       \n",
       "12666.0                   -227.44\n",
       "16252.0                   -295.09\n",
       "15802.0                   -451.42\n",
       "13154.0                   -611.86\n",
       "15823.0                   -840.76\n",
       "12503.0                  -1126.00\n",
       "17603.0                  -1165.30\n",
       "14213.0                  -1192.20\n",
       "15369.0                  -1592.49\n",
       "17448.0                  -4287.63"
      ]
     },
     "execution_count": 47,
     "metadata": {},
     "output_type": "execute_result"
    }
   ],
   "source": [
    "bottom10"
   ]
  },
  {
   "cell_type": "code",
   "execution_count": 48,
   "id": "5e4abae4",
   "metadata": {},
   "outputs": [],
   "source": [
    "ID6 = df1.query(\"CustomerID == 12503.0\")\n",
    "ID7 = df1.query(\"CustomerID == 17603.0\")\n",
    "ID8 = df1.query(\"CustomerID == 14213.0\")\n",
    "ID9 = df1.query(\"CustomerID == 15369.0\")\n",
    "ID10 = df1.query(\"CustomerID == 17448.0\")\n",
    "ID11 = df1.query(\"CustomerID == 15823.0\")\n",
    "ID12 = df1.query(\"CustomerID == 13154.0\")\n",
    "ID13 = df1.query(\"CustomerID == 15802.0\")\n",
    "ID14 = df1.query(\"CustomerID == 16252.0\")\n",
    "ID15 = df1.query(\"CustomerID == 12666.0\")\n",
    "\n",
    "bottom_joined_data = pd.concat([ID6,ID7,ID8,ID9,ID10,ID11,ID12,ID13,ID14,ID15], axis=0)"
   ]
  },
  {
   "cell_type": "code",
   "execution_count": 49,
   "id": "76ca158e",
   "metadata": {},
   "outputs": [
    {
     "data": {
      "text/html": [
       "<div>\n",
       "<style scoped>\n",
       "    .dataframe tbody tr th:only-of-type {\n",
       "        vertical-align: middle;\n",
       "    }\n",
       "\n",
       "    .dataframe tbody tr th {\n",
       "        vertical-align: top;\n",
       "    }\n",
       "\n",
       "    .dataframe thead th {\n",
       "        text-align: right;\n",
       "    }\n",
       "</style>\n",
       "<table border=\"1\" class=\"dataframe\">\n",
       "  <thead>\n",
       "    <tr style=\"text-align: right;\">\n",
       "      <th></th>\n",
       "      <th>InvoiceNo</th>\n",
       "      <th>StockCode</th>\n",
       "      <th>Description</th>\n",
       "      <th>Quantity</th>\n",
       "      <th>UnitPrice</th>\n",
       "      <th>CustomerID</th>\n",
       "      <th>Country</th>\n",
       "      <th>Date</th>\n",
       "      <th>Time</th>\n",
       "      <th>total_purchase_amount</th>\n",
       "    </tr>\n",
       "  </thead>\n",
       "  <tbody>\n",
       "    <tr>\n",
       "      <th>45622</th>\n",
       "      <td>C540271</td>\n",
       "      <td>M</td>\n",
       "      <td>Manual</td>\n",
       "      <td>-1</td>\n",
       "      <td>1126.00</td>\n",
       "      <td>12503.0</td>\n",
       "      <td>Spain</td>\n",
       "      <td>2011-01-06</td>\n",
       "      <td>6am-12pm</td>\n",
       "      <td>-1126.00</td>\n",
       "    </tr>\n",
       "    <tr>\n",
       "      <th>122282</th>\n",
       "      <td>C546859</td>\n",
       "      <td>M</td>\n",
       "      <td>Manual</td>\n",
       "      <td>-102</td>\n",
       "      <td>5.45</td>\n",
       "      <td>17603.0</td>\n",
       "      <td>United Kingdom</td>\n",
       "      <td>2011-03-17</td>\n",
       "      <td>12pm-6pm</td>\n",
       "      <td>-555.90</td>\n",
       "    </tr>\n",
       "    <tr>\n",
       "      <th>269176</th>\n",
       "      <td>C560435</td>\n",
       "      <td>M</td>\n",
       "      <td>Manual</td>\n",
       "      <td>-1</td>\n",
       "      <td>294.92</td>\n",
       "      <td>17603.0</td>\n",
       "      <td>United Kingdom</td>\n",
       "      <td>2011-07-18</td>\n",
       "      <td>12pm-6pm</td>\n",
       "      <td>-294.92</td>\n",
       "    </tr>\n",
       "    <tr>\n",
       "      <th>269177</th>\n",
       "      <td>C560436</td>\n",
       "      <td>M</td>\n",
       "      <td>Manual</td>\n",
       "      <td>-1</td>\n",
       "      <td>705.45</td>\n",
       "      <td>17603.0</td>\n",
       "      <td>United Kingdom</td>\n",
       "      <td>2011-07-18</td>\n",
       "      <td>12pm-6pm</td>\n",
       "      <td>-705.45</td>\n",
       "    </tr>\n",
       "    <tr>\n",
       "      <th>354250</th>\n",
       "      <td>567868</td>\n",
       "      <td>84949</td>\n",
       "      <td>SILVER HANGING T-LIGHT HOLDER</td>\n",
       "      <td>6</td>\n",
       "      <td>1.65</td>\n",
       "      <td>17603.0</td>\n",
       "      <td>United Kingdom</td>\n",
       "      <td>2011-09-22</td>\n",
       "      <td>12pm-6pm</td>\n",
       "      <td>9.90</td>\n",
       "    </tr>\n",
       "    <tr>\n",
       "      <th>...</th>\n",
       "      <td>...</td>\n",
       "      <td>...</td>\n",
       "      <td>...</td>\n",
       "      <td>...</td>\n",
       "      <td>...</td>\n",
       "      <td>...</td>\n",
       "      <td>...</td>\n",
       "      <td>...</td>\n",
       "      <td>...</td>\n",
       "      <td>...</td>\n",
       "    </tr>\n",
       "    <tr>\n",
       "      <th>19448</th>\n",
       "      <td>C537860</td>\n",
       "      <td>22637</td>\n",
       "      <td>PIGGY BANK RETROSPOT</td>\n",
       "      <td>-6</td>\n",
       "      <td>2.55</td>\n",
       "      <td>16252.0</td>\n",
       "      <td>United Kingdom</td>\n",
       "      <td>2010-12-08</td>\n",
       "      <td>12pm-6pm</td>\n",
       "      <td>-15.30</td>\n",
       "    </tr>\n",
       "    <tr>\n",
       "      <th>19449</th>\n",
       "      <td>C537860</td>\n",
       "      <td>22508</td>\n",
       "      <td>DOORSTOP RETROSPOT HEART</td>\n",
       "      <td>-4</td>\n",
       "      <td>3.75</td>\n",
       "      <td>16252.0</td>\n",
       "      <td>United Kingdom</td>\n",
       "      <td>2010-12-08</td>\n",
       "      <td>12pm-6pm</td>\n",
       "      <td>-15.00</td>\n",
       "    </tr>\n",
       "    <tr>\n",
       "      <th>19450</th>\n",
       "      <td>C537860</td>\n",
       "      <td>21238</td>\n",
       "      <td>RED RETROSPOT CUP</td>\n",
       "      <td>-8</td>\n",
       "      <td>0.85</td>\n",
       "      <td>16252.0</td>\n",
       "      <td>United Kingdom</td>\n",
       "      <td>2010-12-08</td>\n",
       "      <td>12pm-6pm</td>\n",
       "      <td>-6.80</td>\n",
       "    </tr>\n",
       "    <tr>\n",
       "      <th>31982</th>\n",
       "      <td>C539037</td>\n",
       "      <td>84792</td>\n",
       "      <td>ENCHANTED BIRD COATHANGER 5 HOOK</td>\n",
       "      <td>-24</td>\n",
       "      <td>3.81</td>\n",
       "      <td>12666.0</td>\n",
       "      <td>Israel</td>\n",
       "      <td>2010-12-15</td>\n",
       "      <td>12pm-6pm</td>\n",
       "      <td>-91.44</td>\n",
       "    </tr>\n",
       "    <tr>\n",
       "      <th>31983</th>\n",
       "      <td>C539037</td>\n",
       "      <td>22474</td>\n",
       "      <td>SPACEBOY TV DINNER TRAY</td>\n",
       "      <td>-32</td>\n",
       "      <td>4.25</td>\n",
       "      <td>12666.0</td>\n",
       "      <td>Israel</td>\n",
       "      <td>2010-12-15</td>\n",
       "      <td>12pm-6pm</td>\n",
       "      <td>-136.00</td>\n",
       "    </tr>\n",
       "  </tbody>\n",
       "</table>\n",
       "<p>67 rows × 10 columns</p>\n",
       "</div>"
      ],
      "text/plain": [
       "       InvoiceNo StockCode                       Description  Quantity  \\\n",
       "45622    C540271         M                            Manual        -1   \n",
       "122282   C546859         M                            Manual      -102   \n",
       "269176   C560435         M                            Manual        -1   \n",
       "269177   C560436         M                            Manual        -1   \n",
       "354250    567868     84949     SILVER HANGING T-LIGHT HOLDER         6   \n",
       "...          ...       ...                               ...       ...   \n",
       "19448    C537860     22637             PIGGY BANK RETROSPOT         -6   \n",
       "19449    C537860     22508          DOORSTOP RETROSPOT HEART        -4   \n",
       "19450    C537860     21238                 RED RETROSPOT CUP        -8   \n",
       "31982    C539037     84792  ENCHANTED BIRD COATHANGER 5 HOOK       -24   \n",
       "31983    C539037     22474           SPACEBOY TV DINNER TRAY       -32   \n",
       "\n",
       "        UnitPrice  CustomerID         Country       Date      Time  \\\n",
       "45622     1126.00     12503.0           Spain 2011-01-06  6am-12pm   \n",
       "122282       5.45     17603.0  United Kingdom 2011-03-17  12pm-6pm   \n",
       "269176     294.92     17603.0  United Kingdom 2011-07-18  12pm-6pm   \n",
       "269177     705.45     17603.0  United Kingdom 2011-07-18  12pm-6pm   \n",
       "354250       1.65     17603.0  United Kingdom 2011-09-22  12pm-6pm   \n",
       "...           ...         ...             ...        ...       ...   \n",
       "19448        2.55     16252.0  United Kingdom 2010-12-08  12pm-6pm   \n",
       "19449        3.75     16252.0  United Kingdom 2010-12-08  12pm-6pm   \n",
       "19450        0.85     16252.0  United Kingdom 2010-12-08  12pm-6pm   \n",
       "31982        3.81     12666.0          Israel 2010-12-15  12pm-6pm   \n",
       "31983        4.25     12666.0          Israel 2010-12-15  12pm-6pm   \n",
       "\n",
       "        total_purchase_amount  \n",
       "45622                -1126.00  \n",
       "122282                -555.90  \n",
       "269176                -294.92  \n",
       "269177                -705.45  \n",
       "354250                   9.90  \n",
       "...                       ...  \n",
       "19448                  -15.30  \n",
       "19449                  -15.00  \n",
       "19450                   -6.80  \n",
       "31982                  -91.44  \n",
       "31983                 -136.00  \n",
       "\n",
       "[67 rows x 10 columns]"
      ]
     },
     "execution_count": 49,
     "metadata": {},
     "output_type": "execute_result"
    }
   ],
   "source": [
    "bottom_joined_data"
   ]
  },
  {
   "cell_type": "code",
   "execution_count": 50,
   "id": "4a10f9f8",
   "metadata": {},
   "outputs": [],
   "source": [
    "# Now lets Analyse"
   ]
  },
  {
   "cell_type": "code",
   "execution_count": 51,
   "id": "721710a8",
   "metadata": {},
   "outputs": [
    {
     "data": {
      "text/plain": [
       "EIRE              5903\n",
       "Netherlands       2085\n",
       "United Kingdom     784\n",
       "Australia          778\n",
       "Name: Country, dtype: int64"
      ]
     },
     "execution_count": 51,
     "metadata": {},
     "output_type": "execute_result"
    }
   ],
   "source": [
    "Top_Data[\"Country\"].value_counts()"
   ]
  },
  {
   "cell_type": "code",
   "execution_count": 52,
   "id": "08c233b2",
   "metadata": {},
   "outputs": [
    {
     "data": {
      "text/plain": [
       "United Kingdom    64\n",
       "Israel             2\n",
       "Spain              1\n",
       "Name: Country, dtype: int64"
      ]
     },
     "execution_count": 52,
     "metadata": {},
     "output_type": "execute_result"
    }
   ],
   "source": [
    "bottom_joined_data[\"Country\"].value_counts()"
   ]
  },
  {
   "cell_type": "code",
   "execution_count": 53,
   "id": "7292d8a7",
   "metadata": {},
   "outputs": [],
   "source": [
    "# In top data we can see countries like:\n",
    "    \n",
    "# Countries         Count\n",
    "\n",
    "# EIRE              5903\n",
    "# Netherlands       2085\n",
    "# United Kingdom     784\n",
    "# Australia          778"
   ]
  },
  {
   "cell_type": "code",
   "execution_count": 54,
   "id": "7ec6c59f",
   "metadata": {},
   "outputs": [],
   "source": [
    "# In Bottom data we can see countries like:\n",
    "\n",
    "# Countries         Count\n",
    "\n",
    "# United Kingdom     64\n",
    "#Israel             2\n",
    "# Spain              1 "
   ]
  },
  {
   "cell_type": "code",
   "execution_count": 55,
   "id": "e896d13c",
   "metadata": {},
   "outputs": [],
   "source": [
    "# And here in bottom dataset there are lot of stockcodes written as M which is manual wriiten \n",
    "# such sittuations arise when the customer is returning back the products and the data has to manualy\n",
    "# inputted in the mechine"
   ]
  },
  {
   "cell_type": "code",
   "execution_count": 56,
   "id": "ef6da91a",
   "metadata": {},
   "outputs": [],
   "source": [
    "# Now lets check the distribution of purchases done in diffrent dates from top data and bottom data within by each country  "
   ]
  },
  {
   "cell_type": "code",
   "execution_count": 57,
   "id": "48738d3f",
   "metadata": {},
   "outputs": [],
   "source": [
    "# top data"
   ]
  },
  {
   "cell_type": "code",
   "execution_count": 58,
   "id": "356d5b3e",
   "metadata": {},
   "outputs": [
    {
     "data": {
      "text/plain": [
       "<AxesSubplot:xlabel='Date', ylabel='total_purchase_amount'>"
      ]
     },
     "execution_count": 58,
     "metadata": {},
     "output_type": "execute_result"
    },
    {
     "data": {
      "image/png": "[encoded data removed]",
      "text/plain": [
       "<Figure size 1440x360 with 1 Axes>"
      ]
     },
     "metadata": {
      "needs_background": "light"
     },
     "output_type": "display_data"
    }
   ],
   "source": [
    "plt.figure(figsize = (20,5))\n",
    "sns.scatterplot(x = 'Date', y = 'total_purchase_amount',hue='Country',data = Top_Data,palette=\"Set1\")"
   ]
  },
  {
   "cell_type": "code",
   "execution_count": 59,
   "id": "45a7a368",
   "metadata": {},
   "outputs": [],
   "source": [
    "# bottom_joined_data"
   ]
  },
  {
   "cell_type": "code",
   "execution_count": 60,
   "id": "babdfe44",
   "metadata": {},
   "outputs": [
    {
     "data": {
      "text/plain": [
       "<AxesSubplot:xlabel='Date', ylabel='total_purchase_amount'>"
      ]
     },
     "execution_count": 60,
     "metadata": {},
     "output_type": "execute_result"
    },
    {
     "data": {
      "image/png": "[encoded data removed]",
      "text/plain": [
       "<Figure size 1440x360 with 1 Axes>"
      ]
     },
     "metadata": {
      "needs_background": "light"
     },
     "output_type": "display_data"
    }
   ],
   "source": [
    "plt.figure(figsize = (20,5))\n",
    "sns.scatterplot(x = 'Date', y = 'total_purchase_amount',hue='Country',data = bottom_joined_data,palette=\"Set1\")"
   ]
  },
  {
   "cell_type": "code",
   "execution_count": 61,
   "id": "67873e63",
   "metadata": {},
   "outputs": [],
   "source": [
    "# Checking the Time of Purchasing done by top best selling stores and least selling stores"
   ]
  },
  {
   "cell_type": "code",
   "execution_count": 62,
   "id": "98623cf7",
   "metadata": {},
   "outputs": [
    {
     "data": {
      "text/plain": [
       "<AxesSubplot:xlabel='Time', ylabel='total_purchase_amount'>"
      ]
     },
     "execution_count": 62,
     "metadata": {},
     "output_type": "execute_result"
    },
    {
     "data": {
      "image/png": "[encoded data removed]",
      "text/plain": [
       "<Figure size 1440x360 with 1 Axes>"
      ]
     },
     "metadata": {
      "needs_background": "light"
     },
     "output_type": "display_data"
    }
   ],
   "source": [
    "plt.figure(figsize = (20,5))\n",
    "sns.scatterplot(x = 'Time', y = 'total_purchase_amount',hue='Country',data = Top_Data,palette=\"Set1\")"
   ]
  },
  {
   "cell_type": "code",
   "execution_count": 63,
   "id": "90ff8235",
   "metadata": {},
   "outputs": [
    {
     "data": {
      "text/plain": [
       "<AxesSubplot:xlabel='Time', ylabel='total_purchase_amount'>"
      ]
     },
     "execution_count": 63,
     "metadata": {},
     "output_type": "execute_result"
    },
    {
     "data": {
      "image/png": "[encoded data removed]",
      "text/plain": [
       "<Figure size 1440x360 with 1 Axes>"
      ]
     },
     "metadata": {
      "needs_background": "light"
     },
     "output_type": "display_data"
    }
   ],
   "source": [
    "plt.figure(figsize = (20,5))\n",
    "sns.scatterplot(x = 'Time', y = 'total_purchase_amount',hue='Country',data = bottom_joined_data,palette=\"Set1\")"
   ]
  },
  {
   "cell_type": "code",
   "execution_count": 64,
   "id": "ebfdd7dd",
   "metadata": {},
   "outputs": [
    {
     "ename": "SyntaxError",
     "evalue": "invalid syntax (1849829654.py, line 1)",
     "output_type": "error",
     "traceback": [
      "\u001b[1;36m  Input \u001b[1;32mIn [64]\u001b[1;36m\u001b[0m\n\u001b[1;33m    Analyzing the purchase frequency of customers: This will give insights into how often customers make purchases,\u001b[0m\n\u001b[1;37m              ^\u001b[0m\n\u001b[1;31mSyntaxError\u001b[0m\u001b[1;31m:\u001b[0m invalid syntax\n"
     ]
    }
   ],
   "source": [
    "Analyzing the purchase frequency of customers: This will give insights into how often customers make purchases,\n",
    "which can be used to predict future purchases and tailor the marketing strategy. so for this we will be using the entire\n",
    "dataset"
   ]
  },
  {
   "cell_type": "code",
   "execution_count": 65,
   "id": "f99978da",
   "metadata": {},
   "outputs": [],
   "source": [
    "df1.index = df1[\"Date\"]"
   ]
  },
  {
   "cell_type": "code",
   "execution_count": 66,
   "id": "65cd7573",
   "metadata": {},
   "outputs": [
    {
     "data": {
      "text/html": [
       "<div>\n",
       "<style scoped>\n",
       "    .dataframe tbody tr th:only-of-type {\n",
       "        vertical-align: middle;\n",
       "    }\n",
       "\n",
       "    .dataframe tbody tr th {\n",
       "        vertical-align: top;\n",
       "    }\n",
       "\n",
       "    .dataframe thead th {\n",
       "        text-align: right;\n",
       "    }\n",
       "</style>\n",
       "<table border=\"1\" class=\"dataframe\">\n",
       "  <thead>\n",
       "    <tr style=\"text-align: right;\">\n",
       "      <th></th>\n",
       "      <th>InvoiceNo</th>\n",
       "      <th>StockCode</th>\n",
       "      <th>Description</th>\n",
       "      <th>Quantity</th>\n",
       "      <th>UnitPrice</th>\n",
       "      <th>CustomerID</th>\n",
       "      <th>Country</th>\n",
       "      <th>Date</th>\n",
       "      <th>Time</th>\n",
       "      <th>total_purchase_amount</th>\n",
       "    </tr>\n",
       "    <tr>\n",
       "      <th>Date</th>\n",
       "      <th></th>\n",
       "      <th></th>\n",
       "      <th></th>\n",
       "      <th></th>\n",
       "      <th></th>\n",
       "      <th></th>\n",
       "      <th></th>\n",
       "      <th></th>\n",
       "      <th></th>\n",
       "      <th></th>\n",
       "    </tr>\n",
       "  </thead>\n",
       "  <tbody>\n",
       "    <tr>\n",
       "      <th>2010-12-01</th>\n",
       "      <td>536365</td>\n",
       "      <td>85123A</td>\n",
       "      <td>WHITE HANGING HEART T-LIGHT HOLDER</td>\n",
       "      <td>6</td>\n",
       "      <td>2.55</td>\n",
       "      <td>17850.0</td>\n",
       "      <td>United Kingdom</td>\n",
       "      <td>2010-12-01</td>\n",
       "      <td>6am-12pm</td>\n",
       "      <td>15.30</td>\n",
       "    </tr>\n",
       "    <tr>\n",
       "      <th>2010-12-01</th>\n",
       "      <td>536365</td>\n",
       "      <td>71053</td>\n",
       "      <td>WHITE METAL LANTERN</td>\n",
       "      <td>6</td>\n",
       "      <td>3.39</td>\n",
       "      <td>17850.0</td>\n",
       "      <td>United Kingdom</td>\n",
       "      <td>2010-12-01</td>\n",
       "      <td>6am-12pm</td>\n",
       "      <td>20.34</td>\n",
       "    </tr>\n",
       "    <tr>\n",
       "      <th>2010-12-01</th>\n",
       "      <td>536365</td>\n",
       "      <td>84406B</td>\n",
       "      <td>CREAM CUPID HEARTS COAT HANGER</td>\n",
       "      <td>8</td>\n",
       "      <td>2.75</td>\n",
       "      <td>17850.0</td>\n",
       "      <td>United Kingdom</td>\n",
       "      <td>2010-12-01</td>\n",
       "      <td>6am-12pm</td>\n",
       "      <td>22.00</td>\n",
       "    </tr>\n",
       "    <tr>\n",
       "      <th>2010-12-01</th>\n",
       "      <td>536365</td>\n",
       "      <td>84029G</td>\n",
       "      <td>KNITTED UNION FLAG HOT WATER BOTTLE</td>\n",
       "      <td>6</td>\n",
       "      <td>3.39</td>\n",
       "      <td>17850.0</td>\n",
       "      <td>United Kingdom</td>\n",
       "      <td>2010-12-01</td>\n",
       "      <td>6am-12pm</td>\n",
       "      <td>20.34</td>\n",
       "    </tr>\n",
       "    <tr>\n",
       "      <th>2010-12-01</th>\n",
       "      <td>536365</td>\n",
       "      <td>84029E</td>\n",
       "      <td>RED WOOLLY HOTTIE WHITE HEART.</td>\n",
       "      <td>6</td>\n",
       "      <td>3.39</td>\n",
       "      <td>17850.0</td>\n",
       "      <td>United Kingdom</td>\n",
       "      <td>2010-12-01</td>\n",
       "      <td>6am-12pm</td>\n",
       "      <td>20.34</td>\n",
       "    </tr>\n",
       "    <tr>\n",
       "      <th>...</th>\n",
       "      <td>...</td>\n",
       "      <td>...</td>\n",
       "      <td>...</td>\n",
       "      <td>...</td>\n",
       "      <td>...</td>\n",
       "      <td>...</td>\n",
       "      <td>...</td>\n",
       "      <td>...</td>\n",
       "      <td>...</td>\n",
       "      <td>...</td>\n",
       "    </tr>\n",
       "    <tr>\n",
       "      <th>2011-12-09</th>\n",
       "      <td>581587</td>\n",
       "      <td>22613</td>\n",
       "      <td>PACK OF 20 SPACEBOY NAPKINS</td>\n",
       "      <td>12</td>\n",
       "      <td>0.85</td>\n",
       "      <td>12680.0</td>\n",
       "      <td>France</td>\n",
       "      <td>2011-12-09</td>\n",
       "      <td>6am-12pm</td>\n",
       "      <td>10.20</td>\n",
       "    </tr>\n",
       "    <tr>\n",
       "      <th>2011-12-09</th>\n",
       "      <td>581587</td>\n",
       "      <td>22899</td>\n",
       "      <td>CHILDREN'S APRON DOLLY GIRL</td>\n",
       "      <td>6</td>\n",
       "      <td>2.10</td>\n",
       "      <td>12680.0</td>\n",
       "      <td>France</td>\n",
       "      <td>2011-12-09</td>\n",
       "      <td>6am-12pm</td>\n",
       "      <td>12.60</td>\n",
       "    </tr>\n",
       "    <tr>\n",
       "      <th>2011-12-09</th>\n",
       "      <td>581587</td>\n",
       "      <td>23254</td>\n",
       "      <td>CHILDRENS CUTLERY DOLLY GIRL</td>\n",
       "      <td>4</td>\n",
       "      <td>4.15</td>\n",
       "      <td>12680.0</td>\n",
       "      <td>France</td>\n",
       "      <td>2011-12-09</td>\n",
       "      <td>6am-12pm</td>\n",
       "      <td>16.60</td>\n",
       "    </tr>\n",
       "    <tr>\n",
       "      <th>2011-12-09</th>\n",
       "      <td>581587</td>\n",
       "      <td>23255</td>\n",
       "      <td>CHILDRENS CUTLERY CIRCUS PARADE</td>\n",
       "      <td>4</td>\n",
       "      <td>4.15</td>\n",
       "      <td>12680.0</td>\n",
       "      <td>France</td>\n",
       "      <td>2011-12-09</td>\n",
       "      <td>6am-12pm</td>\n",
       "      <td>16.60</td>\n",
       "    </tr>\n",
       "    <tr>\n",
       "      <th>2011-12-09</th>\n",
       "      <td>581587</td>\n",
       "      <td>22138</td>\n",
       "      <td>BAKING SET 9 PIECE RETROSPOT</td>\n",
       "      <td>3</td>\n",
       "      <td>4.95</td>\n",
       "      <td>12680.0</td>\n",
       "      <td>France</td>\n",
       "      <td>2011-12-09</td>\n",
       "      <td>6am-12pm</td>\n",
       "      <td>14.85</td>\n",
       "    </tr>\n",
       "  </tbody>\n",
       "</table>\n",
       "<p>406829 rows × 10 columns</p>\n",
       "</div>"
      ],
      "text/plain": [
       "           InvoiceNo StockCode                          Description  Quantity  \\\n",
       "Date                                                                            \n",
       "2010-12-01    536365    85123A   WHITE HANGING HEART T-LIGHT HOLDER         6   \n",
       "2010-12-01    536365     71053                  WHITE METAL LANTERN         6   \n",
       "2010-12-01    536365    84406B       CREAM CUPID HEARTS COAT HANGER         8   \n",
       "2010-12-01    536365    84029G  KNITTED UNION FLAG HOT WATER BOTTLE         6   \n",
       "2010-12-01    536365    84029E       RED WOOLLY HOTTIE WHITE HEART.         6   \n",
       "...              ...       ...                                  ...       ...   \n",
       "2011-12-09    581587     22613          PACK OF 20 SPACEBOY NAPKINS        12   \n",
       "2011-12-09    581587     22899         CHILDREN'S APRON DOLLY GIRL          6   \n",
       "2011-12-09    581587     23254        CHILDRENS CUTLERY DOLLY GIRL          4   \n",
       "2011-12-09    581587     23255      CHILDRENS CUTLERY CIRCUS PARADE         4   \n",
       "2011-12-09    581587     22138        BAKING SET 9 PIECE RETROSPOT          3   \n",
       "\n",
       "            UnitPrice  CustomerID         Country       Date      Time  \\\n",
       "Date                                                                     \n",
       "2010-12-01       2.55     17850.0  United Kingdom 2010-12-01  6am-12pm   \n",
       "2010-12-01       3.39     17850.0  United Kingdom 2010-12-01  6am-12pm   \n",
       "2010-12-01       2.75     17850.0  United Kingdom 2010-12-01  6am-12pm   \n",
       "2010-12-01       3.39     17850.0  United Kingdom 2010-12-01  6am-12pm   \n",
       "2010-12-01       3.39     17850.0  United Kingdom 2010-12-01  6am-12pm   \n",
       "...               ...         ...             ...        ...       ...   \n",
       "2011-12-09       0.85     12680.0          France 2011-12-09  6am-12pm   \n",
       "2011-12-09       2.10     12680.0          France 2011-12-09  6am-12pm   \n",
       "2011-12-09       4.15     12680.0          France 2011-12-09  6am-12pm   \n",
       "2011-12-09       4.15     12680.0          France 2011-12-09  6am-12pm   \n",
       "2011-12-09       4.95     12680.0          France 2011-12-09  6am-12pm   \n",
       "\n",
       "            total_purchase_amount  \n",
       "Date                               \n",
       "2010-12-01                  15.30  \n",
       "2010-12-01                  20.34  \n",
       "2010-12-01                  22.00  \n",
       "2010-12-01                  20.34  \n",
       "2010-12-01                  20.34  \n",
       "...                           ...  \n",
       "2011-12-09                  10.20  \n",
       "2011-12-09                  12.60  \n",
       "2011-12-09                  16.60  \n",
       "2011-12-09                  16.60  \n",
       "2011-12-09                  14.85  \n",
       "\n",
       "[406829 rows x 10 columns]"
      ]
     },
     "execution_count": 66,
     "metadata": {},
     "output_type": "execute_result"
    }
   ],
   "source": [
    "df1"
   ]
  },
  {
   "cell_type": "code",
   "execution_count": 67,
   "id": "3d8fc43f",
   "metadata": {},
   "outputs": [
    {
     "data": {
      "text/plain": [
       "<AxesSubplot:xlabel='Date'>"
      ]
     },
     "execution_count": 67,
     "metadata": {},
     "output_type": "execute_result"
    },
    {
     "data": {
      "image/png": "[encoded data removed]",
      "text/plain": [
       "<Figure size 1080x360 with 1 Axes>"
      ]
     },
     "metadata": {
      "needs_background": "light"
     },
     "output_type": "display_data"
    }
   ],
   "source": [
    "plt.figure(figsize = (15,5))\n",
    "df1[\"Quantity\"].plot()"
   ]
  },
  {
   "cell_type": "code",
   "execution_count": 68,
   "id": "09febe1e",
   "metadata": {},
   "outputs": [],
   "source": [
    "# from the above data we can see that starting of evey year there is a huge reqirment of materials "
   ]
  },
  {
   "cell_type": "code",
   "execution_count": 69,
   "id": "e21b368b",
   "metadata": {},
   "outputs": [],
   "source": [
    "# Now lets check the corelation between each features"
   ]
  },
  {
   "cell_type": "code",
   "execution_count": 70,
   "id": "d8c91cf5",
   "metadata": {},
   "outputs": [
    {
     "data": {
      "text/plain": [
       "<AxesSubplot:>"
      ]
     },
     "execution_count": 70,
     "metadata": {},
     "output_type": "execute_result"
    },
    {
     "data": {
      "image/png": "[encoded data removed]",
      "text/plain": [
       "<Figure size 360x360 with 2 Axes>"
      ]
     },
     "metadata": {
      "needs_background": "light"
     },
     "output_type": "display_data"
    }
   ],
   "source": [
    "plt.figure(figsize = (5,5))\n",
    "sns.heatmap(df.corr(),annot = True,cmap = \"Oranges\")"
   ]
  },
  {
   "cell_type": "code",
   "execution_count": 71,
   "id": "13f50ea0",
   "metadata": {},
   "outputs": [],
   "source": [
    "# when we check the corralation graph we are unable to obtain any usfull insights so we are ignoring this "
   ]
  },
  {
   "cell_type": "code",
   "execution_count": 72,
   "id": "65515a60",
   "metadata": {},
   "outputs": [],
   "source": [
    "# Model Selection"
   ]
  },
  {
   "cell_type": "code",
   "execution_count": 73,
   "id": "e482a5ce",
   "metadata": {},
   "outputs": [],
   "source": [
    "df1.index = df.index"
   ]
  },
  {
   "cell_type": "code",
   "execution_count": 74,
   "id": "5c1cd68f",
   "metadata": {},
   "outputs": [
    {
     "data": {
      "text/html": [
       "<div>\n",
       "<style scoped>\n",
       "    .dataframe tbody tr th:only-of-type {\n",
       "        vertical-align: middle;\n",
       "    }\n",
       "\n",
       "    .dataframe tbody tr th {\n",
       "        vertical-align: top;\n",
       "    }\n",
       "\n",
       "    .dataframe thead th {\n",
       "        text-align: right;\n",
       "    }\n",
       "</style>\n",
       "<table border=\"1\" class=\"dataframe\">\n",
       "  <thead>\n",
       "    <tr style=\"text-align: right;\">\n",
       "      <th></th>\n",
       "      <th>InvoiceNo</th>\n",
       "      <th>StockCode</th>\n",
       "      <th>Description</th>\n",
       "      <th>Quantity</th>\n",
       "      <th>UnitPrice</th>\n",
       "      <th>CustomerID</th>\n",
       "      <th>Country</th>\n",
       "      <th>Date</th>\n",
       "      <th>Time</th>\n",
       "      <th>total_purchase_amount</th>\n",
       "    </tr>\n",
       "  </thead>\n",
       "  <tbody>\n",
       "    <tr>\n",
       "      <th>0</th>\n",
       "      <td>536365</td>\n",
       "      <td>85123A</td>\n",
       "      <td>WHITE HANGING HEART T-LIGHT HOLDER</td>\n",
       "      <td>6</td>\n",
       "      <td>2.55</td>\n",
       "      <td>17850.0</td>\n",
       "      <td>United Kingdom</td>\n",
       "      <td>2010-12-01</td>\n",
       "      <td>6am-12pm</td>\n",
       "      <td>15.30</td>\n",
       "    </tr>\n",
       "    <tr>\n",
       "      <th>1</th>\n",
       "      <td>536365</td>\n",
       "      <td>71053</td>\n",
       "      <td>WHITE METAL LANTERN</td>\n",
       "      <td>6</td>\n",
       "      <td>3.39</td>\n",
       "      <td>17850.0</td>\n",
       "      <td>United Kingdom</td>\n",
       "      <td>2010-12-01</td>\n",
       "      <td>6am-12pm</td>\n",
       "      <td>20.34</td>\n",
       "    </tr>\n",
       "    <tr>\n",
       "      <th>2</th>\n",
       "      <td>536365</td>\n",
       "      <td>84406B</td>\n",
       "      <td>CREAM CUPID HEARTS COAT HANGER</td>\n",
       "      <td>8</td>\n",
       "      <td>2.75</td>\n",
       "      <td>17850.0</td>\n",
       "      <td>United Kingdom</td>\n",
       "      <td>2010-12-01</td>\n",
       "      <td>6am-12pm</td>\n",
       "      <td>22.00</td>\n",
       "    </tr>\n",
       "    <tr>\n",
       "      <th>3</th>\n",
       "      <td>536365</td>\n",
       "      <td>84029G</td>\n",
       "      <td>KNITTED UNION FLAG HOT WATER BOTTLE</td>\n",
       "      <td>6</td>\n",
       "      <td>3.39</td>\n",
       "      <td>17850.0</td>\n",
       "      <td>United Kingdom</td>\n",
       "      <td>2010-12-01</td>\n",
       "      <td>6am-12pm</td>\n",
       "      <td>20.34</td>\n",
       "    </tr>\n",
       "    <tr>\n",
       "      <th>4</th>\n",
       "      <td>536365</td>\n",
       "      <td>84029E</td>\n",
       "      <td>RED WOOLLY HOTTIE WHITE HEART.</td>\n",
       "      <td>6</td>\n",
       "      <td>3.39</td>\n",
       "      <td>17850.0</td>\n",
       "      <td>United Kingdom</td>\n",
       "      <td>2010-12-01</td>\n",
       "      <td>6am-12pm</td>\n",
       "      <td>20.34</td>\n",
       "    </tr>\n",
       "    <tr>\n",
       "      <th>...</th>\n",
       "      <td>...</td>\n",
       "      <td>...</td>\n",
       "      <td>...</td>\n",
       "      <td>...</td>\n",
       "      <td>...</td>\n",
       "      <td>...</td>\n",
       "      <td>...</td>\n",
       "      <td>...</td>\n",
       "      <td>...</td>\n",
       "      <td>...</td>\n",
       "    </tr>\n",
       "    <tr>\n",
       "      <th>541904</th>\n",
       "      <td>581587</td>\n",
       "      <td>22613</td>\n",
       "      <td>PACK OF 20 SPACEBOY NAPKINS</td>\n",
       "      <td>12</td>\n",
       "      <td>0.85</td>\n",
       "      <td>12680.0</td>\n",
       "      <td>France</td>\n",
       "      <td>2011-12-09</td>\n",
       "      <td>6am-12pm</td>\n",
       "      <td>10.20</td>\n",
       "    </tr>\n",
       "    <tr>\n",
       "      <th>541905</th>\n",
       "      <td>581587</td>\n",
       "      <td>22899</td>\n",
       "      <td>CHILDREN'S APRON DOLLY GIRL</td>\n",
       "      <td>6</td>\n",
       "      <td>2.10</td>\n",
       "      <td>12680.0</td>\n",
       "      <td>France</td>\n",
       "      <td>2011-12-09</td>\n",
       "      <td>6am-12pm</td>\n",
       "      <td>12.60</td>\n",
       "    </tr>\n",
       "    <tr>\n",
       "      <th>541906</th>\n",
       "      <td>581587</td>\n",
       "      <td>23254</td>\n",
       "      <td>CHILDRENS CUTLERY DOLLY GIRL</td>\n",
       "      <td>4</td>\n",
       "      <td>4.15</td>\n",
       "      <td>12680.0</td>\n",
       "      <td>France</td>\n",
       "      <td>2011-12-09</td>\n",
       "      <td>6am-12pm</td>\n",
       "      <td>16.60</td>\n",
       "    </tr>\n",
       "    <tr>\n",
       "      <th>541907</th>\n",
       "      <td>581587</td>\n",
       "      <td>23255</td>\n",
       "      <td>CHILDRENS CUTLERY CIRCUS PARADE</td>\n",
       "      <td>4</td>\n",
       "      <td>4.15</td>\n",
       "      <td>12680.0</td>\n",
       "      <td>France</td>\n",
       "      <td>2011-12-09</td>\n",
       "      <td>6am-12pm</td>\n",
       "      <td>16.60</td>\n",
       "    </tr>\n",
       "    <tr>\n",
       "      <th>541908</th>\n",
       "      <td>581587</td>\n",
       "      <td>22138</td>\n",
       "      <td>BAKING SET 9 PIECE RETROSPOT</td>\n",
       "      <td>3</td>\n",
       "      <td>4.95</td>\n",
       "      <td>12680.0</td>\n",
       "      <td>France</td>\n",
       "      <td>2011-12-09</td>\n",
       "      <td>6am-12pm</td>\n",
       "      <td>14.85</td>\n",
       "    </tr>\n",
       "  </tbody>\n",
       "</table>\n",
       "<p>406829 rows × 10 columns</p>\n",
       "</div>"
      ],
      "text/plain": [
       "       InvoiceNo StockCode                          Description  Quantity  \\\n",
       "0         536365    85123A   WHITE HANGING HEART T-LIGHT HOLDER         6   \n",
       "1         536365     71053                  WHITE METAL LANTERN         6   \n",
       "2         536365    84406B       CREAM CUPID HEARTS COAT HANGER         8   \n",
       "3         536365    84029G  KNITTED UNION FLAG HOT WATER BOTTLE         6   \n",
       "4         536365    84029E       RED WOOLLY HOTTIE WHITE HEART.         6   \n",
       "...          ...       ...                                  ...       ...   \n",
       "541904    581587     22613          PACK OF 20 SPACEBOY NAPKINS        12   \n",
       "541905    581587     22899         CHILDREN'S APRON DOLLY GIRL          6   \n",
       "541906    581587     23254        CHILDRENS CUTLERY DOLLY GIRL          4   \n",
       "541907    581587     23255      CHILDRENS CUTLERY CIRCUS PARADE         4   \n",
       "541908    581587     22138        BAKING SET 9 PIECE RETROSPOT          3   \n",
       "\n",
       "        UnitPrice  CustomerID         Country       Date      Time  \\\n",
       "0            2.55     17850.0  United Kingdom 2010-12-01  6am-12pm   \n",
       "1            3.39     17850.0  United Kingdom 2010-12-01  6am-12pm   \n",
       "2            2.75     17850.0  United Kingdom 2010-12-01  6am-12pm   \n",
       "3            3.39     17850.0  United Kingdom 2010-12-01  6am-12pm   \n",
       "4            3.39     17850.0  United Kingdom 2010-12-01  6am-12pm   \n",
       "...           ...         ...             ...        ...       ...   \n",
       "541904       0.85     12680.0          France 2011-12-09  6am-12pm   \n",
       "541905       2.10     12680.0          France 2011-12-09  6am-12pm   \n",
       "541906       4.15     12680.0          France 2011-12-09  6am-12pm   \n",
       "541907       4.15     12680.0          France 2011-12-09  6am-12pm   \n",
       "541908       4.95     12680.0          France 2011-12-09  6am-12pm   \n",
       "\n",
       "        total_purchase_amount  \n",
       "0                       15.30  \n",
       "1                       20.34  \n",
       "2                       22.00  \n",
       "3                       20.34  \n",
       "4                       20.34  \n",
       "...                       ...  \n",
       "541904                  10.20  \n",
       "541905                  12.60  \n",
       "541906                  16.60  \n",
       "541907                  16.60  \n",
       "541908                  14.85  \n",
       "\n",
       "[406829 rows x 10 columns]"
      ]
     },
     "execution_count": 74,
     "metadata": {},
     "output_type": "execute_result"
    }
   ],
   "source": [
    "df1"
   ]
  },
  {
   "cell_type": "code",
   "execution_count": 75,
   "id": "f191120f",
   "metadata": {},
   "outputs": [],
   "source": [
    "# K-Means Clustering: This involves grouping customers based on their spending patterns and frequency of purchases.\n"
   ]
  },
  {
   "cell_type": "code",
   "execution_count": 76,
   "id": "5f0c8fb3",
   "metadata": {},
   "outputs": [],
   "source": [
    "# Droping Unwanted Columns"
   ]
  },
  {
   "cell_type": "code",
   "execution_count": 77,
   "id": "8def4aec",
   "metadata": {},
   "outputs": [
    {
     "data": {
      "text/html": [
       "<div>\n",
       "<style scoped>\n",
       "    .dataframe tbody tr th:only-of-type {\n",
       "        vertical-align: middle;\n",
       "    }\n",
       "\n",
       "    .dataframe tbody tr th {\n",
       "        vertical-align: top;\n",
       "    }\n",
       "\n",
       "    .dataframe thead th {\n",
       "        text-align: right;\n",
       "    }\n",
       "</style>\n",
       "<table border=\"1\" class=\"dataframe\">\n",
       "  <thead>\n",
       "    <tr style=\"text-align: right;\">\n",
       "      <th></th>\n",
       "      <th>InvoiceNo</th>\n",
       "      <th>StockCode</th>\n",
       "      <th>Description</th>\n",
       "      <th>Quantity</th>\n",
       "      <th>UnitPrice</th>\n",
       "      <th>CustomerID</th>\n",
       "      <th>Country</th>\n",
       "      <th>Date</th>\n",
       "      <th>Time</th>\n",
       "      <th>total_purchase_amount</th>\n",
       "    </tr>\n",
       "  </thead>\n",
       "  <tbody>\n",
       "    <tr>\n",
       "      <th>0</th>\n",
       "      <td>536365</td>\n",
       "      <td>85123A</td>\n",
       "      <td>WHITE HANGING HEART T-LIGHT HOLDER</td>\n",
       "      <td>6</td>\n",
       "      <td>2.55</td>\n",
       "      <td>17850.0</td>\n",
       "      <td>United Kingdom</td>\n",
       "      <td>2010-12-01</td>\n",
       "      <td>6am-12pm</td>\n",
       "      <td>15.30</td>\n",
       "    </tr>\n",
       "    <tr>\n",
       "      <th>1</th>\n",
       "      <td>536365</td>\n",
       "      <td>71053</td>\n",
       "      <td>WHITE METAL LANTERN</td>\n",
       "      <td>6</td>\n",
       "      <td>3.39</td>\n",
       "      <td>17850.0</td>\n",
       "      <td>United Kingdom</td>\n",
       "      <td>2010-12-01</td>\n",
       "      <td>6am-12pm</td>\n",
       "      <td>20.34</td>\n",
       "    </tr>\n",
       "    <tr>\n",
       "      <th>2</th>\n",
       "      <td>536365</td>\n",
       "      <td>84406B</td>\n",
       "      <td>CREAM CUPID HEARTS COAT HANGER</td>\n",
       "      <td>8</td>\n",
       "      <td>2.75</td>\n",
       "      <td>17850.0</td>\n",
       "      <td>United Kingdom</td>\n",
       "      <td>2010-12-01</td>\n",
       "      <td>6am-12pm</td>\n",
       "      <td>22.00</td>\n",
       "    </tr>\n",
       "    <tr>\n",
       "      <th>3</th>\n",
       "      <td>536365</td>\n",
       "      <td>84029G</td>\n",
       "      <td>KNITTED UNION FLAG HOT WATER BOTTLE</td>\n",
       "      <td>6</td>\n",
       "      <td>3.39</td>\n",
       "      <td>17850.0</td>\n",
       "      <td>United Kingdom</td>\n",
       "      <td>2010-12-01</td>\n",
       "      <td>6am-12pm</td>\n",
       "      <td>20.34</td>\n",
       "    </tr>\n",
       "    <tr>\n",
       "      <th>4</th>\n",
       "      <td>536365</td>\n",
       "      <td>84029E</td>\n",
       "      <td>RED WOOLLY HOTTIE WHITE HEART.</td>\n",
       "      <td>6</td>\n",
       "      <td>3.39</td>\n",
       "      <td>17850.0</td>\n",
       "      <td>United Kingdom</td>\n",
       "      <td>2010-12-01</td>\n",
       "      <td>6am-12pm</td>\n",
       "      <td>20.34</td>\n",
       "    </tr>\n",
       "  </tbody>\n",
       "</table>\n",
       "</div>"
      ],
      "text/plain": [
       "  InvoiceNo StockCode                          Description  Quantity  \\\n",
       "0    536365    85123A   WHITE HANGING HEART T-LIGHT HOLDER         6   \n",
       "1    536365     71053                  WHITE METAL LANTERN         6   \n",
       "2    536365    84406B       CREAM CUPID HEARTS COAT HANGER         8   \n",
       "3    536365    84029G  KNITTED UNION FLAG HOT WATER BOTTLE         6   \n",
       "4    536365    84029E       RED WOOLLY HOTTIE WHITE HEART.         6   \n",
       "\n",
       "   UnitPrice  CustomerID         Country       Date      Time  \\\n",
       "0       2.55     17850.0  United Kingdom 2010-12-01  6am-12pm   \n",
       "1       3.39     17850.0  United Kingdom 2010-12-01  6am-12pm   \n",
       "2       2.75     17850.0  United Kingdom 2010-12-01  6am-12pm   \n",
       "3       3.39     17850.0  United Kingdom 2010-12-01  6am-12pm   \n",
       "4       3.39     17850.0  United Kingdom 2010-12-01  6am-12pm   \n",
       "\n",
       "   total_purchase_amount  \n",
       "0                  15.30  \n",
       "1                  20.34  \n",
       "2                  22.00  \n",
       "3                  20.34  \n",
       "4                  20.34  "
      ]
     },
     "execution_count": 77,
     "metadata": {},
     "output_type": "execute_result"
    }
   ],
   "source": [
    "df1.head()"
   ]
  },
  {
   "cell_type": "code",
   "execution_count": 78,
   "id": "ee38e187",
   "metadata": {},
   "outputs": [],
   "source": [
    "df1 = df1.drop(columns = [\"Date\",\"total_purchase_amount\",])"
   ]
  },
  {
   "cell_type": "code",
   "execution_count": 79,
   "id": "955ae3de",
   "metadata": {},
   "outputs": [
    {
     "data": {
      "text/html": [
       "<div>\n",
       "<style scoped>\n",
       "    .dataframe tbody tr th:only-of-type {\n",
       "        vertical-align: middle;\n",
       "    }\n",
       "\n",
       "    .dataframe tbody tr th {\n",
       "        vertical-align: top;\n",
       "    }\n",
       "\n",
       "    .dataframe thead th {\n",
       "        text-align: right;\n",
       "    }\n",
       "</style>\n",
       "<table border=\"1\" class=\"dataframe\">\n",
       "  <thead>\n",
       "    <tr style=\"text-align: right;\">\n",
       "      <th></th>\n",
       "      <th>InvoiceNo</th>\n",
       "      <th>StockCode</th>\n",
       "      <th>Description</th>\n",
       "      <th>Quantity</th>\n",
       "      <th>UnitPrice</th>\n",
       "      <th>CustomerID</th>\n",
       "      <th>Country</th>\n",
       "      <th>Time</th>\n",
       "    </tr>\n",
       "  </thead>\n",
       "  <tbody>\n",
       "    <tr>\n",
       "      <th>0</th>\n",
       "      <td>536365</td>\n",
       "      <td>85123A</td>\n",
       "      <td>WHITE HANGING HEART T-LIGHT HOLDER</td>\n",
       "      <td>6</td>\n",
       "      <td>2.55</td>\n",
       "      <td>17850.0</td>\n",
       "      <td>United Kingdom</td>\n",
       "      <td>6am-12pm</td>\n",
       "    </tr>\n",
       "    <tr>\n",
       "      <th>1</th>\n",
       "      <td>536365</td>\n",
       "      <td>71053</td>\n",
       "      <td>WHITE METAL LANTERN</td>\n",
       "      <td>6</td>\n",
       "      <td>3.39</td>\n",
       "      <td>17850.0</td>\n",
       "      <td>United Kingdom</td>\n",
       "      <td>6am-12pm</td>\n",
       "    </tr>\n",
       "    <tr>\n",
       "      <th>2</th>\n",
       "      <td>536365</td>\n",
       "      <td>84406B</td>\n",
       "      <td>CREAM CUPID HEARTS COAT HANGER</td>\n",
       "      <td>8</td>\n",
       "      <td>2.75</td>\n",
       "      <td>17850.0</td>\n",
       "      <td>United Kingdom</td>\n",
       "      <td>6am-12pm</td>\n",
       "    </tr>\n",
       "    <tr>\n",
       "      <th>3</th>\n",
       "      <td>536365</td>\n",
       "      <td>84029G</td>\n",
       "      <td>KNITTED UNION FLAG HOT WATER BOTTLE</td>\n",
       "      <td>6</td>\n",
       "      <td>3.39</td>\n",
       "      <td>17850.0</td>\n",
       "      <td>United Kingdom</td>\n",
       "      <td>6am-12pm</td>\n",
       "    </tr>\n",
       "    <tr>\n",
       "      <th>4</th>\n",
       "      <td>536365</td>\n",
       "      <td>84029E</td>\n",
       "      <td>RED WOOLLY HOTTIE WHITE HEART.</td>\n",
       "      <td>6</td>\n",
       "      <td>3.39</td>\n",
       "      <td>17850.0</td>\n",
       "      <td>United Kingdom</td>\n",
       "      <td>6am-12pm</td>\n",
       "    </tr>\n",
       "    <tr>\n",
       "      <th>...</th>\n",
       "      <td>...</td>\n",
       "      <td>...</td>\n",
       "      <td>...</td>\n",
       "      <td>...</td>\n",
       "      <td>...</td>\n",
       "      <td>...</td>\n",
       "      <td>...</td>\n",
       "      <td>...</td>\n",
       "    </tr>\n",
       "    <tr>\n",
       "      <th>541904</th>\n",
       "      <td>581587</td>\n",
       "      <td>22613</td>\n",
       "      <td>PACK OF 20 SPACEBOY NAPKINS</td>\n",
       "      <td>12</td>\n",
       "      <td>0.85</td>\n",
       "      <td>12680.0</td>\n",
       "      <td>France</td>\n",
       "      <td>6am-12pm</td>\n",
       "    </tr>\n",
       "    <tr>\n",
       "      <th>541905</th>\n",
       "      <td>581587</td>\n",
       "      <td>22899</td>\n",
       "      <td>CHILDREN'S APRON DOLLY GIRL</td>\n",
       "      <td>6</td>\n",
       "      <td>2.10</td>\n",
       "      <td>12680.0</td>\n",
       "      <td>France</td>\n",
       "      <td>6am-12pm</td>\n",
       "    </tr>\n",
       "    <tr>\n",
       "      <th>541906</th>\n",
       "      <td>581587</td>\n",
       "      <td>23254</td>\n",
       "      <td>CHILDRENS CUTLERY DOLLY GIRL</td>\n",
       "      <td>4</td>\n",
       "      <td>4.15</td>\n",
       "      <td>12680.0</td>\n",
       "      <td>France</td>\n",
       "      <td>6am-12pm</td>\n",
       "    </tr>\n",
       "    <tr>\n",
       "      <th>541907</th>\n",
       "      <td>581587</td>\n",
       "      <td>23255</td>\n",
       "      <td>CHILDRENS CUTLERY CIRCUS PARADE</td>\n",
       "      <td>4</td>\n",
       "      <td>4.15</td>\n",
       "      <td>12680.0</td>\n",
       "      <td>France</td>\n",
       "      <td>6am-12pm</td>\n",
       "    </tr>\n",
       "    <tr>\n",
       "      <th>541908</th>\n",
       "      <td>581587</td>\n",
       "      <td>22138</td>\n",
       "      <td>BAKING SET 9 PIECE RETROSPOT</td>\n",
       "      <td>3</td>\n",
       "      <td>4.95</td>\n",
       "      <td>12680.0</td>\n",
       "      <td>France</td>\n",
       "      <td>6am-12pm</td>\n",
       "    </tr>\n",
       "  </tbody>\n",
       "</table>\n",
       "<p>406829 rows × 8 columns</p>\n",
       "</div>"
      ],
      "text/plain": [
       "       InvoiceNo StockCode                          Description  Quantity  \\\n",
       "0         536365    85123A   WHITE HANGING HEART T-LIGHT HOLDER         6   \n",
       "1         536365     71053                  WHITE METAL LANTERN         6   \n",
       "2         536365    84406B       CREAM CUPID HEARTS COAT HANGER         8   \n",
       "3         536365    84029G  KNITTED UNION FLAG HOT WATER BOTTLE         6   \n",
       "4         536365    84029E       RED WOOLLY HOTTIE WHITE HEART.         6   \n",
       "...          ...       ...                                  ...       ...   \n",
       "541904    581587     22613          PACK OF 20 SPACEBOY NAPKINS        12   \n",
       "541905    581587     22899         CHILDREN'S APRON DOLLY GIRL          6   \n",
       "541906    581587     23254        CHILDRENS CUTLERY DOLLY GIRL          4   \n",
       "541907    581587     23255      CHILDRENS CUTLERY CIRCUS PARADE         4   \n",
       "541908    581587     22138        BAKING SET 9 PIECE RETROSPOT          3   \n",
       "\n",
       "        UnitPrice  CustomerID         Country      Time  \n",
       "0            2.55     17850.0  United Kingdom  6am-12pm  \n",
       "1            3.39     17850.0  United Kingdom  6am-12pm  \n",
       "2            2.75     17850.0  United Kingdom  6am-12pm  \n",
       "3            3.39     17850.0  United Kingdom  6am-12pm  \n",
       "4            3.39     17850.0  United Kingdom  6am-12pm  \n",
       "...           ...         ...             ...       ...  \n",
       "541904       0.85     12680.0          France  6am-12pm  \n",
       "541905       2.10     12680.0          France  6am-12pm  \n",
       "541906       4.15     12680.0          France  6am-12pm  \n",
       "541907       4.15     12680.0          France  6am-12pm  \n",
       "541908       4.95     12680.0          France  6am-12pm  \n",
       "\n",
       "[406829 rows x 8 columns]"
      ]
     },
     "execution_count": 79,
     "metadata": {},
     "output_type": "execute_result"
    }
   ],
   "source": [
    "df1"
   ]
  },
  {
   "cell_type": "code",
   "execution_count": 80,
   "id": "ff5c2075",
   "metadata": {},
   "outputs": [],
   "source": [
    "# Now we have droped Date columns and  Total Purchase column "
   ]
  },
  {
   "cell_type": "code",
   "execution_count": 81,
   "id": "fd96bbb0",
   "metadata": {},
   "outputs": [],
   "source": [
    "col = list(df1.columns)"
   ]
  },
  {
   "cell_type": "code",
   "execution_count": 82,
   "id": "7fc51c40",
   "metadata": {},
   "outputs": [],
   "source": [
    "# Now we are going to perform label encoding to all our object type dataset"
   ]
  },
  {
   "cell_type": "code",
   "execution_count": 83,
   "id": "b137e181",
   "metadata": {},
   "outputs": [],
   "source": [
    "from sklearn.preprocessing import LabelEncoder"
   ]
  },
  {
   "cell_type": "code",
   "execution_count": 84,
   "id": "d6ce4a3f",
   "metadata": {},
   "outputs": [],
   "source": [
    "label_encoder= LabelEncoder()"
   ]
  },
  {
   "cell_type": "code",
   "execution_count": 85,
   "id": "51d8a3e4",
   "metadata": {},
   "outputs": [],
   "source": [
    "for i in col:\n",
    "    if df1[i].dtype == \"object\":\n",
    "        df1[i] = label_encoder.fit_transform(df1[i])"
   ]
  },
  {
   "cell_type": "code",
   "execution_count": 86,
   "id": "be559b49",
   "metadata": {},
   "outputs": [],
   "source": [
    "for i in col:\n",
    "    if df1[i].dtype == \"category\":\n",
    "        df1[i] = label_encoder.fit_transform(df1[i])"
   ]
  },
  {
   "cell_type": "code",
   "execution_count": 87,
   "id": "f34686a0",
   "metadata": {},
   "outputs": [
    {
     "data": {
      "text/html": [
       "<div>\n",
       "<style scoped>\n",
       "    .dataframe tbody tr th:only-of-type {\n",
       "        vertical-align: middle;\n",
       "    }\n",
       "\n",
       "    .dataframe tbody tr th {\n",
       "        vertical-align: top;\n",
       "    }\n",
       "\n",
       "    .dataframe thead th {\n",
       "        text-align: right;\n",
       "    }\n",
       "</style>\n",
       "<table border=\"1\" class=\"dataframe\">\n",
       "  <thead>\n",
       "    <tr style=\"text-align: right;\">\n",
       "      <th></th>\n",
       "      <th>InvoiceNo</th>\n",
       "      <th>StockCode</th>\n",
       "      <th>Description</th>\n",
       "      <th>Quantity</th>\n",
       "      <th>UnitPrice</th>\n",
       "      <th>CustomerID</th>\n",
       "      <th>Country</th>\n",
       "      <th>Time</th>\n",
       "    </tr>\n",
       "  </thead>\n",
       "  <tbody>\n",
       "    <tr>\n",
       "      <th>0</th>\n",
       "      <td>0</td>\n",
       "      <td>3249</td>\n",
       "      <td>3716</td>\n",
       "      <td>6</td>\n",
       "      <td>2.55</td>\n",
       "      <td>17850.0</td>\n",
       "      <td>35</td>\n",
       "      <td>1</td>\n",
       "    </tr>\n",
       "    <tr>\n",
       "      <th>1</th>\n",
       "      <td>0</td>\n",
       "      <td>2649</td>\n",
       "      <td>3724</td>\n",
       "      <td>6</td>\n",
       "      <td>3.39</td>\n",
       "      <td>17850.0</td>\n",
       "      <td>35</td>\n",
       "      <td>1</td>\n",
       "    </tr>\n",
       "    <tr>\n",
       "      <th>2</th>\n",
       "      <td>0</td>\n",
       "      <td>2855</td>\n",
       "      <td>861</td>\n",
       "      <td>8</td>\n",
       "      <td>2.75</td>\n",
       "      <td>17850.0</td>\n",
       "      <td>35</td>\n",
       "      <td>1</td>\n",
       "    </tr>\n",
       "    <tr>\n",
       "      <th>3</th>\n",
       "      <td>0</td>\n",
       "      <td>2803</td>\n",
       "      <td>1813</td>\n",
       "      <td>6</td>\n",
       "      <td>3.39</td>\n",
       "      <td>17850.0</td>\n",
       "      <td>35</td>\n",
       "      <td>1</td>\n",
       "    </tr>\n",
       "    <tr>\n",
       "      <th>4</th>\n",
       "      <td>0</td>\n",
       "      <td>2802</td>\n",
       "      <td>2776</td>\n",
       "      <td>6</td>\n",
       "      <td>3.39</td>\n",
       "      <td>17850.0</td>\n",
       "      <td>35</td>\n",
       "      <td>1</td>\n",
       "    </tr>\n",
       "    <tr>\n",
       "      <th>...</th>\n",
       "      <td>...</td>\n",
       "      <td>...</td>\n",
       "      <td>...</td>\n",
       "      <td>...</td>\n",
       "      <td>...</td>\n",
       "      <td>...</td>\n",
       "      <td>...</td>\n",
       "      <td>...</td>\n",
       "    </tr>\n",
       "    <tr>\n",
       "      <th>541904</th>\n",
       "      <td>18535</td>\n",
       "      <td>1470</td>\n",
       "      <td>2263</td>\n",
       "      <td>12</td>\n",
       "      <td>0.85</td>\n",
       "      <td>12680.0</td>\n",
       "      <td>13</td>\n",
       "      <td>1</td>\n",
       "    </tr>\n",
       "    <tr>\n",
       "      <th>541905</th>\n",
       "      <td>18535</td>\n",
       "      <td>1746</td>\n",
       "      <td>695</td>\n",
       "      <td>6</td>\n",
       "      <td>2.10</td>\n",
       "      <td>12680.0</td>\n",
       "      <td>13</td>\n",
       "      <td>1</td>\n",
       "    </tr>\n",
       "    <tr>\n",
       "      <th>541906</th>\n",
       "      <td>18535</td>\n",
       "      <td>2086</td>\n",
       "      <td>701</td>\n",
       "      <td>4</td>\n",
       "      <td>4.15</td>\n",
       "      <td>12680.0</td>\n",
       "      <td>13</td>\n",
       "      <td>1</td>\n",
       "    </tr>\n",
       "    <tr>\n",
       "      <th>541907</th>\n",
       "      <td>18535</td>\n",
       "      <td>2087</td>\n",
       "      <td>700</td>\n",
       "      <td>4</td>\n",
       "      <td>4.15</td>\n",
       "      <td>12680.0</td>\n",
       "      <td>13</td>\n",
       "      <td>1</td>\n",
       "    </tr>\n",
       "    <tr>\n",
       "      <th>541908</th>\n",
       "      <td>18535</td>\n",
       "      <td>1039</td>\n",
       "      <td>271</td>\n",
       "      <td>3</td>\n",
       "      <td>4.95</td>\n",
       "      <td>12680.0</td>\n",
       "      <td>13</td>\n",
       "      <td>1</td>\n",
       "    </tr>\n",
       "  </tbody>\n",
       "</table>\n",
       "<p>406829 rows × 8 columns</p>\n",
       "</div>"
      ],
      "text/plain": [
       "        InvoiceNo  StockCode  Description  Quantity  UnitPrice  CustomerID  \\\n",
       "0               0       3249         3716         6       2.55     17850.0   \n",
       "1               0       2649         3724         6       3.39     17850.0   \n",
       "2               0       2855          861         8       2.75     17850.0   \n",
       "3               0       2803         1813         6       3.39     17850.0   \n",
       "4               0       2802         2776         6       3.39     17850.0   \n",
       "...           ...        ...          ...       ...        ...         ...   \n",
       "541904      18535       1470         2263        12       0.85     12680.0   \n",
       "541905      18535       1746          695         6       2.10     12680.0   \n",
       "541906      18535       2086          701         4       4.15     12680.0   \n",
       "541907      18535       2087          700         4       4.15     12680.0   \n",
       "541908      18535       1039          271         3       4.95     12680.0   \n",
       "\n",
       "        Country  Time  \n",
       "0            35     1  \n",
       "1            35     1  \n",
       "2            35     1  \n",
       "3            35     1  \n",
       "4            35     1  \n",
       "...         ...   ...  \n",
       "541904       13     1  \n",
       "541905       13     1  \n",
       "541906       13     1  \n",
       "541907       13     1  \n",
       "541908       13     1  \n",
       "\n",
       "[406829 rows x 8 columns]"
      ]
     },
     "execution_count": 87,
     "metadata": {},
     "output_type": "execute_result"
    }
   ],
   "source": [
    "df1"
   ]
  },
  {
   "cell_type": "code",
   "execution_count": 88,
   "id": "103183b1",
   "metadata": {},
   "outputs": [
    {
     "name": "stdout",
     "output_type": "stream",
     "text": [
      "<class 'pandas.core.frame.DataFrame'>\n",
      "Int64Index: 406829 entries, 0 to 541908\n",
      "Data columns (total 8 columns):\n",
      " #   Column       Non-Null Count   Dtype  \n",
      "---  ------       --------------   -----  \n",
      " 0   InvoiceNo    406829 non-null  int32  \n",
      " 1   StockCode    406829 non-null  int32  \n",
      " 2   Description  406829 non-null  int32  \n",
      " 3   Quantity     406829 non-null  int64  \n",
      " 4   UnitPrice    406829 non-null  float64\n",
      " 5   CustomerID   406829 non-null  float64\n",
      " 6   Country      406829 non-null  int32  \n",
      " 7   Time         406829 non-null  int32  \n",
      "dtypes: float64(2), int32(5), int64(1)\n",
      "memory usage: 20.2 MB\n"
     ]
    }
   ],
   "source": [
    "df1.info()"
   ]
  },
  {
   "cell_type": "code",
   "execution_count": 89,
   "id": "ed2b36e2",
   "metadata": {},
   "outputs": [],
   "source": [
    "# Now lets scale our data"
   ]
  },
  {
   "cell_type": "code",
   "execution_count": 90,
   "id": "65e9ee0f",
   "metadata": {},
   "outputs": [],
   "source": [
    "import sklearn\n",
    "from sklearn.preprocessing import StandardScaler\n"
   ]
  },
  {
   "cell_type": "code",
   "execution_count": 91,
   "id": "7293ad7b",
   "metadata": {},
   "outputs": [
    {
     "data": {
      "text/plain": [
       "array([[-1.7922161 ,  1.98535093,  1.55283192, ...,  1.49528019,\n",
       "         0.32236414,  0.96008138],\n",
       "       [-1.7922161 ,  1.27449556,  1.56017693, ...,  1.49528019,\n",
       "         0.32236414,  0.96008138],\n",
       "       [-1.7922161 ,  1.51855591, -1.06841568, ...,  1.49528019,\n",
       "         0.32236414,  0.96008138],\n",
       "       ...,\n",
       "       [ 1.54604672,  0.60747627, -1.21531572, ..., -1.52176314,\n",
       "        -2.94243012,  0.96008138],\n",
       "       [ 1.54604672,  0.60866103, -1.21623385, ..., -1.52176314,\n",
       "        -2.94243012,  0.96008138],\n",
       "       [ 1.54604672, -0.63296636, -1.61010958, ..., -1.52176314,\n",
       "        -2.94243012,  0.96008138]])"
      ]
     },
     "execution_count": 91,
     "metadata": {},
     "output_type": "execute_result"
    }
   ],
   "source": [
    "scaler = StandardScaler()\n",
    "df_scaled = scaler.fit_transform(df1)\n",
    "df_scaled"
   ]
  },
  {
   "cell_type": "code",
   "execution_count": 92,
   "id": "1dadf908",
   "metadata": {},
   "outputs": [],
   "source": [
    "col = list(df1.columns)"
   ]
  },
  {
   "cell_type": "code",
   "execution_count": 93,
   "id": "a8855e5f",
   "metadata": {},
   "outputs": [
    {
     "data": {
      "text/html": [
       "<div>\n",
       "<style scoped>\n",
       "    .dataframe tbody tr th:only-of-type {\n",
       "        vertical-align: middle;\n",
       "    }\n",
       "\n",
       "    .dataframe tbody tr th {\n",
       "        vertical-align: top;\n",
       "    }\n",
       "\n",
       "    .dataframe thead tr th {\n",
       "        text-align: left;\n",
       "    }\n",
       "</style>\n",
       "<table border=\"1\" class=\"dataframe\">\n",
       "  <thead>\n",
       "    <tr>\n",
       "      <th></th>\n",
       "      <th>InvoiceNo</th>\n",
       "      <th>StockCode</th>\n",
       "      <th>Description</th>\n",
       "      <th>Quantity</th>\n",
       "      <th>UnitPrice</th>\n",
       "      <th>CustomerID</th>\n",
       "      <th>Country</th>\n",
       "      <th>Time</th>\n",
       "    </tr>\n",
       "  </thead>\n",
       "  <tbody>\n",
       "    <tr>\n",
       "      <th>0</th>\n",
       "      <td>-1.792216</td>\n",
       "      <td>1.985351</td>\n",
       "      <td>1.552832</td>\n",
       "      <td>-0.024373</td>\n",
       "      <td>-0.013135</td>\n",
       "      <td>1.49528</td>\n",
       "      <td>0.322364</td>\n",
       "      <td>0.960081</td>\n",
       "    </tr>\n",
       "    <tr>\n",
       "      <th>1</th>\n",
       "      <td>-1.792216</td>\n",
       "      <td>1.274496</td>\n",
       "      <td>1.560177</td>\n",
       "      <td>-0.024373</td>\n",
       "      <td>-0.001017</td>\n",
       "      <td>1.49528</td>\n",
       "      <td>0.322364</td>\n",
       "      <td>0.960081</td>\n",
       "    </tr>\n",
       "    <tr>\n",
       "      <th>2</th>\n",
       "      <td>-1.792216</td>\n",
       "      <td>1.518556</td>\n",
       "      <td>-1.068416</td>\n",
       "      <td>-0.016331</td>\n",
       "      <td>-0.010250</td>\n",
       "      <td>1.49528</td>\n",
       "      <td>0.322364</td>\n",
       "      <td>0.960081</td>\n",
       "    </tr>\n",
       "    <tr>\n",
       "      <th>3</th>\n",
       "      <td>-1.792216</td>\n",
       "      <td>1.456948</td>\n",
       "      <td>-0.194360</td>\n",
       "      <td>-0.024373</td>\n",
       "      <td>-0.001017</td>\n",
       "      <td>1.49528</td>\n",
       "      <td>0.322364</td>\n",
       "      <td>0.960081</td>\n",
       "    </tr>\n",
       "  </tbody>\n",
       "</table>\n",
       "</div>"
      ],
      "text/plain": [
       "  InvoiceNo StockCode Description  Quantity UnitPrice CustomerID   Country  \\\n",
       "0 -1.792216  1.985351    1.552832 -0.024373 -0.013135    1.49528  0.322364   \n",
       "1 -1.792216  1.274496    1.560177 -0.024373 -0.001017    1.49528  0.322364   \n",
       "2 -1.792216  1.518556   -1.068416 -0.016331 -0.010250    1.49528  0.322364   \n",
       "3 -1.792216  1.456948   -0.194360 -0.024373 -0.001017    1.49528  0.322364   \n",
       "\n",
       "       Time  \n",
       "0  0.960081  \n",
       "1  0.960081  \n",
       "2  0.960081  \n",
       "3  0.960081  "
      ]
     },
     "execution_count": 93,
     "metadata": {},
     "output_type": "execute_result"
    }
   ],
   "source": [
    "df2 = pd.DataFrame(df_scaled,columns = [col])\n",
    "df2.head(4)"
   ]
  },
  {
   "cell_type": "code",
   "execution_count": 94,
   "id": "61286e33",
   "metadata": {},
   "outputs": [],
   "source": [
    "from sklearn.cluster import KMeans"
   ]
  },
  {
   "cell_type": "code",
   "execution_count": 95,
   "id": "bcc5ead3",
   "metadata": {},
   "outputs": [
    {
     "data": {
      "text/plain": [
       "[<matplotlib.lines.Line2D at 0x223ac1316a0>]"
      ]
     },
     "execution_count": 95,
     "metadata": {},
     "output_type": "execute_result"
    },
    {
     "data": {
      "image/png": "[encoded data removed]",
      "text/plain": [
       "<Figure size 432x288 with 1 Axes>"
      ]
     },
     "metadata": {
      "needs_background": "light"
     },
     "output_type": "display_data"
    }
   ],
   "source": [
    "# Elbow curve method to find the ideal number of clusters.\n",
    "#ssd - Wcss(Within cluster sum of square)\n",
    "#ssd(Sum of Squared distance)\n",
    "\n",
    "cluster = list(range(1,8))\n",
    "ssd = []\n",
    "\n",
    "for num_clusters in cluster:\n",
    "    model_clus = KMeans(n_clusters = num_clusters,max_iter =150,random_state = 50)\n",
    "    model_clus.fit(df2)\n",
    "    ssd.append(model_clus.inertia_)\n",
    "\n",
    "plt.plot(cluster,ssd)"
   ]
  },
  {
   "cell_type": "code",
   "execution_count": 96,
   "id": "caef6d46",
   "metadata": {},
   "outputs": [],
   "source": [
    "# so here we if we are confused between which bend to take, always take the big number that\n",
    "# so here we take 6\n",
    "# FROM THE ABOVE GRAPH WE ARE INFERREING THAT OPTIMAL NUMBER OF K = 6 CLUSTERS"
   ]
  },
  {
   "cell_type": "code",
   "execution_count": 97,
   "id": "7ae7a3e5",
   "metadata": {},
   "outputs": [],
   "source": [
    "# So from Kmeans we got 6 clusters"
   ]
  },
  {
   "cell_type": "code",
   "execution_count": 100,
   "id": "c3b7aa0c",
   "metadata": {},
   "outputs": [
    {
     "data": {
      "text/plain": [
       "KMeans(max_iter=150, n_clusters=6, random_state=15)"
      ]
     },
     "execution_count": 100,
     "metadata": {},
     "output_type": "execute_result"
    }
   ],
   "source": [
    "cluster = KMeans(n_clusters = 6,max_iter = 150,random_state = 15)\n",
    "cluster.fit(df2)"
   ]
  },
  {
   "cell_type": "code",
   "execution_count": 101,
   "id": "20b889a5",
   "metadata": {},
   "outputs": [
    {
     "data": {
      "text/plain": [
       "array([0, 2, 0, ..., 3, 3, 3])"
      ]
     },
     "execution_count": 101,
     "metadata": {},
     "output_type": "execute_result"
    }
   ],
   "source": [
    "cluster.labels_\n"
   ]
  },
  {
   "cell_type": "code",
   "execution_count": 102,
   "id": "188c7c8d",
   "metadata": {},
   "outputs": [],
   "source": [
    "df[\"Cluster_Id\"] = cluster.labels_"
   ]
  },
  {
   "cell_type": "code",
   "execution_count": 103,
   "id": "1450a9b8",
   "metadata": {},
   "outputs": [],
   "source": [
    "# calculate the total purchase amount per customer\n",
    "df['total_purchase_amount'] = df['Quantity'] * df['UnitPrice']"
   ]
  },
  {
   "cell_type": "code",
   "execution_count": 104,
   "id": "bf5fb19d",
   "metadata": {},
   "outputs": [
    {
     "data": {
      "text/html": [
       "<div>\n",
       "<style scoped>\n",
       "    .dataframe tbody tr th:only-of-type {\n",
       "        vertical-align: middle;\n",
       "    }\n",
       "\n",
       "    .dataframe tbody tr th {\n",
       "        vertical-align: top;\n",
       "    }\n",
       "\n",
       "    .dataframe thead th {\n",
       "        text-align: right;\n",
       "    }\n",
       "</style>\n",
       "<table border=\"1\" class=\"dataframe\">\n",
       "  <thead>\n",
       "    <tr style=\"text-align: right;\">\n",
       "      <th></th>\n",
       "      <th>InvoiceNo</th>\n",
       "      <th>StockCode</th>\n",
       "      <th>Description</th>\n",
       "      <th>Quantity</th>\n",
       "      <th>UnitPrice</th>\n",
       "      <th>CustomerID</th>\n",
       "      <th>Country</th>\n",
       "      <th>Date</th>\n",
       "      <th>Time</th>\n",
       "      <th>Cluster_Id</th>\n",
       "      <th>total_purchase_amount</th>\n",
       "    </tr>\n",
       "  </thead>\n",
       "  <tbody>\n",
       "    <tr>\n",
       "      <th>0</th>\n",
       "      <td>536365</td>\n",
       "      <td>85123A</td>\n",
       "      <td>WHITE HANGING HEART T-LIGHT HOLDER</td>\n",
       "      <td>6</td>\n",
       "      <td>2.55</td>\n",
       "      <td>17850.0</td>\n",
       "      <td>United Kingdom</td>\n",
       "      <td>12/1/2010</td>\n",
       "      <td>6am-12pm</td>\n",
       "      <td>0</td>\n",
       "      <td>15.30</td>\n",
       "    </tr>\n",
       "    <tr>\n",
       "      <th>1</th>\n",
       "      <td>536365</td>\n",
       "      <td>71053</td>\n",
       "      <td>WHITE METAL LANTERN</td>\n",
       "      <td>6</td>\n",
       "      <td>3.39</td>\n",
       "      <td>17850.0</td>\n",
       "      <td>United Kingdom</td>\n",
       "      <td>12/1/2010</td>\n",
       "      <td>6am-12pm</td>\n",
       "      <td>2</td>\n",
       "      <td>20.34</td>\n",
       "    </tr>\n",
       "    <tr>\n",
       "      <th>2</th>\n",
       "      <td>536365</td>\n",
       "      <td>84406B</td>\n",
       "      <td>CREAM CUPID HEARTS COAT HANGER</td>\n",
       "      <td>8</td>\n",
       "      <td>2.75</td>\n",
       "      <td>17850.0</td>\n",
       "      <td>United Kingdom</td>\n",
       "      <td>12/1/2010</td>\n",
       "      <td>6am-12pm</td>\n",
       "      <td>0</td>\n",
       "      <td>22.00</td>\n",
       "    </tr>\n",
       "    <tr>\n",
       "      <th>3</th>\n",
       "      <td>536365</td>\n",
       "      <td>84029G</td>\n",
       "      <td>KNITTED UNION FLAG HOT WATER BOTTLE</td>\n",
       "      <td>6</td>\n",
       "      <td>3.39</td>\n",
       "      <td>17850.0</td>\n",
       "      <td>United Kingdom</td>\n",
       "      <td>12/1/2010</td>\n",
       "      <td>6am-12pm</td>\n",
       "      <td>0</td>\n",
       "      <td>20.34</td>\n",
       "    </tr>\n",
       "    <tr>\n",
       "      <th>4</th>\n",
       "      <td>536365</td>\n",
       "      <td>84029E</td>\n",
       "      <td>RED WOOLLY HOTTIE WHITE HEART.</td>\n",
       "      <td>6</td>\n",
       "      <td>3.39</td>\n",
       "      <td>17850.0</td>\n",
       "      <td>United Kingdom</td>\n",
       "      <td>12/1/2010</td>\n",
       "      <td>6am-12pm</td>\n",
       "      <td>0</td>\n",
       "      <td>20.34</td>\n",
       "    </tr>\n",
       "  </tbody>\n",
       "</table>\n",
       "</div>"
      ],
      "text/plain": [
       "  InvoiceNo StockCode                          Description  Quantity  \\\n",
       "0    536365    85123A   WHITE HANGING HEART T-LIGHT HOLDER         6   \n",
       "1    536365     71053                  WHITE METAL LANTERN         6   \n",
       "2    536365    84406B       CREAM CUPID HEARTS COAT HANGER         8   \n",
       "3    536365    84029G  KNITTED UNION FLAG HOT WATER BOTTLE         6   \n",
       "4    536365    84029E       RED WOOLLY HOTTIE WHITE HEART.         6   \n",
       "\n",
       "   UnitPrice  CustomerID         Country       Date      Time  Cluster_Id  \\\n",
       "0       2.55     17850.0  United Kingdom  12/1/2010  6am-12pm           0   \n",
       "1       3.39     17850.0  United Kingdom  12/1/2010  6am-12pm           2   \n",
       "2       2.75     17850.0  United Kingdom  12/1/2010  6am-12pm           0   \n",
       "3       3.39     17850.0  United Kingdom  12/1/2010  6am-12pm           0   \n",
       "4       3.39     17850.0  United Kingdom  12/1/2010  6am-12pm           0   \n",
       "\n",
       "   total_purchase_amount  \n",
       "0                  15.30  \n",
       "1                  20.34  \n",
       "2                  22.00  \n",
       "3                  20.34  \n",
       "4                  20.34  "
      ]
     },
     "execution_count": 104,
     "metadata": {},
     "output_type": "execute_result"
    }
   ],
   "source": [
    "df.head()"
   ]
  },
  {
   "cell_type": "code",
   "execution_count": 105,
   "id": "d21cbb79",
   "metadata": {
    "scrolled": true
   },
   "outputs": [
    {
     "data": {
      "text/plain": [
       "WHITE HANGING HEART T-LIGHT HOLDER    2070\n",
       "REGENCY CAKESTAND 3 TIER              1905\n",
       "JUMBO BAG RED RETROSPOT               1662\n",
       "ASSORTED COLOUR BIRD ORNAMENT         1418\n",
       "PARTY BUNTING                         1416\n",
       "                                      ... \n",
       "ANTIQUE RASPBERRY FLOWER EARRINGS        1\n",
       "WALL ART,ONLY ONE PERSON                 1\n",
       "GOLD/AMBER DROP EARRINGS W LEAF          1\n",
       "INCENSE BAZAAR PEACH                     1\n",
       "PINK BAROQUE FLOCK CANDLE HOLDER         1\n",
       "Name: Description, Length: 3896, dtype: int64"
      ]
     },
     "execution_count": 105,
     "metadata": {},
     "output_type": "execute_result"
    }
   ],
   "source": [
    "df[\"Description\"].value_counts()"
   ]
  },
  {
   "cell_type": "code",
   "execution_count": 106,
   "id": "f53ad033",
   "metadata": {},
   "outputs": [],
   "source": [
    "df = df.drop(columns = [\"Date\"])"
   ]
  },
  {
   "cell_type": "code",
   "execution_count": 107,
   "id": "eebade07",
   "metadata": {},
   "outputs": [
    {
     "data": {
      "text/plain": [
       "1    137173\n",
       "0    126430\n",
       "2    108206\n",
       "3     35017\n",
       "5         2\n",
       "4         1\n",
       "Name: Cluster_Id, dtype: int64"
      ]
     },
     "execution_count": 107,
     "metadata": {},
     "output_type": "execute_result"
    }
   ],
   "source": [
    "df[\"Cluster_Id\"].value_counts()"
   ]
  },
  {
   "cell_type": "code",
   "execution_count": 108,
   "id": "3e542e97",
   "metadata": {},
   "outputs": [],
   "source": [
    "# Now lets plot the scatter plot"
   ]
  },
  {
   "cell_type": "code",
   "execution_count": 109,
   "id": "2103c35f",
   "metadata": {},
   "outputs": [
    {
     "data": {
      "text/plain": [
       "<AxesSubplot:xlabel='Time', ylabel='Quantity'>"
      ]
     },
     "execution_count": 109,
     "metadata": {},
     "output_type": "execute_result"
    },
    {
     "data": {
      "image/png": "[encoded data removed]",
      "text/plain": [
       "<Figure size 1440x720 with 1 Axes>"
      ]
     },
     "metadata": {
      "needs_background": "light"
     },
     "output_type": "display_data"
    }
   ],
   "source": [
    "plt.figure(figsize = (20,10))\n",
    "sns.scatterplot(x = 'Time', y = \"Quantity\",hue='Cluster_Id',data = df,palette=\"Set1\")"
   ]
  },
  {
   "cell_type": "code",
   "execution_count": 110,
   "id": "7629ced6",
   "metadata": {},
   "outputs": [
    {
     "data": {
      "text/plain": [
       "<AxesSubplot:xlabel='Time', ylabel='total_purchase_amount'>"
      ]
     },
     "execution_count": 110,
     "metadata": {},
     "output_type": "execute_result"
    },
    {
     "data": {
      "image/png": "[encoded data removed]",
      "text/plain": [
       "<Figure size 1440x720 with 1 Axes>"
      ]
     },
     "metadata": {
      "needs_background": "light"
     },
     "output_type": "display_data"
    }
   ],
   "source": [
    "plt.figure(figsize = (20,10))\n",
    "sns.scatterplot(x = 'Time', y = \"total_purchase_amount\",hue='Cluster_Id',data = df,palette=\"Set1\")"
   ]
  },
  {
   "cell_type": "code",
   "execution_count": 111,
   "id": "02b30660",
   "metadata": {},
   "outputs": [],
   "source": [
    "# lets check each cluters and their specialities"
   ]
  },
  {
   "cell_type": "code",
   "execution_count": 112,
   "id": "6fd1c565",
   "metadata": {},
   "outputs": [
    {
     "data": {
      "text/plain": [
       "37"
      ]
     },
     "execution_count": 112,
     "metadata": {},
     "output_type": "execute_result"
    }
   ],
   "source": [
    "len(df[\"Country\"].value_counts())"
   ]
  },
  {
   "cell_type": "code",
   "execution_count": 113,
   "id": "8cc52c54",
   "metadata": {},
   "outputs": [
    {
     "data": {
      "text/html": [
       "<div>\n",
       "<style scoped>\n",
       "    .dataframe tbody tr th:only-of-type {\n",
       "        vertical-align: middle;\n",
       "    }\n",
       "\n",
       "    .dataframe tbody tr th {\n",
       "        vertical-align: top;\n",
       "    }\n",
       "\n",
       "    .dataframe thead th {\n",
       "        text-align: right;\n",
       "    }\n",
       "</style>\n",
       "<table border=\"1\" class=\"dataframe\">\n",
       "  <thead>\n",
       "    <tr style=\"text-align: right;\">\n",
       "      <th></th>\n",
       "      <th>InvoiceNo</th>\n",
       "      <th>StockCode</th>\n",
       "      <th>Description</th>\n",
       "      <th>Quantity</th>\n",
       "      <th>UnitPrice</th>\n",
       "      <th>CustomerID</th>\n",
       "      <th>Country</th>\n",
       "      <th>Time</th>\n",
       "      <th>Cluster_Id</th>\n",
       "      <th>total_purchase_amount</th>\n",
       "    </tr>\n",
       "  </thead>\n",
       "  <tbody>\n",
       "    <tr>\n",
       "      <th>421632</th>\n",
       "      <td>573008</td>\n",
       "      <td>84077</td>\n",
       "      <td>WORLD WAR 2 GLIDERS ASSTD DESIGNS</td>\n",
       "      <td>4800</td>\n",
       "      <td>0.21</td>\n",
       "      <td>12901.0</td>\n",
       "      <td>United Kingdom</td>\n",
       "      <td>6am-12pm</td>\n",
       "      <td>0</td>\n",
       "      <td>1008.00</td>\n",
       "    </tr>\n",
       "    <tr>\n",
       "      <th>206121</th>\n",
       "      <td>554868</td>\n",
       "      <td>22197</td>\n",
       "      <td>SMALL POPCORN HOLDER</td>\n",
       "      <td>4300</td>\n",
       "      <td>0.72</td>\n",
       "      <td>13135.0</td>\n",
       "      <td>United Kingdom</td>\n",
       "      <td>6am-12pm</td>\n",
       "      <td>0</td>\n",
       "      <td>3096.00</td>\n",
       "    </tr>\n",
       "    <tr>\n",
       "      <th>433788</th>\n",
       "      <td>573995</td>\n",
       "      <td>16014</td>\n",
       "      <td>SMALL CHINESE STYLE SCISSOR</td>\n",
       "      <td>3000</td>\n",
       "      <td>0.32</td>\n",
       "      <td>16308.0</td>\n",
       "      <td>United Kingdom</td>\n",
       "      <td>6am-12pm</td>\n",
       "      <td>0</td>\n",
       "      <td>960.00</td>\n",
       "    </tr>\n",
       "    <tr>\n",
       "      <th>80742</th>\n",
       "      <td>543057</td>\n",
       "      <td>84077</td>\n",
       "      <td>WORLD WAR 2 GLIDERS ASSTD DESIGNS</td>\n",
       "      <td>2592</td>\n",
       "      <td>0.21</td>\n",
       "      <td>16333.0</td>\n",
       "      <td>United Kingdom</td>\n",
       "      <td>6am-12pm</td>\n",
       "      <td>0</td>\n",
       "      <td>544.32</td>\n",
       "    </tr>\n",
       "    <tr>\n",
       "      <th>421601</th>\n",
       "      <td>573003</td>\n",
       "      <td>23084</td>\n",
       "      <td>RABBIT NIGHT LIGHT</td>\n",
       "      <td>2400</td>\n",
       "      <td>2.08</td>\n",
       "      <td>14646.0</td>\n",
       "      <td>Netherlands</td>\n",
       "      <td>6am-12pm</td>\n",
       "      <td>0</td>\n",
       "      <td>4992.00</td>\n",
       "    </tr>\n",
       "  </tbody>\n",
       "</table>\n",
       "</div>"
      ],
      "text/plain": [
       "       InvoiceNo StockCode                        Description  Quantity  \\\n",
       "421632    573008     84077  WORLD WAR 2 GLIDERS ASSTD DESIGNS      4800   \n",
       "206121    554868     22197               SMALL POPCORN HOLDER      4300   \n",
       "433788    573995     16014        SMALL CHINESE STYLE SCISSOR      3000   \n",
       "80742     543057     84077  WORLD WAR 2 GLIDERS ASSTD DESIGNS      2592   \n",
       "421601    573003     23084                 RABBIT NIGHT LIGHT      2400   \n",
       "\n",
       "        UnitPrice  CustomerID         Country      Time  Cluster_Id  \\\n",
       "421632       0.21     12901.0  United Kingdom  6am-12pm           0   \n",
       "206121       0.72     13135.0  United Kingdom  6am-12pm           0   \n",
       "433788       0.32     16308.0  United Kingdom  6am-12pm           0   \n",
       "80742        0.21     16333.0  United Kingdom  6am-12pm           0   \n",
       "421601       2.08     14646.0     Netherlands  6am-12pm           0   \n",
       "\n",
       "        total_purchase_amount  \n",
       "421632                1008.00  \n",
       "206121                3096.00  \n",
       "433788                 960.00  \n",
       "80742                  544.32  \n",
       "421601                4992.00  "
      ]
     },
     "execution_count": 113,
     "metadata": {},
     "output_type": "execute_result"
    }
   ],
   "source": [
    "A = df[df[\"Cluster_Id\"]==0].sort_values(by = [\"Quantity\",\"UnitPrice\"],ascending = (False,False))\n",
    "df[df[\"Cluster_Id\"]==0].sort_values(by = [\"Quantity\",\"UnitPrice\"],ascending = (False,False)).head()"
   ]
  },
  {
   "cell_type": "code",
   "execution_count": 114,
   "id": "32428b83",
   "metadata": {},
   "outputs": [
    {
     "data": {
      "text/plain": [
       "United Kingdom          122806\n",
       "Switzerland                960\n",
       "Netherlands                873\n",
       "Portugal                   644\n",
       "Spain                      558\n",
       "Sweden                     162\n",
       "Poland                     103\n",
       "Singapore                   90\n",
       "USA                         67\n",
       "Malta                       59\n",
       "RSA                         58\n",
       "Norway                      20\n",
       "Unspecified                 19\n",
       "United Arab Emirates        10\n",
       "Saudi Arabia                 1\n",
       "Name: Country, dtype: int64"
      ]
     },
     "execution_count": 114,
     "metadata": {},
     "output_type": "execute_result"
    }
   ],
   "source": [
    "A[\"Country\"].value_counts()"
   ]
  },
  {
   "cell_type": "code",
   "execution_count": 115,
   "id": "1ac441d5",
   "metadata": {},
   "outputs": [
    {
     "data": {
      "text/plain": [
       "15"
      ]
     },
     "execution_count": 115,
     "metadata": {},
     "output_type": "execute_result"
    }
   ],
   "source": [
    "len(A[\"Country\"].value_counts())"
   ]
  },
  {
   "cell_type": "code",
   "execution_count": 116,
   "id": "44ba14c2",
   "metadata": {},
   "outputs": [
    {
     "data": {
      "text/plain": [
       "6am-12pm        122349\n",
       "6pm-Midnight      4053\n",
       "Midnight-6am        28\n",
       "12pm-6pm             0\n",
       "Name: Time, dtype: int64"
      ]
     },
     "execution_count": 116,
     "metadata": {},
     "output_type": "execute_result"
    }
   ],
   "source": [
    "A[\"Time\"].value_counts()"
   ]
  },
  {
   "cell_type": "code",
   "execution_count": 117,
   "id": "bd278138",
   "metadata": {},
   "outputs": [
    {
     "data": {
      "text/plain": [
       "WHITE HANGING HEART T-LIGHT HOLDER    1014\n",
       "JUMBO BAG RED RETROSPOT                852\n",
       "PARTY BUNTING                          713\n",
       "ASSORTED COLOUR BIRD ORNAMENT          696\n",
       "SPOTTY BUNTING                         493\n",
       "                                      ... \n",
       "WHITE WIRE PLANT POT HOLDER              1\n",
       "TURQUOISE HEART OF GLASS BRACELET        1\n",
       "RETRO PILL BOX , REVOLUTIONARY           1\n",
       "5 STRAND GLASS NECKLACE AMETHYST         1\n",
       "ASSORTED TUTTI FRUTTI ROUND BOX          1\n",
       "Name: Description, Length: 3446, dtype: int64"
      ]
     },
     "execution_count": 117,
     "metadata": {},
     "output_type": "execute_result"
    }
   ],
   "source": [
    "A[\"Description\"].value_counts()"
   ]
  },
  {
   "cell_type": "code",
   "execution_count": 118,
   "id": "aed40500",
   "metadata": {},
   "outputs": [
    {
     "data": {
      "text/plain": [
       "3896"
      ]
     },
     "execution_count": 118,
     "metadata": {},
     "output_type": "execute_result"
    }
   ],
   "source": [
    "len(df[\"Description\"].unique())"
   ]
  },
  {
   "cell_type": "code",
   "execution_count": 119,
   "id": "f9e5e279",
   "metadata": {},
   "outputs": [
    {
     "data": {
      "text/plain": [
       "3446"
      ]
     },
     "execution_count": 119,
     "metadata": {},
     "output_type": "execute_result"
    }
   ],
   "source": [
    "len(A[\"Description\"].value_counts())"
   ]
  },
  {
   "cell_type": "code",
   "execution_count": 120,
   "id": "6424af8c",
   "metadata": {},
   "outputs": [
    {
     "ename": "SyntaxError",
     "evalue": "invalid syntax (990901056.py, line 1)",
     "output_type": "error",
     "traceback": [
      "\u001b[1;36m  Input \u001b[1;32mIn [120]\u001b[1;36m\u001b[0m\n\u001b[1;33m    In clusterid = 0 we can see that most of the customers are from United Kingdom followed by Switzerland, Netherlands,\u001b[0m\n\u001b[1;37m       ^\u001b[0m\n\u001b[1;31mSyntaxError\u001b[0m\u001b[1;31m:\u001b[0m invalid syntax\n"
     ]
    }
   ],
   "source": [
    "In clusterid = 0 we can see that most of the customers are from United Kingdom followed by Switzerland, Netherlands,\n",
    "Portugal,Spain and the least we can see in UAE and Saudi Arabia. And the cutomers from this cluster make most of their \n",
    "purchases at 6am-12pm and 6pm-Midnight and least at Midnight-6am and their are no customers shopping at 12pm-6pm.\n",
    "\n",
    "The products which they are purchasing most are\n",
    "\n",
    "WHITE HANGING HEART T-LIGHT HOLDER,\n",
    "JUMBO BAG RED RETROSPOT\n",
    "PARTY BUNTING\n",
    "ASSORTED COLOUR BIRD ORNAMENT\n",
    "SPOTTY BUNTING\n",
    "\n",
    "And the products which they are least purchased are:\n",
    "    \n",
    "WHITE WIRE PLANT POT HOLDER\n",
    "TURQUOISE HEART OF GLASS BRACELET \n",
    "RETRO PILL BOX , REVOLUTIONARY \n",
    "5 STRAND GLASS NECKLACE AMETHYST\n",
    "ASSORTED TUTTI FRUTTI ROUND BOX \n",
    "\n",
    "And out of 3896 Unique Products these group of consumers purchase 3446 of the products that is almost 88% of the \n",
    "total products are consumed by this perticular group.\n",
    "\n",
    "And here we totaly we have participation of 37 countries. So here we have consumers from 15 countries in buying \n",
    "these products that is above products are nedded by almost 40% out of total countries "
   ]
  },
  {
   "cell_type": "code",
   "execution_count": 121,
   "id": "943d3f75",
   "metadata": {},
   "outputs": [
    {
     "data": {
      "text/html": [
       "<div>\n",
       "<style scoped>\n",
       "    .dataframe tbody tr th:only-of-type {\n",
       "        vertical-align: middle;\n",
       "    }\n",
       "\n",
       "    .dataframe tbody tr th {\n",
       "        vertical-align: top;\n",
       "    }\n",
       "\n",
       "    .dataframe thead th {\n",
       "        text-align: right;\n",
       "    }\n",
       "</style>\n",
       "<table border=\"1\" class=\"dataframe\">\n",
       "  <thead>\n",
       "    <tr style=\"text-align: right;\">\n",
       "      <th></th>\n",
       "      <th>InvoiceNo</th>\n",
       "      <th>StockCode</th>\n",
       "      <th>Description</th>\n",
       "      <th>Quantity</th>\n",
       "      <th>UnitPrice</th>\n",
       "      <th>CustomerID</th>\n",
       "      <th>Country</th>\n",
       "      <th>Time</th>\n",
       "      <th>Cluster_Id</th>\n",
       "      <th>total_purchase_amount</th>\n",
       "    </tr>\n",
       "  </thead>\n",
       "  <tbody>\n",
       "    <tr>\n",
       "      <th>502122</th>\n",
       "      <td>578841</td>\n",
       "      <td>84826</td>\n",
       "      <td>ASSTD DESIGN 3D PAPER STICKERS</td>\n",
       "      <td>12540</td>\n",
       "      <td>0.00</td>\n",
       "      <td>13256.0</td>\n",
       "      <td>United Kingdom</td>\n",
       "      <td>12pm-6pm</td>\n",
       "      <td>1</td>\n",
       "      <td>0.0</td>\n",
       "    </tr>\n",
       "    <tr>\n",
       "      <th>291249</th>\n",
       "      <td>562439</td>\n",
       "      <td>84879</td>\n",
       "      <td>ASSORTED COLOUR BIRD ORNAMENT</td>\n",
       "      <td>2880</td>\n",
       "      <td>1.45</td>\n",
       "      <td>12931.0</td>\n",
       "      <td>United Kingdom</td>\n",
       "      <td>12pm-6pm</td>\n",
       "      <td>1</td>\n",
       "      <td>4176.0</td>\n",
       "    </tr>\n",
       "    <tr>\n",
       "      <th>437480</th>\n",
       "      <td>574294</td>\n",
       "      <td>21915</td>\n",
       "      <td>RED  HARMONICA IN BOX</td>\n",
       "      <td>2100</td>\n",
       "      <td>1.06</td>\n",
       "      <td>16333.0</td>\n",
       "      <td>United Kingdom</td>\n",
       "      <td>12pm-6pm</td>\n",
       "      <td>1</td>\n",
       "      <td>2226.0</td>\n",
       "    </tr>\n",
       "    <tr>\n",
       "      <th>160542</th>\n",
       "      <td>550461</td>\n",
       "      <td>85123A</td>\n",
       "      <td>WHITE HANGING HEART T-LIGHT HOLDER</td>\n",
       "      <td>1930</td>\n",
       "      <td>2.40</td>\n",
       "      <td>15749.0</td>\n",
       "      <td>United Kingdom</td>\n",
       "      <td>12pm-6pm</td>\n",
       "      <td>1</td>\n",
       "      <td>4632.0</td>\n",
       "    </tr>\n",
       "    <tr>\n",
       "      <th>291247</th>\n",
       "      <td>562439</td>\n",
       "      <td>22197</td>\n",
       "      <td>POPCORN HOLDER</td>\n",
       "      <td>1900</td>\n",
       "      <td>0.72</td>\n",
       "      <td>12931.0</td>\n",
       "      <td>United Kingdom</td>\n",
       "      <td>12pm-6pm</td>\n",
       "      <td>1</td>\n",
       "      <td>1368.0</td>\n",
       "    </tr>\n",
       "  </tbody>\n",
       "</table>\n",
       "</div>"
      ],
      "text/plain": [
       "       InvoiceNo StockCode                         Description  Quantity  \\\n",
       "502122    578841     84826      ASSTD DESIGN 3D PAPER STICKERS     12540   \n",
       "291249    562439     84879       ASSORTED COLOUR BIRD ORNAMENT      2880   \n",
       "437480    574294     21915              RED  HARMONICA IN BOX       2100   \n",
       "160542    550461    85123A  WHITE HANGING HEART T-LIGHT HOLDER      1930   \n",
       "291247    562439     22197                      POPCORN HOLDER      1900   \n",
       "\n",
       "        UnitPrice  CustomerID         Country      Time  Cluster_Id  \\\n",
       "502122       0.00     13256.0  United Kingdom  12pm-6pm           1   \n",
       "291249       1.45     12931.0  United Kingdom  12pm-6pm           1   \n",
       "437480       1.06     16333.0  United Kingdom  12pm-6pm           1   \n",
       "160542       2.40     15749.0  United Kingdom  12pm-6pm           1   \n",
       "291247       0.72     12931.0  United Kingdom  12pm-6pm           1   \n",
       "\n",
       "        total_purchase_amount  \n",
       "502122                    0.0  \n",
       "291249                 4176.0  \n",
       "437480                 2226.0  \n",
       "160542                 4632.0  \n",
       "291247                 1368.0  "
      ]
     },
     "execution_count": 121,
     "metadata": {},
     "output_type": "execute_result"
    }
   ],
   "source": [
    "B =df[df[\"Cluster_Id\"]==1].sort_values(by = [\"Quantity\",\"UnitPrice\"],ascending = (False,False))\n",
    "df[df[\"Cluster_Id\"]==1].sort_values(by = [\"Quantity\",\"UnitPrice\"],ascending = (False,False)).head()"
   ]
  },
  {
   "cell_type": "code",
   "execution_count": 122,
   "id": "d08aef8d",
   "metadata": {},
   "outputs": [
    {
     "data": {
      "text/plain": [
       "United Kingdom          133878\n",
       "Spain                     1139\n",
       "Netherlands                490\n",
       "Portugal                   419\n",
       "Switzerland                409\n",
       "USA                        213\n",
       "Sweden                     172\n",
       "Unspecified                172\n",
       "Norway                     125\n",
       "Malta                       51\n",
       "Singapore                   47\n",
       "United Arab Emirates        37\n",
       "Poland                      21\n",
       "Name: Country, dtype: int64"
      ]
     },
     "execution_count": 122,
     "metadata": {},
     "output_type": "execute_result"
    }
   ],
   "source": [
    "B[\"Country\"].value_counts()"
   ]
  },
  {
   "cell_type": "code",
   "execution_count": 123,
   "id": "907301e4",
   "metadata": {},
   "outputs": [
    {
     "data": {
      "text/plain": [
       "13"
      ]
     },
     "execution_count": 123,
     "metadata": {},
     "output_type": "execute_result"
    }
   ],
   "source": [
    "len(B[\"Country\"].value_counts())"
   ]
  },
  {
   "cell_type": "code",
   "execution_count": 124,
   "id": "2b78166d",
   "metadata": {},
   "outputs": [
    {
     "data": {
      "text/plain": [
       "12pm-6pm        137173\n",
       "Midnight-6am         0\n",
       "6am-12pm             0\n",
       "6pm-Midnight         0\n",
       "Name: Time, dtype: int64"
      ]
     },
     "execution_count": 124,
     "metadata": {},
     "output_type": "execute_result"
    }
   ],
   "source": [
    "B[\"Time\"].value_counts()"
   ]
  },
  {
   "cell_type": "code",
   "execution_count": 125,
   "id": "e2edc83c",
   "metadata": {},
   "outputs": [
    {
     "data": {
      "text/plain": [
       "WHITE HANGING HEART T-LIGHT HOLDER    987\n",
       "JUMBO BAG RED RETROSPOT               691\n",
       "ASSORTED COLOUR BIRD ORNAMENT         671\n",
       "PARTY BUNTING                         617\n",
       "SPOTTY BUNTING                        464\n",
       "                                     ... \n",
       "5 STRAND GLASS NECKLACE BLACK           1\n",
       "WALL ART , THE MAGIC FOREST             1\n",
       "SMALL KITCHEN FLOWER POTS PLAQUE        1\n",
       "PACK OF 12 DOILEY TISSUES               1\n",
       "VINTAGE BILLBOARD TEA MUG               1\n",
       "Name: Description, Length: 3502, dtype: int64"
      ]
     },
     "execution_count": 125,
     "metadata": {},
     "output_type": "execute_result"
    }
   ],
   "source": [
    "B[\"Description\"].value_counts()"
   ]
  },
  {
   "cell_type": "code",
   "execution_count": 126,
   "id": "d3fe124d",
   "metadata": {},
   "outputs": [
    {
     "data": {
      "text/plain": [
       "3502"
      ]
     },
     "execution_count": 126,
     "metadata": {},
     "output_type": "execute_result"
    }
   ],
   "source": [
    "len(B[\"Description\"].value_counts())"
   ]
  },
  {
   "cell_type": "code",
   "execution_count": 127,
   "id": "275145f1",
   "metadata": {},
   "outputs": [
    {
     "ename": "SyntaxError",
     "evalue": "invalid syntax (1628864144.py, line 1)",
     "output_type": "error",
     "traceback": [
      "\u001b[1;36m  Input \u001b[1;32mIn [127]\u001b[1;36m\u001b[0m\n\u001b[1;33m    In clusterid = 1 we can see that most of the customers are from United Kingdom followed by Spain, Netherlands,\u001b[0m\n\u001b[1;37m       ^\u001b[0m\n\u001b[1;31mSyntaxError\u001b[0m\u001b[1;31m:\u001b[0m invalid syntax\n"
     ]
    }
   ],
   "source": [
    "In clusterid = 1 we can see that most of the customers are from United Kingdom followed by Spain, Netherlands,\n",
    "Portugal,Switzerland and the least we can see in UAE and Poland. And the cutomers from this cluster make all of their \n",
    "purchases at 12pm-6pm\n",
    "The products which they are purchasing most are\n",
    "\n",
    "WHITE HANGING HEART T-LIGHT HOLDER,\n",
    "JUMBO BAG RED RETROSPOT\n",
    "PARTY BUNTING\n",
    "ASSORTED COLOUR BIRD ORNAMENT\n",
    "SPOTTY BUNTING\n",
    "\n",
    "And the products which they are least purchased are:\n",
    "    \n",
    "VINTAGE BILLBOARD TEA MUG \n",
    "WALL ART , THE MAGIC FOREST\n",
    "SMALL KITCHEN FLOWER POTS PLAQUE \n",
    "5 STRAND GLASS NECKLACE AMETHYST\n",
    "PACK OF 12 DOILEY TISSUES  \n",
    "\n",
    "And out of 3896 Unique Products these group of consumers purchase 3502 of the products that is almost 90% of the \n",
    "total products are consumed by this perticular group.\n",
    "\n",
    "And here we totaly we have participation of 37 countries. So here we have consumers from 13 countries in buying \n",
    "these products that is above products are nedded by almost 35% out of total countries "
   ]
  },
  {
   "cell_type": "code",
   "execution_count": 128,
   "id": "91d15878",
   "metadata": {
    "scrolled": true
   },
   "outputs": [
    {
     "data": {
      "text/html": [
       "<div>\n",
       "<style scoped>\n",
       "    .dataframe tbody tr th:only-of-type {\n",
       "        vertical-align: middle;\n",
       "    }\n",
       "\n",
       "    .dataframe tbody tr th {\n",
       "        vertical-align: top;\n",
       "    }\n",
       "\n",
       "    .dataframe thead th {\n",
       "        text-align: right;\n",
       "    }\n",
       "</style>\n",
       "<table border=\"1\" class=\"dataframe\">\n",
       "  <thead>\n",
       "    <tr style=\"text-align: right;\">\n",
       "      <th></th>\n",
       "      <th>InvoiceNo</th>\n",
       "      <th>StockCode</th>\n",
       "      <th>Description</th>\n",
       "      <th>Quantity</th>\n",
       "      <th>UnitPrice</th>\n",
       "      <th>CustomerID</th>\n",
       "      <th>Country</th>\n",
       "      <th>Time</th>\n",
       "      <th>Cluster_Id</th>\n",
       "      <th>total_purchase_amount</th>\n",
       "    </tr>\n",
       "  </thead>\n",
       "  <tbody>\n",
       "    <tr>\n",
       "      <th>97432</th>\n",
       "      <td>544612</td>\n",
       "      <td>22053</td>\n",
       "      <td>EMPIRE DESIGN ROSETTE</td>\n",
       "      <td>3906</td>\n",
       "      <td>0.82</td>\n",
       "      <td>18087.0</td>\n",
       "      <td>United Kingdom</td>\n",
       "      <td>6am-12pm</td>\n",
       "      <td>2</td>\n",
       "      <td>3202.92</td>\n",
       "    </tr>\n",
       "    <tr>\n",
       "      <th>270885</th>\n",
       "      <td>560599</td>\n",
       "      <td>18007</td>\n",
       "      <td>ESSENTIAL BALM 3.5g TIN IN ENVELOPE</td>\n",
       "      <td>3186</td>\n",
       "      <td>0.06</td>\n",
       "      <td>14609.0</td>\n",
       "      <td>United Kingdom</td>\n",
       "      <td>12pm-6pm</td>\n",
       "      <td>2</td>\n",
       "      <td>191.16</td>\n",
       "    </tr>\n",
       "    <tr>\n",
       "      <th>52711</th>\n",
       "      <td>540815</td>\n",
       "      <td>21108</td>\n",
       "      <td>FAIRY CAKE FLANNEL ASSORTED COLOUR</td>\n",
       "      <td>3114</td>\n",
       "      <td>2.10</td>\n",
       "      <td>15749.0</td>\n",
       "      <td>United Kingdom</td>\n",
       "      <td>6am-12pm</td>\n",
       "      <td>2</td>\n",
       "      <td>6539.40</td>\n",
       "    </tr>\n",
       "    <tr>\n",
       "      <th>160546</th>\n",
       "      <td>550461</td>\n",
       "      <td>21108</td>\n",
       "      <td>FAIRY CAKE FLANNEL ASSORTED COLOUR</td>\n",
       "      <td>3114</td>\n",
       "      <td>2.10</td>\n",
       "      <td>15749.0</td>\n",
       "      <td>United Kingdom</td>\n",
       "      <td>12pm-6pm</td>\n",
       "      <td>2</td>\n",
       "      <td>6539.40</td>\n",
       "    </tr>\n",
       "    <tr>\n",
       "      <th>4945</th>\n",
       "      <td>536830</td>\n",
       "      <td>84077</td>\n",
       "      <td>WORLD WAR 2 GLIDERS ASSTD DESIGNS</td>\n",
       "      <td>2880</td>\n",
       "      <td>0.18</td>\n",
       "      <td>16754.0</td>\n",
       "      <td>United Kingdom</td>\n",
       "      <td>12pm-6pm</td>\n",
       "      <td>2</td>\n",
       "      <td>518.40</td>\n",
       "    </tr>\n",
       "  </tbody>\n",
       "</table>\n",
       "</div>"
      ],
      "text/plain": [
       "       InvoiceNo StockCode                          Description  Quantity  \\\n",
       "97432     544612     22053                EMPIRE DESIGN ROSETTE      3906   \n",
       "270885    560599     18007  ESSENTIAL BALM 3.5g TIN IN ENVELOPE      3186   \n",
       "52711     540815     21108   FAIRY CAKE FLANNEL ASSORTED COLOUR      3114   \n",
       "160546    550461     21108   FAIRY CAKE FLANNEL ASSORTED COLOUR      3114   \n",
       "4945      536830     84077    WORLD WAR 2 GLIDERS ASSTD DESIGNS      2880   \n",
       "\n",
       "        UnitPrice  CustomerID         Country      Time  Cluster_Id  \\\n",
       "97432        0.82     18087.0  United Kingdom  6am-12pm           2   \n",
       "270885       0.06     14609.0  United Kingdom  12pm-6pm           2   \n",
       "52711        2.10     15749.0  United Kingdom  6am-12pm           2   \n",
       "160546       2.10     15749.0  United Kingdom  12pm-6pm           2   \n",
       "4945         0.18     16754.0  United Kingdom  12pm-6pm           2   \n",
       "\n",
       "        total_purchase_amount  \n",
       "97432                 3202.92  \n",
       "270885                 191.16  \n",
       "52711                 6539.40  \n",
       "160546                6539.40  \n",
       "4945                   518.40  "
      ]
     },
     "execution_count": 128,
     "metadata": {},
     "output_type": "execute_result"
    }
   ],
   "source": [
    "C = df[df[\"Cluster_Id\"]==2].sort_values(by = [\"Quantity\",\"UnitPrice\"],ascending = (False,False))\n",
    "df[df[\"Cluster_Id\"]==2].sort_values(by = [\"Quantity\",\"UnitPrice\"],ascending = (False,False)).head()"
   ]
  },
  {
   "cell_type": "code",
   "execution_count": 129,
   "id": "9a9c1fb2",
   "metadata": {},
   "outputs": [
    {
     "data": {
      "text/plain": [
       "United Kingdom          105189\n",
       "Spain                      836\n",
       "Netherlands                701\n",
       "Switzerland                508\n",
       "Portugal                   403\n",
       "Sweden                     128\n",
       "Norway                     125\n",
       "Singapore                   92\n",
       "Poland                      80\n",
       "Unspecified                 53\n",
       "Lithuania                   33\n",
       "United Arab Emirates        21\n",
       "Malta                       17\n",
       "USA                         11\n",
       "Saudi Arabia                 9\n",
       "Name: Country, dtype: int64"
      ]
     },
     "execution_count": 129,
     "metadata": {},
     "output_type": "execute_result"
    }
   ],
   "source": [
    "C[\"Country\"].value_counts()"
   ]
  },
  {
   "cell_type": "code",
   "execution_count": 130,
   "id": "cee661aa",
   "metadata": {},
   "outputs": [
    {
     "data": {
      "text/plain": [
       "15"
      ]
     },
     "execution_count": 130,
     "metadata": {},
     "output_type": "execute_result"
    }
   ],
   "source": [
    "len(C[\"Country\"].value_counts())"
   ]
  },
  {
   "cell_type": "code",
   "execution_count": 131,
   "id": "0237487c",
   "metadata": {},
   "outputs": [
    {
     "data": {
      "text/plain": [
       "12pm-6pm        56064\n",
       "6am-12pm        51976\n",
       "6pm-Midnight      166\n",
       "Midnight-6am        0\n",
       "Name: Time, dtype: int64"
      ]
     },
     "execution_count": 131,
     "metadata": {},
     "output_type": "execute_result"
    }
   ],
   "source": [
    "C[\"Time\"].value_counts()"
   ]
  },
  {
   "cell_type": "code",
   "execution_count": 132,
   "id": "5872fa1e",
   "metadata": {},
   "outputs": [
    {
     "data": {
      "text/plain": [
       "LUNCH BAG RED RETROSPOT               868\n",
       "LUNCH BAG  BLACK SKULL.               712\n",
       "REGENCY CAKESTAND 3 TIER              699\n",
       "LUNCH BAG CARS BLUE                   672\n",
       "PACK OF 72 RETROSPOT CAKE CASES       619\n",
       "                                     ... \n",
       "BAG OF SILVER STONES                    1\n",
       "FOLK ART METAL STAR T-LIGHT HOLDER      1\n",
       "TEA TIME TEA SET IN GIFT BOX            1\n",
       "GREEN  DIAMANTE PEN IN GIFT BOX         1\n",
       "BLUE VICTORIAN FABRIC OVAL BOX          1\n",
       "Name: Description, Length: 2179, dtype: int64"
      ]
     },
     "execution_count": 132,
     "metadata": {},
     "output_type": "execute_result"
    }
   ],
   "source": [
    "C[\"Description\"].value_counts()"
   ]
  },
  {
   "cell_type": "code",
   "execution_count": 133,
   "id": "5b0811ae",
   "metadata": {},
   "outputs": [
    {
     "data": {
      "text/plain": [
       "2179"
      ]
     },
     "execution_count": 133,
     "metadata": {},
     "output_type": "execute_result"
    }
   ],
   "source": [
    "len(C[\"Description\"].value_counts())"
   ]
  },
  {
   "cell_type": "code",
   "execution_count": 134,
   "id": "cca70915",
   "metadata": {},
   "outputs": [
    {
     "ename": "SyntaxError",
     "evalue": "invalid syntax (1166225342.py, line 1)",
     "output_type": "error",
     "traceback": [
      "\u001b[1;36m  Input \u001b[1;32mIn [134]\u001b[1;36m\u001b[0m\n\u001b[1;33m    In clusterid = 2 we can see that most of the customers are from United Kingdom followed by Spain, Netherlands,\u001b[0m\n\u001b[1;37m       ^\u001b[0m\n\u001b[1;31mSyntaxError\u001b[0m\u001b[1;31m:\u001b[0m invalid syntax\n"
     ]
    }
   ],
   "source": [
    "In clusterid = 2 we can see that most of the customers are from United Kingdom followed by Spain, Netherlands,\n",
    "Portugal,Switzerland and the least we can see in USA and Saudi Arabia. And the cutomers from this cluster make all of their \n",
    "purchases at 12pm-6pm and 6am-12pm and least are made on 6pm-Midnight and no purchases are made on Midnight-6am\n",
    "The products which  are purchased most:\n",
    "\n",
    "LUNCH BAG RED RETROSPOT \n",
    "LUNCH BAG  BLACK SKULL.\n",
    "REGENCY CAKESTAND 3 TIER\n",
    "LUNCH BAG CARS BLUE\n",
    "PACK OF 72 RETROSPOT CAKE CASES\n",
    "\n",
    "products which  are least purchased :\n",
    "    \n",
    "BAG OF SILVER STONES\n",
    "FOLK ART METAL STAR T-LIGHT HOLDER\n",
    "TEA TIME TEA SET IN GIFT BOX  \n",
    "GREEN  DIAMANTE PEN IN GIFT BOX\n",
    "BLUE VICTORIAN FABRIC OVAL BOX\n",
    "\n",
    "And out of 3896 Unique Products these group of consumers purchase 2179 of the products that is almost 55% of the \n",
    "total products are consumed by this perticular group.\n",
    "\n",
    "And here we totaly we have participation of 37 countries. So here we have consumers from 15 countries in buying \n",
    "these products that is above products are nedded by almost 40% out of total countries "
   ]
  },
  {
   "cell_type": "code",
   "execution_count": 135,
   "id": "ccc92030",
   "metadata": {},
   "outputs": [
    {
     "data": {
      "text/html": [
       "<div>\n",
       "<style scoped>\n",
       "    .dataframe tbody tr th:only-of-type {\n",
       "        vertical-align: middle;\n",
       "    }\n",
       "\n",
       "    .dataframe tbody tr th {\n",
       "        vertical-align: top;\n",
       "    }\n",
       "\n",
       "    .dataframe thead th {\n",
       "        text-align: right;\n",
       "    }\n",
       "</style>\n",
       "<table border=\"1\" class=\"dataframe\">\n",
       "  <thead>\n",
       "    <tr style=\"text-align: right;\">\n",
       "      <th></th>\n",
       "      <th>InvoiceNo</th>\n",
       "      <th>StockCode</th>\n",
       "      <th>Description</th>\n",
       "      <th>Quantity</th>\n",
       "      <th>UnitPrice</th>\n",
       "      <th>CustomerID</th>\n",
       "      <th>Country</th>\n",
       "      <th>Time</th>\n",
       "      <th>Cluster_Id</th>\n",
       "      <th>total_purchase_amount</th>\n",
       "    </tr>\n",
       "  </thead>\n",
       "  <tbody>\n",
       "    <tr>\n",
       "      <th>540421</th>\n",
       "      <td>581483</td>\n",
       "      <td>23843</td>\n",
       "      <td>PAPER CRAFT , LITTLE BIRDIE</td>\n",
       "      <td>80995</td>\n",
       "      <td>2.08</td>\n",
       "      <td>16446.0</td>\n",
       "      <td>United Kingdom</td>\n",
       "      <td>6am-12pm</td>\n",
       "      <td>3</td>\n",
       "      <td>168469.6</td>\n",
       "    </tr>\n",
       "    <tr>\n",
       "      <th>61619</th>\n",
       "      <td>541431</td>\n",
       "      <td>23166</td>\n",
       "      <td>MEDIUM CERAMIC TOP STORAGE JAR</td>\n",
       "      <td>74215</td>\n",
       "      <td>1.04</td>\n",
       "      <td>12346.0</td>\n",
       "      <td>United Kingdom</td>\n",
       "      <td>6am-12pm</td>\n",
       "      <td>3</td>\n",
       "      <td>77183.6</td>\n",
       "    </tr>\n",
       "    <tr>\n",
       "      <th>511421</th>\n",
       "      <td>579498</td>\n",
       "      <td>23084</td>\n",
       "      <td>RABBIT NIGHT LIGHT</td>\n",
       "      <td>2040</td>\n",
       "      <td>1.79</td>\n",
       "      <td>12798.0</td>\n",
       "      <td>Japan</td>\n",
       "      <td>12pm-6pm</td>\n",
       "      <td>3</td>\n",
       "      <td>3651.6</td>\n",
       "    </tr>\n",
       "    <tr>\n",
       "      <th>19871</th>\n",
       "      <td>537899</td>\n",
       "      <td>22328</td>\n",
       "      <td>ROUND SNACK BOXES SET OF 4 FRUITS</td>\n",
       "      <td>1488</td>\n",
       "      <td>2.55</td>\n",
       "      <td>12755.0</td>\n",
       "      <td>Japan</td>\n",
       "      <td>6am-12pm</td>\n",
       "      <td>3</td>\n",
       "      <td>3794.4</td>\n",
       "    </tr>\n",
       "    <tr>\n",
       "      <th>6365</th>\n",
       "      <td>536890</td>\n",
       "      <td>17084R</td>\n",
       "      <td>ASSORTED INCENSE PACK</td>\n",
       "      <td>1440</td>\n",
       "      <td>0.16</td>\n",
       "      <td>14156.0</td>\n",
       "      <td>EIRE</td>\n",
       "      <td>6am-12pm</td>\n",
       "      <td>3</td>\n",
       "      <td>230.4</td>\n",
       "    </tr>\n",
       "  </tbody>\n",
       "</table>\n",
       "</div>"
      ],
      "text/plain": [
       "       InvoiceNo StockCode                         Description  Quantity  \\\n",
       "540421    581483     23843         PAPER CRAFT , LITTLE BIRDIE     80995   \n",
       "61619     541431     23166      MEDIUM CERAMIC TOP STORAGE JAR     74215   \n",
       "511421    579498     23084                  RABBIT NIGHT LIGHT      2040   \n",
       "19871     537899     22328  ROUND SNACK BOXES SET OF 4 FRUITS       1488   \n",
       "6365      536890    17084R               ASSORTED INCENSE PACK      1440   \n",
       "\n",
       "        UnitPrice  CustomerID         Country      Time  Cluster_Id  \\\n",
       "540421       2.08     16446.0  United Kingdom  6am-12pm           3   \n",
       "61619        1.04     12346.0  United Kingdom  6am-12pm           3   \n",
       "511421       1.79     12798.0           Japan  12pm-6pm           3   \n",
       "19871        2.55     12755.0           Japan  6am-12pm           3   \n",
       "6365         0.16     14156.0            EIRE  6am-12pm           3   \n",
       "\n",
       "        total_purchase_amount  \n",
       "540421               168469.6  \n",
       "61619                 77183.6  \n",
       "511421                 3651.6  \n",
       "19871                  3794.4  \n",
       "6365                    230.4  "
      ]
     },
     "execution_count": 135,
     "metadata": {},
     "output_type": "execute_result"
    }
   ],
   "source": [
    "D  = df[df[\"Cluster_Id\"]==3].sort_values(by = [\"Quantity\",\"UnitPrice\"],ascending = (False,False))\n",
    "df[df[\"Cluster_Id\"]==3].sort_values(by = [\"Quantity\",\"UnitPrice\"],ascending = (False,False)).head()"
   ]
  },
  {
   "cell_type": "code",
   "execution_count": 136,
   "id": "e7110c03",
   "metadata": {
    "scrolled": true
   },
   "outputs": [
    {
     "data": {
      "text/plain": [
       "27"
      ]
     },
     "execution_count": 136,
     "metadata": {},
     "output_type": "execute_result"
    }
   ],
   "source": [
    "len(D[\"Country\"].value_counts())"
   ]
  },
  {
   "cell_type": "code",
   "execution_count": 137,
   "id": "ccc4de61",
   "metadata": {},
   "outputs": [
    {
     "data": {
      "text/plain": [
       "6am-12pm        19854\n",
       "12pm-6pm        14987\n",
       "6pm-Midnight      163\n",
       "Midnight-6am       13\n",
       "Name: Time, dtype: int64"
      ]
     },
     "execution_count": 137,
     "metadata": {},
     "output_type": "execute_result"
    }
   ],
   "source": [
    "D[\"Time\"].value_counts()"
   ]
  },
  {
   "cell_type": "code",
   "execution_count": 138,
   "id": "0bd12c6d",
   "metadata": {},
   "outputs": [
    {
     "data": {
      "text/plain": [
       "POSTAGE                                913\n",
       "REGENCY CAKESTAND 3 TIER               274\n",
       "ROUND SNACK BOXES SET OF4 WOODLAND     256\n",
       "PLASTERS IN TIN WOODLAND ANIMALS       170\n",
       "PLASTERS IN TIN CIRCUS PARADE          166\n",
       "                                      ... \n",
       "RED BOUDICCA LARGE BRACELET              1\n",
       "ANT COPPER TURQ BOUDICCA BRACELET        1\n",
       "IVORY WICKER HEART SMALL                 1\n",
       "MISELTOE HEART WREATH                    1\n",
       "PINK POODLE HANGING DECORATION           1\n",
       "Name: Description, Length: 2775, dtype: int64"
      ]
     },
     "execution_count": 138,
     "metadata": {},
     "output_type": "execute_result"
    }
   ],
   "source": [
    "D[\"Description\"].value_counts()"
   ]
  },
  {
   "cell_type": "code",
   "execution_count": 139,
   "id": "48519da8",
   "metadata": {},
   "outputs": [
    {
     "data": {
      "text/plain": [
       "2775"
      ]
     },
     "execution_count": 139,
     "metadata": {},
     "output_type": "execute_result"
    }
   ],
   "source": [
    "len(D[\"Description\"].value_counts())"
   ]
  },
  {
   "cell_type": "code",
   "execution_count": 140,
   "id": "3a759cb8",
   "metadata": {},
   "outputs": [
    {
     "ename": "SyntaxError",
     "evalue": "invalid syntax (2372908626.py, line 1)",
     "output_type": "error",
     "traceback": [
      "\u001b[1;36m  Input \u001b[1;32mIn [140]\u001b[1;36m\u001b[0m\n\u001b[1;33m    In clusterid = 3 we can see that most of the customers are from Germany followed by France, EIRE,\u001b[0m\n\u001b[1;37m       ^\u001b[0m\n\u001b[1;31mSyntaxError\u001b[0m\u001b[1;31m:\u001b[0m invalid syntax\n"
     ]
    }
   ],
   "source": [
    "In clusterid = 3 we can see that most of the customers are from Germany followed by France, EIRE,\n",
    "Belgium,Australia and the least we can see in United Kingdom,Portugal,Bahrain and Lithuania.\n",
    "And the cutomers from this cluster make all of their purchases at 6am-12pm and 12pm-6pm and least\n",
    "are made on 6pm-Midnight and Midnight-6am\n",
    "\n",
    "The products which  are purchased most:\n",
    "\n",
    "POSTAGE                                 \n",
    "REGENCY CAKESTAND 3 TIER   \n",
    "ROUND SNACK BOXES SET OF4 WOODLAND\n",
    "PLASTERS IN TIN WOODLAND ANIMALS \n",
    "PLASTERS IN TIN CIRCUS PARADE\n",
    "\n",
    "products which  are least purchased :\n",
    "    \n",
    "RED BOUDICCA LARGE BRACELET \n",
    "ANT COPPER TURQ BOUDICCA BRACELET\n",
    "IVORY WICKER HEART SMALL   \n",
    "MISELTOE HEART WREATH\n",
    "PINK POODLE HANGING DECORATION \n",
    "\n",
    "And out of 3896 Unique Products these group of consumers purchase 2775 of the products that is almost 71% of the \n",
    "total products are consumed by this perticular group.\n",
    "\n",
    "And here  we have participation of 37 countries. So here we have consumers from 27 countries in buying \n",
    "these products that is above products are nedded by almost 73% out of total countries"
   ]
  },
  {
   "cell_type": "code",
   "execution_count": 141,
   "id": "5be7cefc",
   "metadata": {
    "scrolled": true
   },
   "outputs": [
    {
     "data": {
      "text/html": [
       "<div>\n",
       "<style scoped>\n",
       "    .dataframe tbody tr th:only-of-type {\n",
       "        vertical-align: middle;\n",
       "    }\n",
       "\n",
       "    .dataframe tbody tr th {\n",
       "        vertical-align: top;\n",
       "    }\n",
       "\n",
       "    .dataframe thead th {\n",
       "        text-align: right;\n",
       "    }\n",
       "</style>\n",
       "<table border=\"1\" class=\"dataframe\">\n",
       "  <thead>\n",
       "    <tr style=\"text-align: right;\">\n",
       "      <th></th>\n",
       "      <th>InvoiceNo</th>\n",
       "      <th>StockCode</th>\n",
       "      <th>Description</th>\n",
       "      <th>Quantity</th>\n",
       "      <th>UnitPrice</th>\n",
       "      <th>CustomerID</th>\n",
       "      <th>Country</th>\n",
       "      <th>Time</th>\n",
       "      <th>Cluster_Id</th>\n",
       "      <th>total_purchase_amount</th>\n",
       "    </tr>\n",
       "  </thead>\n",
       "  <tbody>\n",
       "    <tr>\n",
       "      <th>222681</th>\n",
       "      <td>C556445</td>\n",
       "      <td>M</td>\n",
       "      <td>Manual</td>\n",
       "      <td>-1</td>\n",
       "      <td>38970.0</td>\n",
       "      <td>15098.0</td>\n",
       "      <td>United Kingdom</td>\n",
       "      <td>12pm-6pm</td>\n",
       "      <td>4</td>\n",
       "      <td>-38970.0</td>\n",
       "    </tr>\n",
       "  </tbody>\n",
       "</table>\n",
       "</div>"
      ],
      "text/plain": [
       "       InvoiceNo StockCode Description  Quantity  UnitPrice  CustomerID  \\\n",
       "222681   C556445         M      Manual        -1    38970.0     15098.0   \n",
       "\n",
       "               Country      Time  Cluster_Id  total_purchase_amount  \n",
       "222681  United Kingdom  12pm-6pm           4               -38970.0  "
      ]
     },
     "execution_count": 141,
     "metadata": {},
     "output_type": "execute_result"
    }
   ],
   "source": [
    "E = df[df[\"Cluster_Id\"]==4].sort_values(by = [\"Quantity\",\"UnitPrice\"],ascending = (False,False))\n",
    "df[df[\"Cluster_Id\"]==4].sort_values(by = [\"Quantity\",\"UnitPrice\"],ascending = (False,False)).head()"
   ]
  },
  {
   "cell_type": "code",
   "execution_count": 142,
   "id": "a1e56965",
   "metadata": {},
   "outputs": [
    {
     "data": {
      "text/plain": [
       "United Kingdom    1\n",
       "Name: Country, dtype: int64"
      ]
     },
     "execution_count": 142,
     "metadata": {},
     "output_type": "execute_result"
    }
   ],
   "source": [
    "E[\"Country\"].value_counts()"
   ]
  },
  {
   "cell_type": "code",
   "execution_count": 143,
   "id": "78c07394",
   "metadata": {},
   "outputs": [
    {
     "data": {
      "text/plain": [
       "12pm-6pm        1\n",
       "Midnight-6am    0\n",
       "6am-12pm        0\n",
       "6pm-Midnight    0\n",
       "Name: Time, dtype: int64"
      ]
     },
     "execution_count": 143,
     "metadata": {},
     "output_type": "execute_result"
    }
   ],
   "source": [
    "E[\"Time\"].value_counts()"
   ]
  },
  {
   "cell_type": "code",
   "execution_count": 144,
   "id": "3846caa3",
   "metadata": {},
   "outputs": [
    {
     "data": {
      "text/plain": [
       "Manual    1\n",
       "Name: Description, dtype: int64"
      ]
     },
     "execution_count": 144,
     "metadata": {},
     "output_type": "execute_result"
    }
   ],
   "source": [
    "E[\"Description\"].value_counts()"
   ]
  },
  {
   "cell_type": "code",
   "execution_count": 145,
   "id": "193c9308",
   "metadata": {},
   "outputs": [
    {
     "data": {
      "text/plain": [
       "1"
      ]
     },
     "execution_count": 145,
     "metadata": {},
     "output_type": "execute_result"
    }
   ],
   "source": [
    "len(E[\"Description\"].value_counts())"
   ]
  },
  {
   "cell_type": "code",
   "execution_count": 146,
   "id": "4e33cec3",
   "metadata": {},
   "outputs": [
    {
     "ename": "SyntaxError",
     "evalue": "invalid syntax (3329115519.py, line 1)",
     "output_type": "error",
     "traceback": [
      "\u001b[1;36m  Input \u001b[1;32mIn [146]\u001b[1;36m\u001b[0m\n\u001b[1;33m    In clusterid = 4 we can see that there is only 1 return of purchased item and its done in United Kingdom around 12pm-6pm\u001b[0m\n\u001b[1;37m       ^\u001b[0m\n\u001b[1;31mSyntaxError\u001b[0m\u001b[1;31m:\u001b[0m invalid syntax\n"
     ]
    }
   ],
   "source": [
    "In clusterid = 4 we can see that there is only 1 return of purchased item and its done in United Kingdom around 12pm-6pm \n"
   ]
  },
  {
   "cell_type": "code",
   "execution_count": 147,
   "id": "b4a7c55c",
   "metadata": {
    "scrolled": true
   },
   "outputs": [
    {
     "data": {
      "text/html": [
       "<div>\n",
       "<style scoped>\n",
       "    .dataframe tbody tr th:only-of-type {\n",
       "        vertical-align: middle;\n",
       "    }\n",
       "\n",
       "    .dataframe tbody tr th {\n",
       "        vertical-align: top;\n",
       "    }\n",
       "\n",
       "    .dataframe thead th {\n",
       "        text-align: right;\n",
       "    }\n",
       "</style>\n",
       "<table border=\"1\" class=\"dataframe\">\n",
       "  <thead>\n",
       "    <tr style=\"text-align: right;\">\n",
       "      <th></th>\n",
       "      <th>InvoiceNo</th>\n",
       "      <th>StockCode</th>\n",
       "      <th>Description</th>\n",
       "      <th>Quantity</th>\n",
       "      <th>UnitPrice</th>\n",
       "      <th>CustomerID</th>\n",
       "      <th>Country</th>\n",
       "      <th>Time</th>\n",
       "      <th>Cluster_Id</th>\n",
       "      <th>total_purchase_amount</th>\n",
       "    </tr>\n",
       "  </thead>\n",
       "  <tbody>\n",
       "    <tr>\n",
       "      <th>61624</th>\n",
       "      <td>C541433</td>\n",
       "      <td>23166</td>\n",
       "      <td>MEDIUM CERAMIC TOP STORAGE JAR</td>\n",
       "      <td>-74215</td>\n",
       "      <td>1.04</td>\n",
       "      <td>12346.0</td>\n",
       "      <td>United Kingdom</td>\n",
       "      <td>6am-12pm</td>\n",
       "      <td>5</td>\n",
       "      <td>-77183.6</td>\n",
       "    </tr>\n",
       "    <tr>\n",
       "      <th>540422</th>\n",
       "      <td>C581484</td>\n",
       "      <td>23843</td>\n",
       "      <td>PAPER CRAFT , LITTLE BIRDIE</td>\n",
       "      <td>-80995</td>\n",
       "      <td>2.08</td>\n",
       "      <td>16446.0</td>\n",
       "      <td>United Kingdom</td>\n",
       "      <td>6am-12pm</td>\n",
       "      <td>5</td>\n",
       "      <td>-168469.6</td>\n",
       "    </tr>\n",
       "  </tbody>\n",
       "</table>\n",
       "</div>"
      ],
      "text/plain": [
       "       InvoiceNo StockCode                     Description  Quantity  \\\n",
       "61624    C541433     23166  MEDIUM CERAMIC TOP STORAGE JAR    -74215   \n",
       "540422   C581484     23843     PAPER CRAFT , LITTLE BIRDIE    -80995   \n",
       "\n",
       "        UnitPrice  CustomerID         Country      Time  Cluster_Id  \\\n",
       "61624        1.04     12346.0  United Kingdom  6am-12pm           5   \n",
       "540422       2.08     16446.0  United Kingdom  6am-12pm           5   \n",
       "\n",
       "        total_purchase_amount  \n",
       "61624                -77183.6  \n",
       "540422              -168469.6  "
      ]
     },
     "execution_count": 147,
     "metadata": {},
     "output_type": "execute_result"
    }
   ],
   "source": [
    "F = df[df[\"Cluster_Id\"]==5].sort_values(by = [\"Quantity\",\"UnitPrice\"],ascending = (False,False))\n",
    "df[df[\"Cluster_Id\"]==5].sort_values(by = [\"Quantity\",\"UnitPrice\"],ascending = (False,False)).head()"
   ]
  },
  {
   "cell_type": "code",
   "execution_count": 148,
   "id": "aef565f5",
   "metadata": {},
   "outputs": [
    {
     "data": {
      "text/plain": [
       "United Kingdom    2\n",
       "Name: Country, dtype: int64"
      ]
     },
     "execution_count": 148,
     "metadata": {},
     "output_type": "execute_result"
    }
   ],
   "source": [
    "F[\"Country\"].value_counts()"
   ]
  },
  {
   "cell_type": "code",
   "execution_count": 149,
   "id": "f15d53ad",
   "metadata": {},
   "outputs": [
    {
     "data": {
      "text/plain": [
       "6am-12pm        2\n",
       "Midnight-6am    0\n",
       "12pm-6pm        0\n",
       "6pm-Midnight    0\n",
       "Name: Time, dtype: int64"
      ]
     },
     "execution_count": 149,
     "metadata": {},
     "output_type": "execute_result"
    }
   ],
   "source": [
    "F[\"Time\"].value_counts()"
   ]
  },
  {
   "cell_type": "code",
   "execution_count": 150,
   "id": "5b5615cc",
   "metadata": {},
   "outputs": [
    {
     "data": {
      "text/plain": [
       "MEDIUM CERAMIC TOP STORAGE JAR    1\n",
       "PAPER CRAFT , LITTLE BIRDIE       1\n",
       "Name: Description, dtype: int64"
      ]
     },
     "execution_count": 150,
     "metadata": {},
     "output_type": "execute_result"
    }
   ],
   "source": [
    "F[\"Description\"].value_counts()"
   ]
  },
  {
   "cell_type": "code",
   "execution_count": 151,
   "id": "82eac344",
   "metadata": {},
   "outputs": [
    {
     "ename": "SyntaxError",
     "evalue": "invalid syntax (928909913.py, line 1)",
     "output_type": "error",
     "traceback": [
      "\u001b[1;36m  Input \u001b[1;32mIn [151]\u001b[1;36m\u001b[0m\n\u001b[1;33m    In clusterid = 5 we can see that 2 items are returned in United Kingdom around 6am-12pm\u001b[0m\n\u001b[1;37m       ^\u001b[0m\n\u001b[1;31mSyntaxError\u001b[0m\u001b[1;31m:\u001b[0m invalid syntax\n"
     ]
    }
   ],
   "source": [
    "In clusterid = 5 we can see that 2 items are returned in United Kingdom around 6am-12pm\n",
    "and the returned items are as follows \n",
    "\n",
    "MEDIUM CERAMIC TOP STORAGE JAR\n",
    "PAPER CRAFT , LITTLE BIRDIE"
   ]
  },
  {
   "cell_type": "code",
   "execution_count": 152,
   "id": "1eafafc9",
   "metadata": {},
   "outputs": [],
   "source": [
    "# identifying the rows with negative values in the Quantity column\n",
    "negative_rows = df[df['Quantity'] < 0]"
   ]
  },
  {
   "cell_type": "code",
   "execution_count": 153,
   "id": "8382745e",
   "metadata": {},
   "outputs": [
    {
     "data": {
      "text/html": [
       "<div>\n",
       "<style scoped>\n",
       "    .dataframe tbody tr th:only-of-type {\n",
       "        vertical-align: middle;\n",
       "    }\n",
       "\n",
       "    .dataframe tbody tr th {\n",
       "        vertical-align: top;\n",
       "    }\n",
       "\n",
       "    .dataframe thead th {\n",
       "        text-align: right;\n",
       "    }\n",
       "</style>\n",
       "<table border=\"1\" class=\"dataframe\">\n",
       "  <thead>\n",
       "    <tr style=\"text-align: right;\">\n",
       "      <th></th>\n",
       "      <th>InvoiceNo</th>\n",
       "      <th>StockCode</th>\n",
       "      <th>Description</th>\n",
       "      <th>Quantity</th>\n",
       "      <th>UnitPrice</th>\n",
       "      <th>CustomerID</th>\n",
       "      <th>Country</th>\n",
       "      <th>Time</th>\n",
       "      <th>Cluster_Id</th>\n",
       "      <th>total_purchase_amount</th>\n",
       "    </tr>\n",
       "  </thead>\n",
       "  <tbody>\n",
       "    <tr>\n",
       "      <th>141</th>\n",
       "      <td>C536379</td>\n",
       "      <td>D</td>\n",
       "      <td>Discount</td>\n",
       "      <td>-1</td>\n",
       "      <td>27.50</td>\n",
       "      <td>14527.0</td>\n",
       "      <td>United Kingdom</td>\n",
       "      <td>6am-12pm</td>\n",
       "      <td>0</td>\n",
       "      <td>-27.50</td>\n",
       "    </tr>\n",
       "    <tr>\n",
       "      <th>154</th>\n",
       "      <td>C536383</td>\n",
       "      <td>35004C</td>\n",
       "      <td>SET OF 3 COLOURED  FLYING DUCKS</td>\n",
       "      <td>-1</td>\n",
       "      <td>4.65</td>\n",
       "      <td>15311.0</td>\n",
       "      <td>United Kingdom</td>\n",
       "      <td>6am-12pm</td>\n",
       "      <td>0</td>\n",
       "      <td>-4.65</td>\n",
       "    </tr>\n",
       "    <tr>\n",
       "      <th>235</th>\n",
       "      <td>C536391</td>\n",
       "      <td>22556</td>\n",
       "      <td>PLASTERS IN TIN CIRCUS PARADE</td>\n",
       "      <td>-12</td>\n",
       "      <td>1.65</td>\n",
       "      <td>17548.0</td>\n",
       "      <td>United Kingdom</td>\n",
       "      <td>6am-12pm</td>\n",
       "      <td>0</td>\n",
       "      <td>-19.80</td>\n",
       "    </tr>\n",
       "    <tr>\n",
       "      <th>236</th>\n",
       "      <td>C536391</td>\n",
       "      <td>21984</td>\n",
       "      <td>PACK OF 12 PINK PAISLEY TISSUES</td>\n",
       "      <td>-24</td>\n",
       "      <td>0.29</td>\n",
       "      <td>17548.0</td>\n",
       "      <td>United Kingdom</td>\n",
       "      <td>6am-12pm</td>\n",
       "      <td>0</td>\n",
       "      <td>-6.96</td>\n",
       "    </tr>\n",
       "    <tr>\n",
       "      <th>237</th>\n",
       "      <td>C536391</td>\n",
       "      <td>21983</td>\n",
       "      <td>PACK OF 12 BLUE PAISLEY TISSUES</td>\n",
       "      <td>-24</td>\n",
       "      <td>0.29</td>\n",
       "      <td>17548.0</td>\n",
       "      <td>United Kingdom</td>\n",
       "      <td>6am-12pm</td>\n",
       "      <td>0</td>\n",
       "      <td>-6.96</td>\n",
       "    </tr>\n",
       "    <tr>\n",
       "      <th>...</th>\n",
       "      <td>...</td>\n",
       "      <td>...</td>\n",
       "      <td>...</td>\n",
       "      <td>...</td>\n",
       "      <td>...</td>\n",
       "      <td>...</td>\n",
       "      <td>...</td>\n",
       "      <td>...</td>\n",
       "      <td>...</td>\n",
       "      <td>...</td>\n",
       "    </tr>\n",
       "    <tr>\n",
       "      <th>540449</th>\n",
       "      <td>C581490</td>\n",
       "      <td>23144</td>\n",
       "      <td>ZINC T-LIGHT HOLDER STARS SMALL</td>\n",
       "      <td>-11</td>\n",
       "      <td>0.83</td>\n",
       "      <td>14397.0</td>\n",
       "      <td>United Kingdom</td>\n",
       "      <td>6am-12pm</td>\n",
       "      <td>0</td>\n",
       "      <td>-9.13</td>\n",
       "    </tr>\n",
       "    <tr>\n",
       "      <th>541541</th>\n",
       "      <td>C581499</td>\n",
       "      <td>M</td>\n",
       "      <td>Manual</td>\n",
       "      <td>-1</td>\n",
       "      <td>224.69</td>\n",
       "      <td>15498.0</td>\n",
       "      <td>United Kingdom</td>\n",
       "      <td>6am-12pm</td>\n",
       "      <td>0</td>\n",
       "      <td>-224.69</td>\n",
       "    </tr>\n",
       "    <tr>\n",
       "      <th>541715</th>\n",
       "      <td>C581568</td>\n",
       "      <td>21258</td>\n",
       "      <td>VICTORIAN SEWING BOX LARGE</td>\n",
       "      <td>-5</td>\n",
       "      <td>10.95</td>\n",
       "      <td>15311.0</td>\n",
       "      <td>United Kingdom</td>\n",
       "      <td>6am-12pm</td>\n",
       "      <td>0</td>\n",
       "      <td>-54.75</td>\n",
       "    </tr>\n",
       "    <tr>\n",
       "      <th>541716</th>\n",
       "      <td>C581569</td>\n",
       "      <td>84978</td>\n",
       "      <td>HANGING HEART JAR T-LIGHT HOLDER</td>\n",
       "      <td>-1</td>\n",
       "      <td>1.25</td>\n",
       "      <td>17315.0</td>\n",
       "      <td>United Kingdom</td>\n",
       "      <td>6am-12pm</td>\n",
       "      <td>0</td>\n",
       "      <td>-1.25</td>\n",
       "    </tr>\n",
       "    <tr>\n",
       "      <th>541717</th>\n",
       "      <td>C581569</td>\n",
       "      <td>20979</td>\n",
       "      <td>36 PENCILS TUBE RED RETROSPOT</td>\n",
       "      <td>-5</td>\n",
       "      <td>1.25</td>\n",
       "      <td>17315.0</td>\n",
       "      <td>United Kingdom</td>\n",
       "      <td>6am-12pm</td>\n",
       "      <td>0</td>\n",
       "      <td>-6.25</td>\n",
       "    </tr>\n",
       "  </tbody>\n",
       "</table>\n",
       "<p>8905 rows × 10 columns</p>\n",
       "</div>"
      ],
      "text/plain": [
       "       InvoiceNo StockCode                       Description  Quantity  \\\n",
       "141      C536379         D                          Discount        -1   \n",
       "154      C536383    35004C   SET OF 3 COLOURED  FLYING DUCKS        -1   \n",
       "235      C536391     22556    PLASTERS IN TIN CIRCUS PARADE        -12   \n",
       "236      C536391     21984  PACK OF 12 PINK PAISLEY TISSUES        -24   \n",
       "237      C536391     21983  PACK OF 12 BLUE PAISLEY TISSUES        -24   \n",
       "...          ...       ...                               ...       ...   \n",
       "540449   C581490     23144   ZINC T-LIGHT HOLDER STARS SMALL       -11   \n",
       "541541   C581499         M                            Manual        -1   \n",
       "541715   C581568     21258        VICTORIAN SEWING BOX LARGE        -5   \n",
       "541716   C581569     84978  HANGING HEART JAR T-LIGHT HOLDER        -1   \n",
       "541717   C581569     20979     36 PENCILS TUBE RED RETROSPOT        -5   \n",
       "\n",
       "        UnitPrice  CustomerID         Country      Time  Cluster_Id  \\\n",
       "141         27.50     14527.0  United Kingdom  6am-12pm           0   \n",
       "154          4.65     15311.0  United Kingdom  6am-12pm           0   \n",
       "235          1.65     17548.0  United Kingdom  6am-12pm           0   \n",
       "236          0.29     17548.0  United Kingdom  6am-12pm           0   \n",
       "237          0.29     17548.0  United Kingdom  6am-12pm           0   \n",
       "...           ...         ...             ...       ...         ...   \n",
       "540449       0.83     14397.0  United Kingdom  6am-12pm           0   \n",
       "541541     224.69     15498.0  United Kingdom  6am-12pm           0   \n",
       "541715      10.95     15311.0  United Kingdom  6am-12pm           0   \n",
       "541716       1.25     17315.0  United Kingdom  6am-12pm           0   \n",
       "541717       1.25     17315.0  United Kingdom  6am-12pm           0   \n",
       "\n",
       "        total_purchase_amount  \n",
       "141                    -27.50  \n",
       "154                     -4.65  \n",
       "235                    -19.80  \n",
       "236                     -6.96  \n",
       "237                     -6.96  \n",
       "...                       ...  \n",
       "540449                  -9.13  \n",
       "541541                -224.69  \n",
       "541715                 -54.75  \n",
       "541716                  -1.25  \n",
       "541717                  -6.25  \n",
       "\n",
       "[8905 rows x 10 columns]"
      ]
     },
     "execution_count": 153,
     "metadata": {},
     "output_type": "execute_result"
    }
   ],
   "source": [
    "negative_rows"
   ]
  },
  {
   "cell_type": "code",
   "execution_count": 154,
   "id": "a0f0b6a4",
   "metadata": {},
   "outputs": [
    {
     "data": {
      "text/plain": [
       "1    4112\n",
       "0    3694\n",
       "3    1096\n",
       "5       2\n",
       "4       1\n",
       "Name: Cluster_Id, dtype: int64"
      ]
     },
     "execution_count": 154,
     "metadata": {},
     "output_type": "execute_result"
    }
   ],
   "source": [
    "negative_rows['Cluster_Id'].value_counts()"
   ]
  },
  {
   "cell_type": "code",
   "execution_count": 155,
   "id": "3b5a031b",
   "metadata": {},
   "outputs": [],
   "source": [
    "# Here we can see that most of the products which has been returned are form cluster_id 1 followed by 0  and 3 \n",
    "# and we have the lest number of retured products in cluster id 5 and 4.\n",
    "# and there are no return of products made in cluster id 2\n",
    "\n",
    "# so now lest check this in breaf"
   ]
  },
  {
   "cell_type": "code",
   "execution_count": 156,
   "id": "8ef1d0c1",
   "metadata": {},
   "outputs": [
    {
     "data": {
      "text/html": [
       "<div>\n",
       "<style scoped>\n",
       "    .dataframe tbody tr th:only-of-type {\n",
       "        vertical-align: middle;\n",
       "    }\n",
       "\n",
       "    .dataframe tbody tr th {\n",
       "        vertical-align: top;\n",
       "    }\n",
       "\n",
       "    .dataframe thead th {\n",
       "        text-align: right;\n",
       "    }\n",
       "</style>\n",
       "<table border=\"1\" class=\"dataframe\">\n",
       "  <thead>\n",
       "    <tr style=\"text-align: right;\">\n",
       "      <th></th>\n",
       "      <th>InvoiceNo</th>\n",
       "      <th>StockCode</th>\n",
       "      <th>Description</th>\n",
       "      <th>Quantity</th>\n",
       "      <th>UnitPrice</th>\n",
       "      <th>CustomerID</th>\n",
       "      <th>Country</th>\n",
       "      <th>Time</th>\n",
       "      <th>Cluster_Id</th>\n",
       "      <th>total_purchase_amount</th>\n",
       "    </tr>\n",
       "  </thead>\n",
       "  <tbody>\n",
       "    <tr>\n",
       "      <th>173277</th>\n",
       "      <td>C551685</td>\n",
       "      <td>POST</td>\n",
       "      <td>POSTAGE</td>\n",
       "      <td>-1</td>\n",
       "      <td>8142.75</td>\n",
       "      <td>16029.0</td>\n",
       "      <td>United Kingdom</td>\n",
       "      <td>6am-12pm</td>\n",
       "      <td>0</td>\n",
       "      <td>-8142.75</td>\n",
       "    </tr>\n",
       "    <tr>\n",
       "      <th>268027</th>\n",
       "      <td>C560372</td>\n",
       "      <td>M</td>\n",
       "      <td>Manual</td>\n",
       "      <td>-1</td>\n",
       "      <td>4287.63</td>\n",
       "      <td>17448.0</td>\n",
       "      <td>United Kingdom</td>\n",
       "      <td>6am-12pm</td>\n",
       "      <td>0</td>\n",
       "      <td>-4287.63</td>\n",
       "    </tr>\n",
       "    <tr>\n",
       "      <th>406404</th>\n",
       "      <td>C571750</td>\n",
       "      <td>M</td>\n",
       "      <td>Manual</td>\n",
       "      <td>-1</td>\n",
       "      <td>3949.32</td>\n",
       "      <td>12744.0</td>\n",
       "      <td>Singapore</td>\n",
       "      <td>6am-12pm</td>\n",
       "      <td>0</td>\n",
       "      <td>-3949.32</td>\n",
       "    </tr>\n",
       "    <tr>\n",
       "      <th>293842</th>\n",
       "      <td>C562647</td>\n",
       "      <td>M</td>\n",
       "      <td>Manual</td>\n",
       "      <td>-1</td>\n",
       "      <td>3155.95</td>\n",
       "      <td>15502.0</td>\n",
       "      <td>United Kingdom</td>\n",
       "      <td>6am-12pm</td>\n",
       "      <td>0</td>\n",
       "      <td>-3155.95</td>\n",
       "    </tr>\n",
       "    <tr>\n",
       "      <th>271151</th>\n",
       "      <td>C560647</td>\n",
       "      <td>M</td>\n",
       "      <td>Manual</td>\n",
       "      <td>-1</td>\n",
       "      <td>3060.60</td>\n",
       "      <td>18102.0</td>\n",
       "      <td>United Kingdom</td>\n",
       "      <td>6am-12pm</td>\n",
       "      <td>0</td>\n",
       "      <td>-3060.60</td>\n",
       "    </tr>\n",
       "  </tbody>\n",
       "</table>\n",
       "</div>"
      ],
      "text/plain": [
       "       InvoiceNo StockCode Description  Quantity  UnitPrice  CustomerID  \\\n",
       "173277   C551685      POST     POSTAGE        -1    8142.75     16029.0   \n",
       "268027   C560372         M      Manual        -1    4287.63     17448.0   \n",
       "406404   C571750         M      Manual        -1    3949.32     12744.0   \n",
       "293842   C562647         M      Manual        -1    3155.95     15502.0   \n",
       "271151   C560647         M      Manual        -1    3060.60     18102.0   \n",
       "\n",
       "               Country      Time  Cluster_Id  total_purchase_amount  \n",
       "173277  United Kingdom  6am-12pm           0               -8142.75  \n",
       "268027  United Kingdom  6am-12pm           0               -4287.63  \n",
       "406404       Singapore  6am-12pm           0               -3949.32  \n",
       "293842  United Kingdom  6am-12pm           0               -3155.95  \n",
       "271151  United Kingdom  6am-12pm           0               -3060.60  "
      ]
     },
     "execution_count": 156,
     "metadata": {},
     "output_type": "execute_result"
    }
   ],
   "source": [
    "NA = negative_rows[negative_rows[\"Cluster_Id\"]==0].sort_values(by = [\"Quantity\",\"UnitPrice\"],ascending = (False,False))\n",
    "negative_rows[negative_rows[\"Cluster_Id\"]==0].sort_values(by = [\"Quantity\",\"UnitPrice\"],ascending = (False,False)).head()"
   ]
  },
  {
   "cell_type": "code",
   "execution_count": 157,
   "id": "6ea93c62",
   "metadata": {},
   "outputs": [
    {
     "data": {
      "text/plain": [
       "3694"
      ]
     },
     "execution_count": 157,
     "metadata": {},
     "output_type": "execute_result"
    }
   ],
   "source": [
    "len(NA)"
   ]
  },
  {
   "cell_type": "code",
   "execution_count": 158,
   "id": "9189c41a",
   "metadata": {},
   "outputs": [
    {
     "data": {
      "text/plain": [
       "United Kingdom    3615\n",
       "Switzerland         18\n",
       "Spain               15\n",
       "USA                 11\n",
       "Portugal            10\n",
       "Malta                8\n",
       "Netherlands          7\n",
       "Poland               5\n",
       "Singapore            2\n",
       "Sweden               2\n",
       "Saudi Arabia         1\n",
       "Name: Country, dtype: int64"
      ]
     },
     "execution_count": 158,
     "metadata": {},
     "output_type": "execute_result"
    }
   ],
   "source": [
    "NA[\"Country\"].value_counts()"
   ]
  },
  {
   "cell_type": "code",
   "execution_count": 159,
   "id": "90375cf0",
   "metadata": {},
   "outputs": [
    {
     "data": {
      "text/plain": [
       "6am-12pm        3421\n",
       "6pm-Midnight     246\n",
       "Midnight-6am      27\n",
       "12pm-6pm           0\n",
       "Name: Time, dtype: int64"
      ]
     },
     "execution_count": 159,
     "metadata": {},
     "output_type": "execute_result"
    }
   ],
   "source": [
    "NA[\"Time\"].value_counts()"
   ]
  },
  {
   "cell_type": "code",
   "execution_count": 160,
   "id": "417bbeae",
   "metadata": {
    "scrolled": true
   },
   "outputs": [
    {
     "data": {
      "text/plain": [
       "Manual                                 77\n",
       "REGENCY CAKESTAND 3 TIER               71\n",
       "Discount                               50\n",
       "POSTAGE                                46\n",
       "JAM MAKING SET WITH JARS               39\n",
       "                                       ..\n",
       "DECORATIVE PLANT POT WITH FRIEZE        1\n",
       "WHITE BEADED GARLAND STRING 20LIGHT     1\n",
       "VINTAGE KEEPSAKE BOX PINK FLOWER        1\n",
       "VINTAGE UNION JACK DOORSTOP             1\n",
       "MIRROR MOSAIC T-LIGHT HOLDER            1\n",
       "Name: Description, Length: 1295, dtype: int64"
      ]
     },
     "execution_count": 160,
     "metadata": {},
     "output_type": "execute_result"
    }
   ],
   "source": [
    "NA[\"Description\"].value_counts()"
   ]
  },
  {
   "cell_type": "code",
   "execution_count": 161,
   "id": "b37276a2",
   "metadata": {},
   "outputs": [
    {
     "data": {
      "text/plain": [
       "1295"
      ]
     },
     "execution_count": 161,
     "metadata": {},
     "output_type": "execute_result"
    }
   ],
   "source": [
    "len(NA[\"Description\"].value_counts())"
   ]
  },
  {
   "cell_type": "code",
   "execution_count": 162,
   "id": "31142593",
   "metadata": {},
   "outputs": [
    {
     "ename": "SyntaxError",
     "evalue": "invalid syntax (3763858472.py, line 1)",
     "output_type": "error",
     "traceback": [
      "\u001b[1;36m  Input \u001b[1;32mIn [162]\u001b[1;36m\u001b[0m\n\u001b[1;33m    In cluster 0 we can see that most of the products are returned in UK followed by Switzerland and Spain\u001b[0m\n\u001b[1;37m       ^\u001b[0m\n\u001b[1;31mSyntaxError\u001b[0m\u001b[1;31m:\u001b[0m invalid syntax\n"
     ]
    }
   ],
   "source": [
    "In cluster 0 we can see that most of the products are returned in UK followed by Switzerland and Spain \n",
    "and least returned are from Saudi Arabia and Sweden.\n",
    "\n",
    "And most of them have returned at around 6am-12pm , 6pm-Midnight and least returned at the time of Midnight-6am\n",
    "and no return has been made on 12pm-6pm \n",
    "\n",
    "And most of the product which has been returned are \n",
    "REGENCY CAKESTAND 3 TIER \n",
    "Discount\n",
    "POSTAGE\n",
    "JAM MAKING SET WITH JARS\n",
    "\n",
    "And least  products which has been returned are \n",
    "\n",
    "DECORATIVE PLANT POT WITH FRIEZE \n",
    "WHITE BEADED GARLAND STRING 20LIGHT \n",
    "VINTAGE KEEPSAKE BOX PINK FLOWER \n",
    "VINTAGE UNION JACK DOORSTOP\n",
    "MIRROR MOSAIC T-LIGHT HOLDER\n",
    "\n"
   ]
  },
  {
   "cell_type": "code",
   "execution_count": 163,
   "id": "b6c60e61",
   "metadata": {},
   "outputs": [
    {
     "data": {
      "text/html": [
       "<div>\n",
       "<style scoped>\n",
       "    .dataframe tbody tr th:only-of-type {\n",
       "        vertical-align: middle;\n",
       "    }\n",
       "\n",
       "    .dataframe tbody tr th {\n",
       "        vertical-align: top;\n",
       "    }\n",
       "\n",
       "    .dataframe thead th {\n",
       "        text-align: right;\n",
       "    }\n",
       "</style>\n",
       "<table border=\"1\" class=\"dataframe\">\n",
       "  <thead>\n",
       "    <tr style=\"text-align: right;\">\n",
       "      <th></th>\n",
       "      <th>InvoiceNo</th>\n",
       "      <th>StockCode</th>\n",
       "      <th>Description</th>\n",
       "      <th>Quantity</th>\n",
       "      <th>UnitPrice</th>\n",
       "      <th>CustomerID</th>\n",
       "      <th>Country</th>\n",
       "      <th>Time</th>\n",
       "      <th>Cluster_Id</th>\n",
       "      <th>total_purchase_amount</th>\n",
       "    </tr>\n",
       "  </thead>\n",
       "  <tbody>\n",
       "    <tr>\n",
       "      <th>173391</th>\n",
       "      <td>C551699</td>\n",
       "      <td>M</td>\n",
       "      <td>Manual</td>\n",
       "      <td>-1</td>\n",
       "      <td>6930.00</td>\n",
       "      <td>16029.0</td>\n",
       "      <td>United Kingdom</td>\n",
       "      <td>12pm-6pm</td>\n",
       "      <td>1</td>\n",
       "      <td>-6930.00</td>\n",
       "    </tr>\n",
       "    <tr>\n",
       "      <th>144831</th>\n",
       "      <td>C548830</td>\n",
       "      <td>M</td>\n",
       "      <td>Manual</td>\n",
       "      <td>-1</td>\n",
       "      <td>2382.92</td>\n",
       "      <td>12744.0</td>\n",
       "      <td>Singapore</td>\n",
       "      <td>12pm-6pm</td>\n",
       "      <td>1</td>\n",
       "      <td>-2382.92</td>\n",
       "    </tr>\n",
       "    <tr>\n",
       "      <th>144834</th>\n",
       "      <td>C548834</td>\n",
       "      <td>M</td>\n",
       "      <td>Manual</td>\n",
       "      <td>-1</td>\n",
       "      <td>2053.07</td>\n",
       "      <td>12744.0</td>\n",
       "      <td>Singapore</td>\n",
       "      <td>12pm-6pm</td>\n",
       "      <td>1</td>\n",
       "      <td>-2053.07</td>\n",
       "    </tr>\n",
       "    <tr>\n",
       "      <th>150591</th>\n",
       "      <td>C549452</td>\n",
       "      <td>D</td>\n",
       "      <td>Discount</td>\n",
       "      <td>-1</td>\n",
       "      <td>1867.86</td>\n",
       "      <td>17940.0</td>\n",
       "      <td>United Kingdom</td>\n",
       "      <td>12pm-6pm</td>\n",
       "      <td>1</td>\n",
       "      <td>-1867.86</td>\n",
       "    </tr>\n",
       "    <tr>\n",
       "      <th>342996</th>\n",
       "      <td>C566925</td>\n",
       "      <td>M</td>\n",
       "      <td>Manual</td>\n",
       "      <td>-1</td>\n",
       "      <td>1829.84</td>\n",
       "      <td>12748.0</td>\n",
       "      <td>United Kingdom</td>\n",
       "      <td>12pm-6pm</td>\n",
       "      <td>1</td>\n",
       "      <td>-1829.84</td>\n",
       "    </tr>\n",
       "  </tbody>\n",
       "</table>\n",
       "</div>"
      ],
      "text/plain": [
       "       InvoiceNo StockCode Description  Quantity  UnitPrice  CustomerID  \\\n",
       "173391   C551699         M      Manual        -1    6930.00     16029.0   \n",
       "144831   C548830         M      Manual        -1    2382.92     12744.0   \n",
       "144834   C548834         M      Manual        -1    2053.07     12744.0   \n",
       "150591   C549452         D    Discount        -1    1867.86     17940.0   \n",
       "342996   C566925         M      Manual        -1    1829.84     12748.0   \n",
       "\n",
       "               Country      Time  Cluster_Id  total_purchase_amount  \n",
       "173391  United Kingdom  12pm-6pm           1               -6930.00  \n",
       "144831       Singapore  12pm-6pm           1               -2382.92  \n",
       "144834       Singapore  12pm-6pm           1               -2053.07  \n",
       "150591  United Kingdom  12pm-6pm           1               -1867.86  \n",
       "342996  United Kingdom  12pm-6pm           1               -1829.84  "
      ]
     },
     "execution_count": 163,
     "metadata": {},
     "output_type": "execute_result"
    }
   ],
   "source": [
    "NB = negative_rows[negative_rows[\"Cluster_Id\"]==1].sort_values(by = [\"Quantity\",\"UnitPrice\"],ascending = (False,False))\n",
    "negative_rows[negative_rows[\"Cluster_Id\"]==1].sort_values(by = [\"Quantity\",\"UnitPrice\"],ascending = (False,False)).head()"
   ]
  },
  {
   "cell_type": "code",
   "execution_count": 164,
   "id": "7de30ae4",
   "metadata": {},
   "outputs": [
    {
     "data": {
      "text/plain": [
       "4112"
      ]
     },
     "execution_count": 164,
     "metadata": {},
     "output_type": "execute_result"
    }
   ],
   "source": [
    "len(NB)"
   ]
  },
  {
   "cell_type": "code",
   "execution_count": 165,
   "id": "c49b219a",
   "metadata": {},
   "outputs": [
    {
     "data": {
      "text/plain": [
       "United Kingdom    3915\n",
       "USA                101\n",
       "Spain               33\n",
       "Switzerland         17\n",
       "Norway              11\n",
       "Sweden               9\n",
       "Portugal             8\n",
       "Malta                7\n",
       "Poland               6\n",
       "Singapore            5\n",
       "Name: Country, dtype: int64"
      ]
     },
     "execution_count": 165,
     "metadata": {},
     "output_type": "execute_result"
    }
   ],
   "source": [
    "NB[\"Country\"].value_counts()"
   ]
  },
  {
   "cell_type": "code",
   "execution_count": 166,
   "id": "d873b152",
   "metadata": {},
   "outputs": [
    {
     "data": {
      "text/plain": [
       "12pm-6pm        4112\n",
       "Midnight-6am       0\n",
       "6am-12pm           0\n",
       "6pm-Midnight       0\n",
       "Name: Time, dtype: int64"
      ]
     },
     "execution_count": 166,
     "metadata": {},
     "output_type": "execute_result"
    }
   ],
   "source": [
    "NB[\"Time\"].value_counts()"
   ]
  },
  {
   "cell_type": "code",
   "execution_count": 167,
   "id": "56c4d4e8",
   "metadata": {},
   "outputs": [
    {
     "data": {
      "text/plain": [
       "REGENCY CAKESTAND 3 TIER               81\n",
       "Manual                                 77\n",
       "JAM MAKING SET WITH JARS               33\n",
       "WOOD 2 DRAWER CABINET WHITE FINISH     31\n",
       "SET OF 3 CAKE TINS PANTRY DESIGN       29\n",
       "                                       ..\n",
       "HOT STUFF HOT WATER BOTTLE              1\n",
       "AFGHAN SLIPPER SOCK PAIR                1\n",
       "SET/4 MODERN VINTAGE COTTON NAPKINS     1\n",
       "RED CHARLIE+LOLA PERSONAL DOORSIGN      1\n",
       "VINTAGE BILLBOARD TEA MUG               1\n",
       "Name: Description, Length: 1381, dtype: int64"
      ]
     },
     "execution_count": 167,
     "metadata": {},
     "output_type": "execute_result"
    }
   ],
   "source": [
    "NB[\"Description\"].value_counts()"
   ]
  },
  {
   "cell_type": "code",
   "execution_count": 168,
   "id": "cf3bd665",
   "metadata": {},
   "outputs": [
    {
     "data": {
      "text/plain": [
       "1381"
      ]
     },
     "execution_count": 168,
     "metadata": {},
     "output_type": "execute_result"
    }
   ],
   "source": [
    "len(NB[\"Description\"].value_counts())"
   ]
  },
  {
   "cell_type": "code",
   "execution_count": 169,
   "id": "6a8369eb",
   "metadata": {},
   "outputs": [
    {
     "ename": "SyntaxError",
     "evalue": "invalid syntax (492249601.py, line 1)",
     "output_type": "error",
     "traceback": [
      "\u001b[1;36m  Input \u001b[1;32mIn [169]\u001b[1;36m\u001b[0m\n\u001b[1;33m    In cluster 1 we can see that most of the products are returned in UK followed by USA and Spain\u001b[0m\n\u001b[1;37m       ^\u001b[0m\n\u001b[1;31mSyntaxError\u001b[0m\u001b[1;31m:\u001b[0m invalid syntax\n"
     ]
    }
   ],
   "source": [
    "In cluster 1 we can see that most of the products are returned in UK followed by USA and Spain \n",
    "and least returned are from Singapore and Poland.\n",
    "\n",
    "And all of them have returned at around 12pm-6pm.\n",
    "\n",
    "And most of the product which has been returned are \n",
    "REGENCY CAKESTAND 3 TIER \n",
    "JAM MAKING SET WITH JARS \n",
    "WOOD 2 DRAWER CABINET WHITE FINISH \n",
    "SET OF 3 CAKE TINS PANTRY DESIGN \n",
    "\n",
    "And least  products which has been returned are \n",
    "\n",
    "HOT STUFF HOT WATER BOTTLE\n",
    "AFGHAN SLIPPER SOCK PAIR  \n",
    "SET/4 MODERN VINTAGE COTTON NAPKINS\n",
    "RED CHARLIE+LOLA PERSONAL DOORSIGN\n",
    "VINTAGE BILLBOARD TEA MUG \n"
   ]
  },
  {
   "cell_type": "code",
   "execution_count": 170,
   "id": "fa2b144c",
   "metadata": {},
   "outputs": [
    {
     "data": {
      "text/html": [
       "<div>\n",
       "<style scoped>\n",
       "    .dataframe tbody tr th:only-of-type {\n",
       "        vertical-align: middle;\n",
       "    }\n",
       "\n",
       "    .dataframe tbody tr th {\n",
       "        vertical-align: top;\n",
       "    }\n",
       "\n",
       "    .dataframe thead th {\n",
       "        text-align: right;\n",
       "    }\n",
       "</style>\n",
       "<table border=\"1\" class=\"dataframe\">\n",
       "  <thead>\n",
       "    <tr style=\"text-align: right;\">\n",
       "      <th></th>\n",
       "      <th>InvoiceNo</th>\n",
       "      <th>StockCode</th>\n",
       "      <th>Description</th>\n",
       "      <th>Quantity</th>\n",
       "      <th>UnitPrice</th>\n",
       "      <th>CustomerID</th>\n",
       "      <th>Country</th>\n",
       "      <th>Time</th>\n",
       "      <th>Cluster_Id</th>\n",
       "      <th>total_purchase_amount</th>\n",
       "    </tr>\n",
       "  </thead>\n",
       "  <tbody>\n",
       "    <tr>\n",
       "      <th>117052</th>\n",
       "      <td>C546325</td>\n",
       "      <td>M</td>\n",
       "      <td>Manual</td>\n",
       "      <td>-1</td>\n",
       "      <td>1687.17</td>\n",
       "      <td>14911.0</td>\n",
       "      <td>EIRE</td>\n",
       "      <td>6am-12pm</td>\n",
       "      <td>3</td>\n",
       "      <td>-1687.17</td>\n",
       "    </tr>\n",
       "    <tr>\n",
       "      <th>117053</th>\n",
       "      <td>C546327</td>\n",
       "      <td>M</td>\n",
       "      <td>Manual</td>\n",
       "      <td>-1</td>\n",
       "      <td>1687.17</td>\n",
       "      <td>14911.0</td>\n",
       "      <td>EIRE</td>\n",
       "      <td>6am-12pm</td>\n",
       "      <td>3</td>\n",
       "      <td>-1687.17</td>\n",
       "    </tr>\n",
       "    <tr>\n",
       "      <th>145832</th>\n",
       "      <td>C548914</td>\n",
       "      <td>M</td>\n",
       "      <td>Manual</td>\n",
       "      <td>-1</td>\n",
       "      <td>1136.30</td>\n",
       "      <td>12669.0</td>\n",
       "      <td>France</td>\n",
       "      <td>6am-12pm</td>\n",
       "      <td>3</td>\n",
       "      <td>-1136.30</td>\n",
       "    </tr>\n",
       "    <tr>\n",
       "      <th>297369</th>\n",
       "      <td>C562938</td>\n",
       "      <td>M</td>\n",
       "      <td>Manual</td>\n",
       "      <td>-1</td>\n",
       "      <td>1121.18</td>\n",
       "      <td>14156.0</td>\n",
       "      <td>EIRE</td>\n",
       "      <td>12pm-6pm</td>\n",
       "      <td>3</td>\n",
       "      <td>-1121.18</td>\n",
       "    </tr>\n",
       "    <tr>\n",
       "      <th>398147</th>\n",
       "      <td>C571220</td>\n",
       "      <td>M</td>\n",
       "      <td>Manual</td>\n",
       "      <td>-1</td>\n",
       "      <td>599.50</td>\n",
       "      <td>13810.0</td>\n",
       "      <td>Germany</td>\n",
       "      <td>12pm-6pm</td>\n",
       "      <td>3</td>\n",
       "      <td>-599.50</td>\n",
       "    </tr>\n",
       "  </tbody>\n",
       "</table>\n",
       "</div>"
      ],
      "text/plain": [
       "       InvoiceNo StockCode Description  Quantity  UnitPrice  CustomerID  \\\n",
       "117052   C546325         M      Manual        -1    1687.17     14911.0   \n",
       "117053   C546327         M      Manual        -1    1687.17     14911.0   \n",
       "145832   C548914         M      Manual        -1    1136.30     12669.0   \n",
       "297369   C562938         M      Manual        -1    1121.18     14156.0   \n",
       "398147   C571220         M      Manual        -1     599.50     13810.0   \n",
       "\n",
       "        Country      Time  Cluster_Id  total_purchase_amount  \n",
       "117052     EIRE  6am-12pm           3               -1687.17  \n",
       "117053     EIRE  6am-12pm           3               -1687.17  \n",
       "145832   France  6am-12pm           3               -1136.30  \n",
       "297369     EIRE  12pm-6pm           3               -1121.18  \n",
       "398147  Germany  12pm-6pm           3                -599.50  "
      ]
     },
     "execution_count": 170,
     "metadata": {},
     "output_type": "execute_result"
    }
   ],
   "source": [
    "NC = negative_rows[negative_rows[\"Cluster_Id\"]==3].sort_values(by = [\"Quantity\",\"UnitPrice\"],ascending = (False,False))\n",
    "negative_rows[negative_rows[\"Cluster_Id\"]==3].sort_values(by = [\"Quantity\",\"UnitPrice\"],ascending = (False,False)).head()"
   ]
  },
  {
   "cell_type": "code",
   "execution_count": 171,
   "id": "0ac6739f",
   "metadata": {},
   "outputs": [
    {
     "data": {
      "text/plain": [
       "1096"
      ]
     },
     "execution_count": 171,
     "metadata": {},
     "output_type": "execute_result"
    }
   ],
   "source": [
    "len(NC)"
   ]
  },
  {
   "cell_type": "code",
   "execution_count": 172,
   "id": "2d57bac7",
   "metadata": {},
   "outputs": [
    {
     "data": {
      "text/plain": [
       "Germany               453\n",
       "EIRE                  247\n",
       "France                149\n",
       "Australia              74\n",
       "Italy                  45\n",
       "Belgium                38\n",
       "Japan                  37\n",
       "Channel Islands        10\n",
       "Finland                10\n",
       "Denmark                 9\n",
       "Cyprus                  8\n",
       "Czech Republic          5\n",
       "Austria                 3\n",
       "Norway                  3\n",
       "Israel                  2\n",
       "Greece                  1\n",
       "European Community      1\n",
       "Netherlands             1\n",
       "Name: Country, dtype: int64"
      ]
     },
     "execution_count": 172,
     "metadata": {},
     "output_type": "execute_result"
    }
   ],
   "source": [
    "NC[\"Country\"].value_counts()"
   ]
  },
  {
   "cell_type": "code",
   "execution_count": 173,
   "id": "29d368a4",
   "metadata": {},
   "outputs": [
    {
     "data": {
      "text/plain": [
       "6am-12pm        583\n",
       "12pm-6pm        488\n",
       "Midnight-6am     13\n",
       "6pm-Midnight     12\n",
       "Name: Time, dtype: int64"
      ]
     },
     "execution_count": 173,
     "metadata": {},
     "output_type": "execute_result"
    }
   ],
   "source": [
    "NC[\"Time\"].value_counts()"
   ]
  },
  {
   "cell_type": "code",
   "execution_count": 174,
   "id": "be887a8d",
   "metadata": {},
   "outputs": [
    {
     "data": {
      "text/plain": [
       "REGENCY CAKESTAND 3 TIER               81\n",
       "Manual                                 77\n",
       "JAM MAKING SET WITH JARS               33\n",
       "WOOD 2 DRAWER CABINET WHITE FINISH     31\n",
       "SET OF 3 CAKE TINS PANTRY DESIGN       29\n",
       "                                       ..\n",
       "HOT STUFF HOT WATER BOTTLE              1\n",
       "AFGHAN SLIPPER SOCK PAIR                1\n",
       "SET/4 MODERN VINTAGE COTTON NAPKINS     1\n",
       "RED CHARLIE+LOLA PERSONAL DOORSIGN      1\n",
       "VINTAGE BILLBOARD TEA MUG               1\n",
       "Name: Description, Length: 1381, dtype: int64"
      ]
     },
     "execution_count": 174,
     "metadata": {},
     "output_type": "execute_result"
    }
   ],
   "source": [
    "NB[\"Description\"].value_counts()"
   ]
  },
  {
   "cell_type": "code",
   "execution_count": 175,
   "id": "9e92e105",
   "metadata": {},
   "outputs": [
    {
     "data": {
      "text/plain": [
       "1381"
      ]
     },
     "execution_count": 175,
     "metadata": {},
     "output_type": "execute_result"
    }
   ],
   "source": [
    "len(NB[\"Description\"].value_counts())"
   ]
  },
  {
   "cell_type": "markdown",
   "id": "14b74437",
   "metadata": {},
   "source": [
    "In cluster 3 we can see that most of the products are returned in Germany  followed by EIRE and France \n",
    "and least returned are from Netherlands and European Community.\n",
    "\n",
    "And most of them have returned at around 6am-12pm,12pm-6pm and least returned at the time of Midnight-6am and 6pm-Midnight .\n",
    "\n",
    "And most of the product which has been returned are \n",
    "REGENCY CAKESTAND 3 TIER \n",
    "JAM MAKING SET WITH JARS \n",
    "WOOD 2 DRAWER CABINET WHITE FINISH \n",
    "SET OF 3 CAKE TINS PANTRY DESIGN \n",
    "\n",
    "And least  products which has been returned are \n",
    "\n",
    "HOT STUFF HOT WATER BOTTLE\n",
    "AFGHAN SLIPPER SOCK PAIR  \n",
    "SET/4 MODERN VINTAGE COTTON NAPKINS\n",
    "RED CHARLIE+LOLA PERSONAL DOORSIGN\n",
    "VINTAGE BILLBOARD TEA MUG "
   ]
  },
  {
   "cell_type": "code",
   "execution_count": null,
   "id": "fe8b9d4a",
   "metadata": {},
   "outputs": [],
   "source": []
  }
 ],
 "metadata": {
  "kernelspec": {
   "display_name": "Python 3 (ipykernel)",
   "language": "python",
   "name": "python3"
  },
  "language_info": {
   "codemirror_mode": {
    "name": "ipython",
    "version": 3
   },
   "file_extension": ".py",
   "mimetype": "text/x-python",
   "name": "python",
   "nbconvert_exporter": "python",
   "pygments_lexer": "ipython3",
   "version": "3.9.12"
  }
 },
 "nbformat": 4,
 "nbformat_minor": 5
}
